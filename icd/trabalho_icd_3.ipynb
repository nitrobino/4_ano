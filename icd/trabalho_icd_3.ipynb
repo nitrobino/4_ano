{
 "cells": [
  {
   "cell_type": "code",
   "execution_count": 155,
   "metadata": {
    "ExecuteTime": {
     "end_time": "2021-01-13T18:39:01.439416Z",
     "start_time": "2021-01-13T18:39:01.429442Z"
    }
   },
   "outputs": [],
   "source": [
    "import numpy as np\n",
    "import pandas as pd\n",
    "import matplotlib.pyplot as plt\n",
    "import warnings\n",
    "import math \n",
    "from IPython.display import Image\n",
    "%matplotlib inline\n",
    "\n",
    "warnings.simplefilter('ignore')\n",
    "plt.style.use('ggplot')"
   ]
  },
  {
   "cell_type": "markdown",
   "metadata": {},
   "source": [
    "# Introdução"
   ]
  },
  {
   "cell_type": "markdown",
   "metadata": {},
   "source": [
    "Neste trabalho foi-nos proposto, no contexto da cadeira de Introdução à Ciência de dados (CC40XX), lecionada na Faculdade de Ciências da Universidade do Porto, utilizar as ferramentas e técnicas analíticas para manipulação e tratamento de dados adquiridas ao longo do semestre num problema real e que exige um balanço de várias competências da parte dos elementos do nosso grupo de trabalho.\n",
    "\n",
    "\n",
    "Começamos por identificar o problema que se nos deparou aquando da proposição do projeto. É-nos dito que são dados recolhidos do Real Hospital Português, no Brasil, devidamente anonimizados e éticamente aprovados. Também nos é dada a informação de que o principal objetivo é o de conseguir classificar a normalidade ou abnormalidade associada aos sintomas de crianças vítimas de uma doença cardiológica.\n",
    "\n",
    "\n",
    "Assim, identificamos este como sendo o business problem que nos é proposto. A organização que disponibiliza os dados para análise pretende conseguir ajudar o maior número de pacientes possível assegurando o melhor e mais personalizado tratamento.\n",
    "\n",
    "\n",
    "Em conluio com isto, o problema de análise de dados que nos compete solucionar é o de ser capaz de criar um, ou vários, modelos preditivos e assegurar a sua eficácia na classificação acertada da normalidade/abnormalidade sintomática."
   ]
  },
  {
   "cell_type": "markdown",
   "metadata": {},
   "source": [
    "# Raw Data"
   ]
  },
  {
   "cell_type": "code",
   "execution_count": 157,
   "metadata": {
    "ExecuteTime": {
     "end_time": "2021-01-13T18:43:45.544876Z",
     "start_time": "2021-01-13T18:43:43.714419Z"
    }
   },
   "outputs": [],
   "source": [
    "df = pd.read_excel('UCMF_2.xls')\n",
    "df = df[:16700]"
   ]
  },
  {
   "cell_type": "code",
   "execution_count": 158,
   "metadata": {
    "ExecuteTime": {
     "end_time": "2021-01-13T18:43:45.628370Z",
     "start_time": "2021-01-13T18:43:45.547869Z"
    }
   },
   "outputs": [
    {
     "name": "stdout",
     "output_type": "stream",
     "text": [
      "(16700, 21)\n"
     ]
    },
    {
     "data": {
      "text/html": [
       "<div>\n",
       "<style scoped>\n",
       "    .dataframe tbody tr th:only-of-type {\n",
       "        vertical-align: middle;\n",
       "    }\n",
       "\n",
       "    .dataframe tbody tr th {\n",
       "        vertical-align: top;\n",
       "    }\n",
       "\n",
       "    .dataframe thead th {\n",
       "        text-align: right;\n",
       "    }\n",
       "</style>\n",
       "<table border=\"1\" class=\"dataframe\">\n",
       "  <thead>\n",
       "    <tr style=\"text-align: right;\">\n",
       "      <th></th>\n",
       "      <th>ID</th>\n",
       "      <th>Peso</th>\n",
       "      <th>Altura</th>\n",
       "      <th>IMC</th>\n",
       "      <th>Atendimento</th>\n",
       "      <th>DN</th>\n",
       "      <th>IDADE</th>\n",
       "      <th>Convenio</th>\n",
       "      <th>PULSOS</th>\n",
       "      <th>PA SISTOLICA</th>\n",
       "      <th>...</th>\n",
       "      <th>PPA</th>\n",
       "      <th>NORMAL X ANORMAL</th>\n",
       "      <th>B2</th>\n",
       "      <th>SOPRO</th>\n",
       "      <th>FC</th>\n",
       "      <th>HDA 1</th>\n",
       "      <th>HDA2</th>\n",
       "      <th>SEXO</th>\n",
       "      <th>MOTIVO1</th>\n",
       "      <th>MOTIVO2</th>\n",
       "    </tr>\n",
       "  </thead>\n",
       "  <tbody>\n",
       "    <tr>\n",
       "      <th>0</th>\n",
       "      <td>1</td>\n",
       "      <td>5.0</td>\n",
       "      <td>51</td>\n",
       "      <td>19.0</td>\n",
       "      <td>11/05/06</td>\n",
       "      <td>30/03/06</td>\n",
       "      <td>0.12</td>\n",
       "      <td>GS</td>\n",
       "      <td>Normais</td>\n",
       "      <td>NaN</td>\n",
       "      <td>...</td>\n",
       "      <td>Não Calculado</td>\n",
       "      <td>Anormal</td>\n",
       "      <td>Normal</td>\n",
       "      <td>Sistólico</td>\n",
       "      <td>112</td>\n",
       "      <td>Palpitacao</td>\n",
       "      <td>NaN</td>\n",
       "      <td>M</td>\n",
       "      <td>6 - Suspeita de cardiopatia</td>\n",
       "      <td>6 - Palpitação/taquicardia/arritmia</td>\n",
       "    </tr>\n",
       "    <tr>\n",
       "      <th>1</th>\n",
       "      <td>2</td>\n",
       "      <td>3.5</td>\n",
       "      <td>50</td>\n",
       "      <td>14.0</td>\n",
       "      <td>25/05/05</td>\n",
       "      <td>19/05/05</td>\n",
       "      <td>0.02</td>\n",
       "      <td>GS</td>\n",
       "      <td>Normais</td>\n",
       "      <td>NaN</td>\n",
       "      <td>...</td>\n",
       "      <td>Não Calculado</td>\n",
       "      <td>Anormal</td>\n",
       "      <td>Normal</td>\n",
       "      <td>ausente</td>\n",
       "      <td>128</td>\n",
       "      <td>Dispneia</td>\n",
       "      <td>NaN</td>\n",
       "      <td>M</td>\n",
       "      <td>6 - Suspeita de cardiopatia</td>\n",
       "      <td>6 - Dispnéia</td>\n",
       "    </tr>\n",
       "    <tr>\n",
       "      <th>2</th>\n",
       "      <td>3</td>\n",
       "      <td>0.0</td>\n",
       "      <td>0</td>\n",
       "      <td>NaN</td>\n",
       "      <td>12/06/01</td>\n",
       "      <td>08/05/05</td>\n",
       "      <td>-4.05</td>\n",
       "      <td>SULA</td>\n",
       "      <td>Normais</td>\n",
       "      <td>NaN</td>\n",
       "      <td>...</td>\n",
       "      <td>Não Calculado</td>\n",
       "      <td>Anormal</td>\n",
       "      <td>Normal</td>\n",
       "      <td>Sistólico</td>\n",
       "      <td>88</td>\n",
       "      <td>Assintomático</td>\n",
       "      <td>NaN</td>\n",
       "      <td>M</td>\n",
       "      <td>2 - Check-up</td>\n",
       "      <td>NaN</td>\n",
       "    </tr>\n",
       "    <tr>\n",
       "      <th>3</th>\n",
       "      <td>4</td>\n",
       "      <td>8.1</td>\n",
       "      <td>65</td>\n",
       "      <td>19.0</td>\n",
       "      <td>15/10/09</td>\n",
       "      <td>21/04/09</td>\n",
       "      <td>0.5</td>\n",
       "      <td>NaN</td>\n",
       "      <td>Normais</td>\n",
       "      <td>NaN</td>\n",
       "      <td>...</td>\n",
       "      <td>Não Calculado</td>\n",
       "      <td>Anormal</td>\n",
       "      <td>Normal</td>\n",
       "      <td>ausente</td>\n",
       "      <td>92</td>\n",
       "      <td>Assintomático</td>\n",
       "      <td>NaN</td>\n",
       "      <td>M</td>\n",
       "      <td>5 - Parecer cardiológico</td>\n",
       "      <td>NaN</td>\n",
       "    </tr>\n",
       "    <tr>\n",
       "      <th>4</th>\n",
       "      <td>5</td>\n",
       "      <td>39.5</td>\n",
       "      <td>142</td>\n",
       "      <td>20.0</td>\n",
       "      <td>23/01/09</td>\n",
       "      <td>24/10/99</td>\n",
       "      <td>9.6</td>\n",
       "      <td>Sulam</td>\n",
       "      <td>Normais</td>\n",
       "      <td>85.0</td>\n",
       "      <td>...</td>\n",
       "      <td>Normal</td>\n",
       "      <td>Anormal</td>\n",
       "      <td>Normal</td>\n",
       "      <td>ausente</td>\n",
       "      <td>90</td>\n",
       "      <td>NaN</td>\n",
       "      <td>NaN</td>\n",
       "      <td>M</td>\n",
       "      <td>5 - Parecer cardiológico</td>\n",
       "      <td>5 - Atividade física</td>\n",
       "    </tr>\n",
       "  </tbody>\n",
       "</table>\n",
       "<p>5 rows × 21 columns</p>\n",
       "</div>"
      ],
      "text/plain": [
       "   ID  Peso  Altura   IMC Atendimento        DN IDADE Convenio   PULSOS  \\\n",
       "0   1   5.0      51  19.0    11/05/06  30/03/06  0.12       GS  Normais   \n",
       "1   2   3.5      50  14.0    25/05/05  19/05/05  0.02       GS  Normais   \n",
       "2   3   0.0       0   NaN    12/06/01  08/05/05 -4.05     SULA  Normais   \n",
       "3   4   8.1      65  19.0    15/10/09  21/04/09   0.5      NaN  Normais   \n",
       "4   5  39.5     142  20.0    23/01/09  24/10/99   9.6    Sulam  Normais   \n",
       "\n",
       "   PA SISTOLICA  ...            PPA NORMAL X ANORMAL      B2      SOPRO   FC  \\\n",
       "0           NaN  ...  Não Calculado          Anormal  Normal  Sistólico  112   \n",
       "1           NaN  ...  Não Calculado          Anormal  Normal    ausente  128   \n",
       "2           NaN  ...  Não Calculado          Anormal  Normal  Sistólico   88   \n",
       "3           NaN  ...  Não Calculado          Anormal  Normal    ausente   92   \n",
       "4          85.0  ...         Normal          Anormal  Normal    ausente   90   \n",
       "\n",
       "           HDA 1 HDA2 SEXO                      MOTIVO1  \\\n",
       "0     Palpitacao  NaN    M  6 - Suspeita de cardiopatia   \n",
       "1       Dispneia  NaN    M  6 - Suspeita de cardiopatia   \n",
       "2  Assintomático  NaN    M                 2 - Check-up   \n",
       "3  Assintomático  NaN    M     5 - Parecer cardiológico   \n",
       "4            NaN  NaN    M     5 - Parecer cardiológico   \n",
       "\n",
       "                               MOTIVO2  \n",
       "0  6 - Palpitação/taquicardia/arritmia  \n",
       "1                         6 - Dispnéia  \n",
       "2                                  NaN  \n",
       "3                                  NaN  \n",
       "4                 5 - Atividade física  \n",
       "\n",
       "[5 rows x 21 columns]"
      ]
     },
     "execution_count": 158,
     "metadata": {},
     "output_type": "execute_result"
    }
   ],
   "source": [
    "print(df.shape)\n",
    "df.head(5)"
   ]
  },
  {
   "cell_type": "markdown",
   "metadata": {},
   "source": [
    "Os dados foram-nos apresentados em formato Excel, organizados em 17872 linhas\n",
    "e 21 colunas devidamente rotuladas. Numa fase inicial analisamos que tipo de informação nos era transmitida por cada coluna, categorizando as features."
   ]
  },
  {
   "cell_type": "code",
   "execution_count": 159,
   "metadata": {
    "ExecuteTime": {
     "end_time": "2021-01-13T18:43:48.600803Z",
     "start_time": "2021-01-13T18:43:48.591866Z"
    }
   },
   "outputs": [
    {
     "data": {
      "image/png": "[encoded data removed]",
      "text/plain": [
       "<IPython.core.display.Image object>"
      ]
     },
     "execution_count": 159,
     "metadata": {},
     "output_type": "execute_result"
    }
   ],
   "source": [
    "Image('tabela.png')"
   ]
  },
  {
   "cell_type": "markdown",
   "metadata": {},
   "source": [
    "Após uma inspeção mais detalhada notamos que a maioria dos atributos rotulados com object têm uma mistura de vários tipos de dados. Por exemplo, associados ao atributo FC temos dados do tipo \"int64\" correspondentesa uma medição da frequência cardáica, e do tipo \"string\", correspondentes a um intervalo de valores, certamente devidos a imprecisão ou insegurança por parte do profissional de saúde na avaliação do paciente. \n",
    "\n",
    "Este será portanto um desafio para a fase de pré-processamento, tendo sido discutidas várias abordagens para a sua resolução como veremos na subsecção seguinte."
   ]
  },
  {
   "cell_type": "markdown",
   "metadata": {},
   "source": [
    "# Data Pre-processing"
   ]
  },
  {
   "cell_type": "markdown",
   "metadata": {},
   "source": [
    "Nesta secção, apresentamos as alterações feitas aos dados em prol de facilitar\n",
    "a sua análise e melhorar a eficácia da sua  classificação. \n",
    "Começamos por eliminar colunas irrelevantes para o problema de classificação em questão: visto que procuramos prever a variável \"NORMAL X ANORMAL\", que diz respeito a problemas de saúde físicos, podemos imediatamente eliminar as colunas \"ID\" e \"CONVENIO\", assumindo que nem a identificação nem o tipo de seguro de saúde do indivíduo afetam a sua saúde."
   ]
  },
  {
   "cell_type": "code",
   "execution_count": 160,
   "metadata": {
    "ExecuteTime": {
     "end_time": "2021-01-13T18:43:49.283923Z",
     "start_time": "2021-01-13T18:43:49.271955Z"
    }
   },
   "outputs": [],
   "source": [
    "df = df.drop(columns = 'ID')\n",
    "df = df.drop(columns = 'Convenio')"
   ]
  },
  {
   "cell_type": "markdown",
   "metadata": {},
   "source": [
    "Para o que se segue, será útil representar o número de valores \"NA\" por coluna espalhados pela nossa base de dados , dado que estes valores terão de ser eliminados ou substituídos para procedermos à análise e previsão."
   ]
  },
  {
   "cell_type": "code",
   "execution_count": 161,
   "metadata": {
    "ExecuteTime": {
     "end_time": "2021-01-13T18:43:49.551209Z",
     "start_time": "2021-01-13T18:43:49.534253Z"
    }
   },
   "outputs": [
    {
     "data": {
      "text/plain": [
       "Peso                  298\n",
       "Altura                  0\n",
       "IMC                  4402\n",
       "Atendimento           925\n",
       "DN                   1284\n",
       "IDADE                1284\n",
       "PULSOS               1130\n",
       "PA SISTOLICA         7297\n",
       "PA DIASTOLICA        7307\n",
       "PPA                   217\n",
       "NORMAL X ANORMAL     1101\n",
       "B2                   1107\n",
       "SOPRO                1099\n",
       "FC                   1804\n",
       "HDA 1                5066\n",
       "HDA2                16084\n",
       "SEXO                    0\n",
       "MOTIVO1              1033\n",
       "MOTIVO2              4468\n",
       "dtype: int64"
      ]
     },
     "execution_count": 161,
     "metadata": {},
     "output_type": "execute_result"
    }
   ],
   "source": [
    "df.isna().sum()"
   ]
  },
  {
   "cell_type": "markdown",
   "metadata": {},
   "source": [
    "Podemos imediatamente eliminar a coluna correspondente a HDA2, pois está preenchida quase por completo por NAs."
   ]
  },
  {
   "cell_type": "code",
   "execution_count": 162,
   "metadata": {
    "ExecuteTime": {
     "end_time": "2021-01-13T18:43:49.754663Z",
     "start_time": "2021-01-13T18:43:49.746698Z"
    }
   },
   "outputs": [],
   "source": [
    "df = df.drop(columns='HDA2')"
   ]
  },
  {
   "cell_type": "markdown",
   "metadata": {},
   "source": [
    "# Idade"
   ]
  },
  {
   "cell_type": "markdown",
   "metadata": {},
   "source": [
    "Na tabela acima, vemos que a idade tem 1284 valoes de \"NA\". Dado que estamos a tratar de dados de cardiologia pediátrica, podemos argumentar \\textit{a priori} que a idade é um fator de elevada importância na previsão de anomalias cardíacas, visto que têm um grande papel no cálculo do IMC e nos percentis de pressão arterial que permitem consequentemente o diagnóstico de, por exemplo,  hipertensão arterial. Deste Com isto em vista, estaríamos a introduzir correlação indesejável se substituíssemos os valores de NA da idade por outros, sendo que é preferível eliminar estas entradas. Por sorte, vemos que ao eliminar estas entradas acabamos por eliminar também uma grande quantidade de NA's de outras colunas, indicando que isto é uma boa decisão"
   ]
  },
  {
   "cell_type": "code",
   "execution_count": 163,
   "metadata": {
    "ExecuteTime": {
     "end_time": "2021-01-13T18:43:50.137967Z",
     "start_time": "2021-01-13T18:43:50.074119Z"
    }
   },
   "outputs": [
    {
     "data": {
      "text/plain": [
       "Peso                0.013423\n",
       "IMC                 0.234666\n",
       "Atendimento         0.950270\n",
       "DN                  1.000000\n",
       "IDADE               1.000000\n",
       "PULSOS              0.659292\n",
       "PA SISTOLICA        0.147184\n",
       "PA DIASTOLICA       0.147119\n",
       "PPA                 0.000000\n",
       "NORMAL X ANORMAL    0.673933\n",
       "B2                  0.670280\n",
       "SOPRO               0.672429\n",
       "FC                  0.438470\n",
       "HDA 1               0.198184\n",
       "MOTIVO1             0.848984\n",
       "MOTIVO2             0.224485\n",
       "dtype: float64"
      ]
     },
     "execution_count": 163,
     "metadata": {},
     "output_type": "execute_result"
    }
   ],
   "source": [
    "df1 = df.drop(index = df.loc[(df['IDADE'].isna()) | (df['IDADE'] == '#VALUE!') ].index)\n",
    "(df.drop(columns = ['Altura','SEXO']).isna().sum() - df1.drop(columns = ['Altura','SEXO']).isna().sum())/df.drop(columns = ['Altura','SEXO']).isna().sum()"
   ]
  },
  {
   "cell_type": "markdown",
   "metadata": {},
   "source": [
    "eliminando os NA's da idade, conseguimos também eliminar vários valores NA's de outras colunas, sendo de particular importância os 67% de NA's eliminados na variável \"NORMAL X ANORMAL\""
   ]
  },
  {
   "cell_type": "code",
   "execution_count": 164,
   "metadata": {
    "ExecuteTime": {
     "end_time": "2021-01-13T18:43:50.310122Z",
     "start_time": "2021-01-13T18:43:50.286185Z"
    }
   },
   "outputs": [],
   "source": [
    "df.drop(index = df.loc[df['IDADE'].isna()].index, inplace = True)\n",
    "df.drop(index = df.loc[df['IDADE'] == '#VALUE!'].index, inplace = True)"
   ]
  },
  {
   "cell_type": "code",
   "execution_count": 165,
   "metadata": {
    "ExecuteTime": {
     "end_time": "2021-01-13T18:43:50.408564Z",
     "start_time": "2021-01-13T18:43:50.380637Z"
    }
   },
   "outputs": [
    {
     "data": {
      "text/html": [
       "<div>\n",
       "<style scoped>\n",
       "    .dataframe tbody tr th:only-of-type {\n",
       "        vertical-align: middle;\n",
       "    }\n",
       "\n",
       "    .dataframe tbody tr th {\n",
       "        vertical-align: top;\n",
       "    }\n",
       "\n",
       "    .dataframe thead th {\n",
       "        text-align: right;\n",
       "    }\n",
       "</style>\n",
       "<table border=\"1\" class=\"dataframe\">\n",
       "  <thead>\n",
       "    <tr style=\"text-align: right;\">\n",
       "      <th></th>\n",
       "      <th>Peso</th>\n",
       "      <th>Altura</th>\n",
       "      <th>IMC</th>\n",
       "      <th>Atendimento</th>\n",
       "      <th>DN</th>\n",
       "      <th>IDADE</th>\n",
       "      <th>PULSOS</th>\n",
       "      <th>PA SISTOLICA</th>\n",
       "      <th>PA DIASTOLICA</th>\n",
       "      <th>PPA</th>\n",
       "      <th>NORMAL X ANORMAL</th>\n",
       "      <th>B2</th>\n",
       "      <th>SOPRO</th>\n",
       "      <th>FC</th>\n",
       "      <th>HDA 1</th>\n",
       "      <th>SEXO</th>\n",
       "      <th>MOTIVO1</th>\n",
       "      <th>MOTIVO2</th>\n",
       "    </tr>\n",
       "  </thead>\n",
       "  <tbody>\n",
       "    <tr>\n",
       "      <th>0</th>\n",
       "      <td>5.0</td>\n",
       "      <td>51</td>\n",
       "      <td>19.0</td>\n",
       "      <td>11/05/06</td>\n",
       "      <td>30/03/06</td>\n",
       "      <td>0.12</td>\n",
       "      <td>Normais</td>\n",
       "      <td>NaN</td>\n",
       "      <td>NaN</td>\n",
       "      <td>Não Calculado</td>\n",
       "      <td>Anormal</td>\n",
       "      <td>Normal</td>\n",
       "      <td>Sistólico</td>\n",
       "      <td>112</td>\n",
       "      <td>Palpitacao</td>\n",
       "      <td>M</td>\n",
       "      <td>6 - Suspeita de cardiopatia</td>\n",
       "      <td>6 - Palpitação/taquicardia/arritmia</td>\n",
       "    </tr>\n",
       "    <tr>\n",
       "      <th>1</th>\n",
       "      <td>3.5</td>\n",
       "      <td>50</td>\n",
       "      <td>14.0</td>\n",
       "      <td>25/05/05</td>\n",
       "      <td>19/05/05</td>\n",
       "      <td>0.02</td>\n",
       "      <td>Normais</td>\n",
       "      <td>NaN</td>\n",
       "      <td>NaN</td>\n",
       "      <td>Não Calculado</td>\n",
       "      <td>Anormal</td>\n",
       "      <td>Normal</td>\n",
       "      <td>ausente</td>\n",
       "      <td>128</td>\n",
       "      <td>Dispneia</td>\n",
       "      <td>M</td>\n",
       "      <td>6 - Suspeita de cardiopatia</td>\n",
       "      <td>6 - Dispnéia</td>\n",
       "    </tr>\n",
       "    <tr>\n",
       "      <th>2</th>\n",
       "      <td>0.0</td>\n",
       "      <td>0</td>\n",
       "      <td>NaN</td>\n",
       "      <td>12/06/01</td>\n",
       "      <td>08/05/05</td>\n",
       "      <td>-4.05</td>\n",
       "      <td>Normais</td>\n",
       "      <td>NaN</td>\n",
       "      <td>NaN</td>\n",
       "      <td>Não Calculado</td>\n",
       "      <td>Anormal</td>\n",
       "      <td>Normal</td>\n",
       "      <td>Sistólico</td>\n",
       "      <td>88</td>\n",
       "      <td>Assintomático</td>\n",
       "      <td>M</td>\n",
       "      <td>2 - Check-up</td>\n",
       "      <td>NaN</td>\n",
       "    </tr>\n",
       "    <tr>\n",
       "      <th>3</th>\n",
       "      <td>8.1</td>\n",
       "      <td>65</td>\n",
       "      <td>19.0</td>\n",
       "      <td>15/10/09</td>\n",
       "      <td>21/04/09</td>\n",
       "      <td>0.5</td>\n",
       "      <td>Normais</td>\n",
       "      <td>NaN</td>\n",
       "      <td>NaN</td>\n",
       "      <td>Não Calculado</td>\n",
       "      <td>Anormal</td>\n",
       "      <td>Normal</td>\n",
       "      <td>ausente</td>\n",
       "      <td>92</td>\n",
       "      <td>Assintomático</td>\n",
       "      <td>M</td>\n",
       "      <td>5 - Parecer cardiológico</td>\n",
       "      <td>NaN</td>\n",
       "    </tr>\n",
       "    <tr>\n",
       "      <th>4</th>\n",
       "      <td>39.5</td>\n",
       "      <td>142</td>\n",
       "      <td>20.0</td>\n",
       "      <td>23/01/09</td>\n",
       "      <td>24/10/99</td>\n",
       "      <td>9.6</td>\n",
       "      <td>Normais</td>\n",
       "      <td>85.0</td>\n",
       "      <td>50.0</td>\n",
       "      <td>Normal</td>\n",
       "      <td>Anormal</td>\n",
       "      <td>Normal</td>\n",
       "      <td>ausente</td>\n",
       "      <td>90</td>\n",
       "      <td>NaN</td>\n",
       "      <td>M</td>\n",
       "      <td>5 - Parecer cardiológico</td>\n",
       "      <td>5 - Atividade física</td>\n",
       "    </tr>\n",
       "  </tbody>\n",
       "</table>\n",
       "</div>"
      ],
      "text/plain": [
       "   Peso  Altura   IMC Atendimento        DN IDADE   PULSOS  PA SISTOLICA  \\\n",
       "0   5.0      51  19.0    11/05/06  30/03/06  0.12  Normais           NaN   \n",
       "1   3.5      50  14.0    25/05/05  19/05/05  0.02  Normais           NaN   \n",
       "2   0.0       0   NaN    12/06/01  08/05/05 -4.05  Normais           NaN   \n",
       "3   8.1      65  19.0    15/10/09  21/04/09   0.5  Normais           NaN   \n",
       "4  39.5     142  20.0    23/01/09  24/10/99   9.6  Normais          85.0   \n",
       "\n",
       "   PA DIASTOLICA            PPA NORMAL X ANORMAL      B2      SOPRO   FC  \\\n",
       "0            NaN  Não Calculado          Anormal  Normal  Sistólico  112   \n",
       "1            NaN  Não Calculado          Anormal  Normal    ausente  128   \n",
       "2            NaN  Não Calculado          Anormal  Normal  Sistólico   88   \n",
       "3            NaN  Não Calculado          Anormal  Normal    ausente   92   \n",
       "4           50.0         Normal          Anormal  Normal    ausente   90   \n",
       "\n",
       "           HDA 1 SEXO                      MOTIVO1  \\\n",
       "0     Palpitacao    M  6 - Suspeita de cardiopatia   \n",
       "1       Dispneia    M  6 - Suspeita de cardiopatia   \n",
       "2  Assintomático    M                 2 - Check-up   \n",
       "3  Assintomático    M     5 - Parecer cardiológico   \n",
       "4            NaN    M     5 - Parecer cardiológico   \n",
       "\n",
       "                               MOTIVO2  \n",
       "0  6 - Palpitação/taquicardia/arritmia  \n",
       "1                         6 - Dispnéia  \n",
       "2                                  NaN  \n",
       "3                                  NaN  \n",
       "4                 5 - Atividade física  "
      ]
     },
     "execution_count": 165,
     "metadata": {},
     "output_type": "execute_result"
    }
   ],
   "source": [
    "df.head(5)"
   ]
  },
  {
   "cell_type": "markdown",
   "metadata": {},
   "source": [
    "Olhando para o df.head(5), reparamos numa particularidade -  temos valores de idade negativos! O valor da idade é obtido pela diferença entre a data de nacimento ('DN') e a data de atendimento ('Atendimento'), ou seja, temos uma coluna redundante (não adiciona mais informação). Porque é mais fácil trabalhar com dados no formato de números inteiros, vamos preservar a coluna correspondente à idade (depois de corrigirmos o 'bug' dos valores negativos) e a data de atendimento."
   ]
  },
  {
   "cell_type": "code",
   "execution_count": 166,
   "metadata": {
    "ExecuteTime": {
     "end_time": "2021-01-13T18:43:50.647253Z",
     "start_time": "2021-01-13T18:43:50.639273Z"
    }
   },
   "outputs": [],
   "source": [
    "df['IDADE'] = df['IDADE'].abs()"
   ]
  },
  {
   "cell_type": "markdown",
   "metadata": {},
   "source": [
    "Vamos representar os valores da coluna \"IDADE\" com um boxplot:"
   ]
  },
  {
   "cell_type": "code",
   "execution_count": 167,
   "metadata": {
    "ExecuteTime": {
     "end_time": "2021-01-13T18:43:51.024772Z",
     "start_time": "2021-01-13T18:43:50.865216Z"
    }
   },
   "outputs": [
    {
     "data": {
      "text/plain": [
       "<AxesSubplot:>"
      ]
     },
     "execution_count": 167,
     "metadata": {},
     "output_type": "execute_result"
    },
    {
     "data": {
      "image/png": "[encoded data removed]",
      "text/plain": [
       "<Figure size 432x288 with 1 Axes>"
      ]
     },
     "metadata": {},
     "output_type": "display_data"
    }
   ],
   "source": [
    "df['IDADE'].plot.box()"
   ]
  },
  {
   "cell_type": "markdown",
   "metadata": {},
   "source": [
    "Identificamos uma gama de $\\textit{outliers}$ que se estende desde os 20 aos 120 anos. para identificar o problema, vamos ver as colunas \"Atendimento\" e \"DN\" para idades acima dos 50 anos:"
   ]
  },
  {
   "cell_type": "code",
   "execution_count": 168,
   "metadata": {
    "ExecuteTime": {
     "end_time": "2021-01-13T18:43:51.150474Z",
     "start_time": "2021-01-13T18:43:51.128496Z"
    }
   },
   "outputs": [
    {
     "data": {
      "text/html": [
       "<div>\n",
       "<style scoped>\n",
       "    .dataframe tbody tr th:only-of-type {\n",
       "        vertical-align: middle;\n",
       "    }\n",
       "\n",
       "    .dataframe tbody tr th {\n",
       "        vertical-align: top;\n",
       "    }\n",
       "\n",
       "    .dataframe thead th {\n",
       "        text-align: right;\n",
       "    }\n",
       "</style>\n",
       "<table border=\"1\" class=\"dataframe\">\n",
       "  <thead>\n",
       "    <tr style=\"text-align: right;\">\n",
       "      <th></th>\n",
       "      <th>Atendimento</th>\n",
       "      <th>DN</th>\n",
       "    </tr>\n",
       "  </thead>\n",
       "  <tbody>\n",
       "    <tr>\n",
       "      <th>589</th>\n",
       "      <td>NaN</td>\n",
       "      <td>17/10/02</td>\n",
       "    </tr>\n",
       "    <tr>\n",
       "      <th>1213</th>\n",
       "      <td>NaN</td>\n",
       "      <td>07/01/08</td>\n",
       "    </tr>\n",
       "    <tr>\n",
       "      <th>1576</th>\n",
       "      <td>NaN</td>\n",
       "      <td>36973</td>\n",
       "    </tr>\n",
       "    <tr>\n",
       "      <th>1707</th>\n",
       "      <td>NaN</td>\n",
       "      <td>35493</td>\n",
       "    </tr>\n",
       "    <tr>\n",
       "      <th>2646</th>\n",
       "      <td>NaN</td>\n",
       "      <td>05/05/05</td>\n",
       "    </tr>\n",
       "    <tr>\n",
       "      <th>2789</th>\n",
       "      <td>NaN</td>\n",
       "      <td>19/05/08</td>\n",
       "    </tr>\n",
       "    <tr>\n",
       "      <th>2803</th>\n",
       "      <td>07/12/07</td>\n",
       "      <td>01/03/55</td>\n",
       "    </tr>\n",
       "    <tr>\n",
       "      <th>3366</th>\n",
       "      <td>NaN</td>\n",
       "      <td>25/10/00</td>\n",
       "    </tr>\n",
       "    <tr>\n",
       "      <th>3417</th>\n",
       "      <td>NaN</td>\n",
       "      <td>34704</td>\n",
       "    </tr>\n",
       "    <tr>\n",
       "      <th>3453</th>\n",
       "      <td>NaN</td>\n",
       "      <td>38666</td>\n",
       "    </tr>\n",
       "    <tr>\n",
       "      <th>3898</th>\n",
       "      <td>NaN</td>\n",
       "      <td>36558</td>\n",
       "    </tr>\n",
       "    <tr>\n",
       "      <th>4145</th>\n",
       "      <td>NaN</td>\n",
       "      <td>15/10/94</td>\n",
       "    </tr>\n",
       "    <tr>\n",
       "      <th>4577</th>\n",
       "      <td>NaN</td>\n",
       "      <td>10/11/94</td>\n",
       "    </tr>\n",
       "    <tr>\n",
       "      <th>4878</th>\n",
       "      <td>NaN</td>\n",
       "      <td>30/11/95</td>\n",
       "    </tr>\n",
       "    <tr>\n",
       "      <th>5222</th>\n",
       "      <td>NaN</td>\n",
       "      <td>07/03/06</td>\n",
       "    </tr>\n",
       "    <tr>\n",
       "      <th>5350</th>\n",
       "      <td>NaN</td>\n",
       "      <td>38428</td>\n",
       "    </tr>\n",
       "    <tr>\n",
       "      <th>5353</th>\n",
       "      <td>NaN</td>\n",
       "      <td>04/03/97</td>\n",
       "    </tr>\n",
       "    <tr>\n",
       "      <th>5686</th>\n",
       "      <td>NaN</td>\n",
       "      <td>35410</td>\n",
       "    </tr>\n",
       "    <tr>\n",
       "      <th>5937</th>\n",
       "      <td>NaN</td>\n",
       "      <td>12/12/06</td>\n",
       "    </tr>\n",
       "    <tr>\n",
       "      <th>6224</th>\n",
       "      <td>NaN</td>\n",
       "      <td>23/07/04</td>\n",
       "    </tr>\n",
       "    <tr>\n",
       "      <th>7092</th>\n",
       "      <td>NaN</td>\n",
       "      <td>23/06/97</td>\n",
       "    </tr>\n",
       "    <tr>\n",
       "      <th>7404</th>\n",
       "      <td>NaN</td>\n",
       "      <td>09/06/08</td>\n",
       "    </tr>\n",
       "    <tr>\n",
       "      <th>8640</th>\n",
       "      <td>NaN</td>\n",
       "      <td>23/01/08</td>\n",
       "    </tr>\n",
       "    <tr>\n",
       "      <th>9044</th>\n",
       "      <td>NaN</td>\n",
       "      <td>24/01/05</td>\n",
       "    </tr>\n",
       "    <tr>\n",
       "      <th>9132</th>\n",
       "      <td>NaN</td>\n",
       "      <td>08/01/96</td>\n",
       "    </tr>\n",
       "    <tr>\n",
       "      <th>9547</th>\n",
       "      <td>NaN</td>\n",
       "      <td>15/04/90</td>\n",
       "    </tr>\n",
       "    <tr>\n",
       "      <th>9583</th>\n",
       "      <td>NaN</td>\n",
       "      <td>15/03/93</td>\n",
       "    </tr>\n",
       "    <tr>\n",
       "      <th>9829</th>\n",
       "      <td>NaN</td>\n",
       "      <td>10/04/06</td>\n",
       "    </tr>\n",
       "    <tr>\n",
       "      <th>9952</th>\n",
       "      <td>NaN</td>\n",
       "      <td>06/06/91</td>\n",
       "    </tr>\n",
       "    <tr>\n",
       "      <th>10638</th>\n",
       "      <td>NaN</td>\n",
       "      <td>24/05/05</td>\n",
       "    </tr>\n",
       "    <tr>\n",
       "      <th>11472</th>\n",
       "      <td>NaN</td>\n",
       "      <td>24/02/01</td>\n",
       "    </tr>\n",
       "    <tr>\n",
       "      <th>12115</th>\n",
       "      <td>NaN</td>\n",
       "      <td>01/01/09</td>\n",
       "    </tr>\n",
       "    <tr>\n",
       "      <th>12148</th>\n",
       "      <td>NaN</td>\n",
       "      <td>08/06/92</td>\n",
       "    </tr>\n",
       "    <tr>\n",
       "      <th>12742</th>\n",
       "      <td>NaN</td>\n",
       "      <td>01/05/99</td>\n",
       "    </tr>\n",
       "    <tr>\n",
       "      <th>12846</th>\n",
       "      <td>18/06/08</td>\n",
       "      <td>31/05/40</td>\n",
       "    </tr>\n",
       "    <tr>\n",
       "      <th>13427</th>\n",
       "      <td>NaN</td>\n",
       "      <td>19/11/08</td>\n",
       "    </tr>\n",
       "    <tr>\n",
       "      <th>13586</th>\n",
       "      <td>NaN</td>\n",
       "      <td>21/09/06</td>\n",
       "    </tr>\n",
       "    <tr>\n",
       "      <th>13881</th>\n",
       "      <td>NaN</td>\n",
       "      <td>22/04/98</td>\n",
       "    </tr>\n",
       "    <tr>\n",
       "      <th>14190</th>\n",
       "      <td>NaN</td>\n",
       "      <td>17/09/92</td>\n",
       "    </tr>\n",
       "    <tr>\n",
       "      <th>14473</th>\n",
       "      <td>NaN</td>\n",
       "      <td>18/04/93</td>\n",
       "    </tr>\n",
       "    <tr>\n",
       "      <th>14491</th>\n",
       "      <td>NaN</td>\n",
       "      <td>15/03/99</td>\n",
       "    </tr>\n",
       "    <tr>\n",
       "      <th>14709</th>\n",
       "      <td>07/02/06</td>\n",
       "      <td>24/11/36</td>\n",
       "    </tr>\n",
       "    <tr>\n",
       "      <th>15096</th>\n",
       "      <td>NaN</td>\n",
       "      <td>19/05/08</td>\n",
       "    </tr>\n",
       "    <tr>\n",
       "      <th>15439</th>\n",
       "      <td>NaN</td>\n",
       "      <td>31/03/03</td>\n",
       "    </tr>\n",
       "    <tr>\n",
       "      <th>15677</th>\n",
       "      <td>NaN</td>\n",
       "      <td>15/09/04</td>\n",
       "    </tr>\n",
       "    <tr>\n",
       "      <th>15708</th>\n",
       "      <td>NaN</td>\n",
       "      <td>21/07/07</td>\n",
       "    </tr>\n",
       "    <tr>\n",
       "      <th>15900</th>\n",
       "      <td>NaN</td>\n",
       "      <td>22/11/95</td>\n",
       "    </tr>\n",
       "    <tr>\n",
       "      <th>15919</th>\n",
       "      <td>05/07/04</td>\n",
       "      <td>01/11/51</td>\n",
       "    </tr>\n",
       "    <tr>\n",
       "      <th>15994</th>\n",
       "      <td>19/03/08</td>\n",
       "      <td>23/02/55</td>\n",
       "    </tr>\n",
       "    <tr>\n",
       "      <th>16451</th>\n",
       "      <td>NaN</td>\n",
       "      <td>25/09/97</td>\n",
       "    </tr>\n",
       "    <tr>\n",
       "      <th>16651</th>\n",
       "      <td>NaN</td>\n",
       "      <td>04/06/07</td>\n",
       "    </tr>\n",
       "  </tbody>\n",
       "</table>\n",
       "</div>"
      ],
      "text/plain": [
       "      Atendimento        DN\n",
       "589           NaN  17/10/02\n",
       "1213          NaN  07/01/08\n",
       "1576          NaN     36973\n",
       "1707          NaN     35493\n",
       "2646          NaN  05/05/05\n",
       "2789          NaN  19/05/08\n",
       "2803     07/12/07  01/03/55\n",
       "3366          NaN  25/10/00\n",
       "3417          NaN     34704\n",
       "3453          NaN     38666\n",
       "3898          NaN     36558\n",
       "4145          NaN  15/10/94\n",
       "4577          NaN  10/11/94\n",
       "4878          NaN  30/11/95\n",
       "5222          NaN  07/03/06\n",
       "5350          NaN     38428\n",
       "5353          NaN  04/03/97\n",
       "5686          NaN     35410\n",
       "5937          NaN  12/12/06\n",
       "6224          NaN  23/07/04\n",
       "7092          NaN  23/06/97\n",
       "7404          NaN  09/06/08\n",
       "8640          NaN  23/01/08\n",
       "9044          NaN  24/01/05\n",
       "9132          NaN  08/01/96\n",
       "9547          NaN  15/04/90\n",
       "9583          NaN  15/03/93\n",
       "9829          NaN  10/04/06\n",
       "9952          NaN  06/06/91\n",
       "10638         NaN  24/05/05\n",
       "11472         NaN  24/02/01\n",
       "12115         NaN  01/01/09\n",
       "12148         NaN  08/06/92\n",
       "12742         NaN  01/05/99\n",
       "12846    18/06/08  31/05/40\n",
       "13427         NaN  19/11/08\n",
       "13586         NaN  21/09/06\n",
       "13881         NaN  22/04/98\n",
       "14190         NaN  17/09/92\n",
       "14473         NaN  18/04/93\n",
       "14491         NaN  15/03/99\n",
       "14709    07/02/06  24/11/36\n",
       "15096         NaN  19/05/08\n",
       "15439         NaN  31/03/03\n",
       "15677         NaN  15/09/04\n",
       "15708         NaN  21/07/07\n",
       "15900         NaN  22/11/95\n",
       "15919    05/07/04  01/11/51\n",
       "15994    19/03/08  23/02/55\n",
       "16451         NaN  25/09/97\n",
       "16651         NaN  04/06/07"
      ]
     },
     "execution_count": 168,
     "metadata": {},
     "output_type": "execute_result"
    }
   ],
   "source": [
    "df.loc[df['IDADE'] > 50, ['Atendimento','DN']]"
   ]
  },
  {
   "cell_type": "code",
   "execution_count": 169,
   "metadata": {
    "ExecuteTime": {
     "end_time": "2021-01-13T18:43:51.231222Z",
     "start_time": "2021-01-13T18:43:51.221247Z"
    }
   },
   "outputs": [
    {
     "name": "stdout",
     "output_type": "stream",
     "text": [
      "Percentagem de valores de idade acima dos 20 anos: 0.8293606739371776%\n"
     ]
    }
   ],
   "source": [
    "print('Percentagem de valores de idade acima dos 20 anos: '+ str(len(df.loc[df['IDADE'] > 20])/len(df)*100)+'%') "
   ]
  },
  {
   "cell_type": "markdown",
   "metadata": {},
   "source": [
    "A partir da tabela acima, é fácil de identificar que o erro no cálculo da idade provém dos valores \"NA\" na coluna do \"Atendimento\". Como estamos, contudo, a tratar de dados de cardiologia pediátrica, a gama de idades estudada vai até aos 20 anos, de acordo com o site https://www.cdc.gov/growthcharts/clinical_charts.htm. Isto permite-nos eliminar os poucos $\\textit{outliers}$ que existem nesta coluna sem grande consequência na análise de dados, visto que apenas 0.82% dos dados têm valores de idade acima dos 20 anos. "
   ]
  },
  {
   "cell_type": "code",
   "execution_count": 170,
   "metadata": {
    "ExecuteTime": {
     "end_time": "2021-01-13T18:43:51.884138Z",
     "start_time": "2021-01-13T18:43:51.719584Z"
    }
   },
   "outputs": [
    {
     "data": {
      "text/plain": [
       "<AxesSubplot:>"
      ]
     },
     "execution_count": 170,
     "metadata": {},
     "output_type": "execute_result"
    },
    {
     "data": {
      "image/png": "[encoded data removed]",
      "text/plain": [
       "<Figure size 432x288 with 1 Axes>"
      ]
     },
     "metadata": {},
     "output_type": "display_data"
    }
   ],
   "source": [
    "# import re\n",
    "df.drop(index = df.loc[df['IDADE'] > 20].index,inplace = True)\n",
    "df['IDADE'].plot.box()"
   ]
  },
  {
   "cell_type": "markdown",
   "metadata": {},
   "source": [
    "Tendo a idade bem tratada, podemos eliminar as colunas \"DN\" e \"Atendimento\" por serem redundantes."
   ]
  },
  {
   "cell_type": "code",
   "execution_count": 171,
   "metadata": {
    "ExecuteTime": {
     "end_time": "2021-01-13T18:43:52.029746Z",
     "start_time": "2021-01-13T18:43:52.016783Z"
    }
   },
   "outputs": [],
   "source": [
    "df.drop(columns = ['DN','Atendimento'], inplace = True)"
   ]
  },
  {
   "cell_type": "markdown",
   "metadata": {},
   "source": [
    "# IMC/Peso/Altura"
   ]
  },
  {
   "cell_type": "markdown",
   "metadata": {},
   "source": [
    "Existe mais um conjunto de colunas que possuem informação redundante, a tríade IMC, altura e peso, dado que o IMC é calculado a partir deste dois valores. Pode ser argumentado que é útil manter os três dados, porém, já que estamos a lidar com problemas cardiovasculares, podemos considerar que o IMC captura a informação de se uma pessoa está com o peso adequado à altura ou não. Por causa disso vamos eliminar as colunas correspondentes ao peso e à altura."
   ]
  },
  {
   "cell_type": "code",
   "execution_count": 172,
   "metadata": {
    "ExecuteTime": {
     "end_time": "2021-01-13T18:43:52.445491Z",
     "start_time": "2021-01-13T18:43:52.432518Z"
    }
   },
   "outputs": [],
   "source": [
    "df.drop(columns = 'Peso', inplace=True)"
   ]
  },
  {
   "cell_type": "markdown",
   "metadata": {},
   "source": [
    "Eliminamos todas as colunas redundantes (data de nascimento) e inúteis (ID). As colunas restantes são importantes para a análise que queremos fazer. Temos, porém de tratar dos valores NAs que temos nas colunas restantes.\n"
   ]
  },
  {
   "cell_type": "markdown",
   "metadata": {},
   "source": [
    "# Sexo"
   ]
  },
  {
   "cell_type": "code",
   "execution_count": 173,
   "metadata": {
    "ExecuteTime": {
     "end_time": "2021-01-13T18:43:52.795632Z",
     "start_time": "2021-01-13T18:43:52.786649Z"
    }
   },
   "outputs": [
    {
     "data": {
      "text/plain": [
       "array(['M', 'F', 'Indeterminado'], dtype=object)"
      ]
     },
     "execution_count": 173,
     "metadata": {},
     "output_type": "execute_result"
    }
   ],
   "source": [
    "df['SEXO'].unique()"
   ]
  },
  {
   "cell_type": "markdown",
   "metadata": {},
   "source": [
    "Como podemos ver, temos rótulos de sexo redundantes ('Masculino' e 'M' por exemplo). Logo, temos de definir um standard (que neste caso será 'M' e 'F')."
   ]
  },
  {
   "cell_type": "code",
   "execution_count": 174,
   "metadata": {
    "ExecuteTime": {
     "end_time": "2021-01-13T18:43:53.099848Z",
     "start_time": "2021-01-13T18:43:53.078865Z"
    }
   },
   "outputs": [],
   "source": [
    "df['SEXO'].loc[df['SEXO'] == 'Masculino'] = 'M'\n",
    "df['SEXO'].loc[df['SEXO'] == 'masculino'] = 'M'\n",
    "df['SEXO'].loc[df['SEXO'] == 'Feminino'] = 'F'"
   ]
  },
  {
   "cell_type": "markdown",
   "metadata": {},
   "source": [
    "# PA Sistolica"
   ]
  },
  {
   "cell_type": "markdown",
   "metadata": {},
   "source": [
    "O atributo pressão arterial sistólica apresentava, na tabela original, 7297 valores NA. Fazendo o histograma dos valores que estão atribuídos obtemos a figura seguinte."
   ]
  },
  {
   "cell_type": "code",
   "execution_count": 175,
   "metadata": {
    "ExecuteTime": {
     "end_time": "2021-01-13T18:43:53.945296Z",
     "start_time": "2021-01-13T18:43:53.590505Z"
    }
   },
   "outputs": [
    {
     "data": {
      "image/png": "[encoded data removed]",
      "text/plain": [
       "<Figure size 432x288 with 1 Axes>"
      ]
     },
     "metadata": {},
     "output_type": "display_data"
    }
   ],
   "source": [
    "plt.hist(df['PA SISTOLICA'][df['PA SISTOLICA'].notna()], bins = np.arange(0,200,10))\n",
    "plt.show()"
   ]
  },
  {
   "cell_type": "markdown",
   "metadata": {},
   "source": [
    "Notamos uma clara distribuição realtivamente bem centrada em torno de um valor médio próximo de 100, por isso achamos que a melhor forma de lidar com os valores não atribuídos era substituí-los pelo valor médio.\n"
   ]
  },
  {
   "cell_type": "code",
   "execution_count": 176,
   "metadata": {
    "ExecuteTime": {
     "end_time": "2021-01-13T18:43:54.159313Z",
     "start_time": "2021-01-13T18:43:54.149302Z"
    }
   },
   "outputs": [],
   "source": [
    "df.loc[df['PA SISTOLICA'].isna(),'PA SISTOLICA'] = df['PA SISTOLICA'].mean()"
   ]
  },
  {
   "cell_type": "markdown",
   "metadata": {},
   "source": [
    "# PA Diastolica"
   ]
  },
  {
   "cell_type": "markdown",
   "metadata": {},
   "source": [
    "Podemos fazer uma análise muito similar para a pressão arterial diastólica e vemos mais uma vez que a distribuição dos valores atribuídos se encontra centrada em torno de um valor médio bem definido. Procedemos, então, mais uma vez à imputação deste valor em substituição dos NA."
   ]
  },
  {
   "cell_type": "code",
   "execution_count": 177,
   "metadata": {
    "ExecuteTime": {
     "end_time": "2021-01-13T18:43:54.870066Z",
     "start_time": "2021-01-13T18:43:54.583353Z"
    }
   },
   "outputs": [
    {
     "data": {
      "image/png": "[encoded data removed]",
      "text/plain": [
       "<Figure size 432x288 with 1 Axes>"
      ]
     },
     "metadata": {},
     "output_type": "display_data"
    }
   ],
   "source": [
    "plt.hist(df['PA DIASTOLICA'][df['PA DIASTOLICA'].notna()], bins = np.arange(0,200,10))\n",
    "plt.show()"
   ]
  },
  {
   "cell_type": "code",
   "execution_count": 178,
   "metadata": {
    "ExecuteTime": {
     "end_time": "2021-01-13T18:43:54.884026Z",
     "start_time": "2021-01-13T18:43:54.874054Z"
    }
   },
   "outputs": [],
   "source": [
    "mediana_PA_D = np.median(df['PA DIASTOLICA'][df['PA DIASTOLICA'].notna()])"
   ]
  },
  {
   "cell_type": "code",
   "execution_count": 179,
   "metadata": {
    "ExecuteTime": {
     "end_time": "2021-01-13T18:43:54.896993Z",
     "start_time": "2021-01-13T18:43:54.888016Z"
    }
   },
   "outputs": [],
   "source": [
    "df.loc[df['PA DIASTOLICA'].isna(),'PA DIASTOLICA'] = df['PA DIASTOLICA'].mean()"
   ]
  },
  {
   "cell_type": "markdown",
   "metadata": {},
   "source": [
    "# Normal x Anormal"
   ]
  },
  {
   "cell_type": "markdown",
   "metadata": {},
   "source": [
    "Como vimos acima, existem 396 valores não-atribuídos para este atributo.Como esta é a variável que nós vamos tentar prever e o número de valores inexistentes é relativamente baixo não vamos danificar os nossos dados com linhas que não estão rotulados com respeito a este atributo.\n"
   ]
  },
  {
   "cell_type": "code",
   "execution_count": 180,
   "metadata": {
    "ExecuteTime": {
     "end_time": "2021-01-13T18:43:55.164119Z",
     "start_time": "2021-01-13T18:43:55.155112Z"
    }
   },
   "outputs": [
    {
     "data": {
      "text/plain": [
       "array(['Anormal', 'Normal', nan, 'anormal'], dtype=object)"
      ]
     },
     "execution_count": 180,
     "metadata": {},
     "output_type": "execute_result"
    }
   ],
   "source": [
    "df['NORMAL X ANORMAL'].unique()"
   ]
  },
  {
   "cell_type": "code",
   "execution_count": 181,
   "metadata": {
    "ExecuteTime": {
     "end_time": "2021-01-13T18:43:55.356407Z",
     "start_time": "2021-01-13T18:43:55.330476Z"
    }
   },
   "outputs": [],
   "source": [
    "df = df[df['NORMAL X ANORMAL'].notna()]\n",
    "df.loc[df['NORMAL X ANORMAL'] == 'anormal', 'NORMAL X ANORMAL'] = 'Anormal'\n",
    "df.loc[df['NORMAL X ANORMAL'] == 'Normais', 'NORMAL X ANORMAL'] = 'Normal'\n"
   ]
  },
  {
   "cell_type": "markdown",
   "metadata": {},
   "source": [
    "# IMC"
   ]
  },
  {
   "cell_type": "markdown",
   "metadata": {},
   "source": [
    "Para colmatar os NAs presentes na coluna correspondente ao IMC, vamos utilizar a média correspondenete para cada género, ou seja, se o paciente for homem o seu IMC vai corresponder à media do IMC masculino. Para começar vamos eliminar os pacientes sem sexo identificado (4)."
   ]
  },
  {
   "cell_type": "code",
   "execution_count": 182,
   "metadata": {
    "ExecuteTime": {
     "end_time": "2021-01-13T18:43:55.790901Z",
     "start_time": "2021-01-13T18:43:55.758986Z"
    }
   },
   "outputs": [],
   "source": [
    "df = df[df['SEXO'].notna()]\n",
    "\n",
    "mediaM = df.loc[(df['SEXO'] == 'M') & (df['IMC'].notna()),'IMC'].mean()\n",
    "mediaF = df.loc[(df['SEXO'] == 'F') & (df['IMC'].notna()),'IMC'].mean()\n",
    "\n",
    "\n",
    "df.loc[(df['SEXO'] == 'M') & (df['IMC'].isna()),'IMC'] = mediaM\n",
    "df.loc[(df['SEXO'] == 'F') & (df['IMC'].isna()),'IMC'] = mediaF\n"
   ]
  },
  {
   "cell_type": "markdown",
   "metadata": {},
   "source": [
    "## PPA"
   ]
  },
  {
   "cell_type": "code",
   "execution_count": 183,
   "metadata": {
    "ExecuteTime": {
     "end_time": "2021-01-13T18:43:56.174870Z",
     "start_time": "2021-01-13T18:43:56.159911Z"
    }
   },
   "outputs": [
    {
     "data": {
      "text/plain": [
       "array(['Não Calculado', 'Normal', 'Pre-Hipertensão PAS', 'HAS-2 PAS',\n",
       "       'Pre-Hipertensão PAD', nan, 'HAS-1 PAS', 'HAS-2 PAD', 'HAS-1 PAD'],\n",
       "      dtype=object)"
      ]
     },
     "execution_count": 183,
     "metadata": {},
     "output_type": "execute_result"
    }
   ],
   "source": [
    "df['PPA'].unique()"
   ]
  },
  {
   "cell_type": "markdown",
   "metadata": {},
   "source": [
    "De acordo com os sites https://secad.artmed.com.br/blog/medicina/hipertensao-infantil/ e https://drauziovarella.uol.com.br/pediatria/hipertensao-arterial-infantil/, se o indivíduo se encontra entre os percentis 90% e 95% o diagnóstico é pré-hipertensão, se for entre os 95 e 99 é hipertensão estágio 1 e para cima de 99 é hipertensão estágio 2. Pelas tabelas fornecidas como suplementar, vemos que as curvas dos percentis dependem da idade, da altura  e do sexo. Como não encontramos nenhuma dataframe disponível com estes dados, convertemos o pdf fornecido para csv. Depois de alguma (bastante) edição no vim, conseguimos criar duas dataframes destes valores - uma para rapazes e outra para raparigas - bem como 2 dataframes que determinam os percentis das alturas baseadas na idade do indivíduo, obtidas do site https://www.cdc.gov/growthcharts/clinical_charts.htm. "
   ]
  },
  {
   "cell_type": "code",
   "execution_count": 184,
   "metadata": {
    "ExecuteTime": {
     "end_time": "2021-01-13T18:43:56.503032Z",
     "start_time": "2021-01-13T18:43:56.454124Z"
    }
   },
   "outputs": [
    {
     "ename": "FileNotFoundError",
     "evalue": "[Errno 2] No such file or directory: 'bp_boys.csv'",
     "output_type": "error",
     "traceback": [
      "\u001b[1;31m---------------------------------------------------------------------------\u001b[0m",
      "\u001b[1;31mFileNotFoundError\u001b[0m                         Traceback (most recent call last)",
      "\u001b[1;32m<ipython-input-184-e014847a6973>\u001b[0m in \u001b[0;36m<module>\u001b[1;34m\u001b[0m\n\u001b[1;32m----> 1\u001b[1;33m \u001b[0mboys_bp\u001b[0m \u001b[1;33m=\u001b[0m \u001b[0mpd\u001b[0m\u001b[1;33m.\u001b[0m\u001b[0mread_csv\u001b[0m\u001b[1;33m(\u001b[0m\u001b[1;34m'bp_boys.csv'\u001b[0m\u001b[1;33m,\u001b[0m \u001b[0mdelimiter\u001b[0m \u001b[1;33m=\u001b[0m \u001b[1;34m' '\u001b[0m\u001b[1;33m)\u001b[0m\u001b[1;33m\u001b[0m\u001b[1;33m\u001b[0m\u001b[0m\n\u001b[0m\u001b[0;32m      2\u001b[0m \u001b[0mgirls_bp\u001b[0m \u001b[1;33m=\u001b[0m \u001b[0mpd\u001b[0m\u001b[1;33m.\u001b[0m\u001b[0mread_csv\u001b[0m\u001b[1;33m(\u001b[0m\u001b[1;34m'bp_girls.csv'\u001b[0m\u001b[1;33m,\u001b[0m \u001b[0mdelimiter\u001b[0m \u001b[1;33m=\u001b[0m \u001b[1;34m' '\u001b[0m\u001b[1;33m)\u001b[0m\u001b[1;33m\u001b[0m\u001b[1;33m\u001b[0m\u001b[0m\n\u001b[0;32m      3\u001b[0m \u001b[0mboys_bp\u001b[0m\u001b[1;33m[\u001b[0m\u001b[1;34m'I'\u001b[0m\u001b[1;33m]\u001b[0m \u001b[1;33m=\u001b[0m \u001b[0mboys_bp\u001b[0m\u001b[1;33m[\u001b[0m\u001b[1;34m'I'\u001b[0m\u001b[1;33m]\u001b[0m\u001b[1;33m*\u001b[0m\u001b[1;36m12\u001b[0m\u001b[1;33m\u001b[0m\u001b[1;33m\u001b[0m\u001b[0m\n\u001b[0;32m      4\u001b[0m \u001b[0mgirls_bp\u001b[0m\u001b[1;33m[\u001b[0m\u001b[1;34m'I'\u001b[0m\u001b[1;33m]\u001b[0m \u001b[1;33m=\u001b[0m \u001b[0mgirls_bp\u001b[0m\u001b[1;33m[\u001b[0m\u001b[1;34m'I'\u001b[0m\u001b[1;33m]\u001b[0m\u001b[1;33m*\u001b[0m\u001b[1;36m12\u001b[0m\u001b[1;33m\u001b[0m\u001b[1;33m\u001b[0m\u001b[0m\n\u001b[0;32m      5\u001b[0m \u001b[0mboys_age1\u001b[0m \u001b[1;33m=\u001b[0m \u001b[0mpd\u001b[0m\u001b[1;33m.\u001b[0m\u001b[0mread_csv\u001b[0m\u001b[1;33m(\u001b[0m\u001b[1;34m'boys_age.csv'\u001b[0m\u001b[1;33m,\u001b[0m \u001b[0mdelimiter\u001b[0m \u001b[1;33m=\u001b[0m \u001b[1;34m';'\u001b[0m\u001b[1;33m)\u001b[0m\u001b[1;33m\u001b[0m\u001b[1;33m\u001b[0m\u001b[0m\n",
      "\u001b[1;32m~\\Anaconda3\\lib\\site-packages\\pandas\\io\\parsers.py\u001b[0m in \u001b[0;36mread_csv\u001b[1;34m(filepath_or_buffer, sep, delimiter, header, names, index_col, usecols, squeeze, prefix, mangle_dupe_cols, dtype, engine, converters, true_values, false_values, skipinitialspace, skiprows, skipfooter, nrows, na_values, keep_default_na, na_filter, verbose, skip_blank_lines, parse_dates, infer_datetime_format, keep_date_col, date_parser, dayfirst, cache_dates, iterator, chunksize, compression, thousands, decimal, lineterminator, quotechar, quoting, doublequote, escapechar, comment, encoding, dialect, error_bad_lines, warn_bad_lines, delim_whitespace, low_memory, memory_map, float_precision)\u001b[0m\n\u001b[0;32m    684\u001b[0m     )\n\u001b[0;32m    685\u001b[0m \u001b[1;33m\u001b[0m\u001b[0m\n\u001b[1;32m--> 686\u001b[1;33m     \u001b[1;32mreturn\u001b[0m \u001b[0m_read\u001b[0m\u001b[1;33m(\u001b[0m\u001b[0mfilepath_or_buffer\u001b[0m\u001b[1;33m,\u001b[0m \u001b[0mkwds\u001b[0m\u001b[1;33m)\u001b[0m\u001b[1;33m\u001b[0m\u001b[1;33m\u001b[0m\u001b[0m\n\u001b[0m\u001b[0;32m    687\u001b[0m \u001b[1;33m\u001b[0m\u001b[0m\n\u001b[0;32m    688\u001b[0m \u001b[1;33m\u001b[0m\u001b[0m\n",
      "\u001b[1;32m~\\Anaconda3\\lib\\site-packages\\pandas\\io\\parsers.py\u001b[0m in \u001b[0;36m_read\u001b[1;34m(filepath_or_buffer, kwds)\u001b[0m\n\u001b[0;32m    450\u001b[0m \u001b[1;33m\u001b[0m\u001b[0m\n\u001b[0;32m    451\u001b[0m     \u001b[1;31m# Create the parser.\u001b[0m\u001b[1;33m\u001b[0m\u001b[1;33m\u001b[0m\u001b[1;33m\u001b[0m\u001b[0m\n\u001b[1;32m--> 452\u001b[1;33m     \u001b[0mparser\u001b[0m \u001b[1;33m=\u001b[0m \u001b[0mTextFileReader\u001b[0m\u001b[1;33m(\u001b[0m\u001b[0mfp_or_buf\u001b[0m\u001b[1;33m,\u001b[0m \u001b[1;33m**\u001b[0m\u001b[0mkwds\u001b[0m\u001b[1;33m)\u001b[0m\u001b[1;33m\u001b[0m\u001b[1;33m\u001b[0m\u001b[0m\n\u001b[0m\u001b[0;32m    453\u001b[0m \u001b[1;33m\u001b[0m\u001b[0m\n\u001b[0;32m    454\u001b[0m     \u001b[1;32mif\u001b[0m \u001b[0mchunksize\u001b[0m \u001b[1;32mor\u001b[0m \u001b[0miterator\u001b[0m\u001b[1;33m:\u001b[0m\u001b[1;33m\u001b[0m\u001b[1;33m\u001b[0m\u001b[0m\n",
      "\u001b[1;32m~\\Anaconda3\\lib\\site-packages\\pandas\\io\\parsers.py\u001b[0m in \u001b[0;36m__init__\u001b[1;34m(self, f, engine, **kwds)\u001b[0m\n\u001b[0;32m    934\u001b[0m             \u001b[0mself\u001b[0m\u001b[1;33m.\u001b[0m\u001b[0moptions\u001b[0m\u001b[1;33m[\u001b[0m\u001b[1;34m\"has_index_names\"\u001b[0m\u001b[1;33m]\u001b[0m \u001b[1;33m=\u001b[0m \u001b[0mkwds\u001b[0m\u001b[1;33m[\u001b[0m\u001b[1;34m\"has_index_names\"\u001b[0m\u001b[1;33m]\u001b[0m\u001b[1;33m\u001b[0m\u001b[1;33m\u001b[0m\u001b[0m\n\u001b[0;32m    935\u001b[0m \u001b[1;33m\u001b[0m\u001b[0m\n\u001b[1;32m--> 936\u001b[1;33m         \u001b[0mself\u001b[0m\u001b[1;33m.\u001b[0m\u001b[0m_make_engine\u001b[0m\u001b[1;33m(\u001b[0m\u001b[0mself\u001b[0m\u001b[1;33m.\u001b[0m\u001b[0mengine\u001b[0m\u001b[1;33m)\u001b[0m\u001b[1;33m\u001b[0m\u001b[1;33m\u001b[0m\u001b[0m\n\u001b[0m\u001b[0;32m    937\u001b[0m \u001b[1;33m\u001b[0m\u001b[0m\n\u001b[0;32m    938\u001b[0m     \u001b[1;32mdef\u001b[0m \u001b[0mclose\u001b[0m\u001b[1;33m(\u001b[0m\u001b[0mself\u001b[0m\u001b[1;33m)\u001b[0m\u001b[1;33m:\u001b[0m\u001b[1;33m\u001b[0m\u001b[1;33m\u001b[0m\u001b[0m\n",
      "\u001b[1;32m~\\Anaconda3\\lib\\site-packages\\pandas\\io\\parsers.py\u001b[0m in \u001b[0;36m_make_engine\u001b[1;34m(self, engine)\u001b[0m\n\u001b[0;32m   1166\u001b[0m     \u001b[1;32mdef\u001b[0m \u001b[0m_make_engine\u001b[0m\u001b[1;33m(\u001b[0m\u001b[0mself\u001b[0m\u001b[1;33m,\u001b[0m \u001b[0mengine\u001b[0m\u001b[1;33m=\u001b[0m\u001b[1;34m\"c\"\u001b[0m\u001b[1;33m)\u001b[0m\u001b[1;33m:\u001b[0m\u001b[1;33m\u001b[0m\u001b[1;33m\u001b[0m\u001b[0m\n\u001b[0;32m   1167\u001b[0m         \u001b[1;32mif\u001b[0m \u001b[0mengine\u001b[0m \u001b[1;33m==\u001b[0m \u001b[1;34m\"c\"\u001b[0m\u001b[1;33m:\u001b[0m\u001b[1;33m\u001b[0m\u001b[1;33m\u001b[0m\u001b[0m\n\u001b[1;32m-> 1168\u001b[1;33m             \u001b[0mself\u001b[0m\u001b[1;33m.\u001b[0m\u001b[0m_engine\u001b[0m \u001b[1;33m=\u001b[0m \u001b[0mCParserWrapper\u001b[0m\u001b[1;33m(\u001b[0m\u001b[0mself\u001b[0m\u001b[1;33m.\u001b[0m\u001b[0mf\u001b[0m\u001b[1;33m,\u001b[0m \u001b[1;33m**\u001b[0m\u001b[0mself\u001b[0m\u001b[1;33m.\u001b[0m\u001b[0moptions\u001b[0m\u001b[1;33m)\u001b[0m\u001b[1;33m\u001b[0m\u001b[1;33m\u001b[0m\u001b[0m\n\u001b[0m\u001b[0;32m   1169\u001b[0m         \u001b[1;32melse\u001b[0m\u001b[1;33m:\u001b[0m\u001b[1;33m\u001b[0m\u001b[1;33m\u001b[0m\u001b[0m\n\u001b[0;32m   1170\u001b[0m             \u001b[1;32mif\u001b[0m \u001b[0mengine\u001b[0m \u001b[1;33m==\u001b[0m \u001b[1;34m\"python\"\u001b[0m\u001b[1;33m:\u001b[0m\u001b[1;33m\u001b[0m\u001b[1;33m\u001b[0m\u001b[0m\n",
      "\u001b[1;32m~\\Anaconda3\\lib\\site-packages\\pandas\\io\\parsers.py\u001b[0m in \u001b[0;36m__init__\u001b[1;34m(self, src, **kwds)\u001b[0m\n\u001b[0;32m   1996\u001b[0m         \u001b[0mkwds\u001b[0m\u001b[1;33m[\u001b[0m\u001b[1;34m\"usecols\"\u001b[0m\u001b[1;33m]\u001b[0m \u001b[1;33m=\u001b[0m \u001b[0mself\u001b[0m\u001b[1;33m.\u001b[0m\u001b[0musecols\u001b[0m\u001b[1;33m\u001b[0m\u001b[1;33m\u001b[0m\u001b[0m\n\u001b[0;32m   1997\u001b[0m \u001b[1;33m\u001b[0m\u001b[0m\n\u001b[1;32m-> 1998\u001b[1;33m         \u001b[0mself\u001b[0m\u001b[1;33m.\u001b[0m\u001b[0m_reader\u001b[0m \u001b[1;33m=\u001b[0m \u001b[0mparsers\u001b[0m\u001b[1;33m.\u001b[0m\u001b[0mTextReader\u001b[0m\u001b[1;33m(\u001b[0m\u001b[0msrc\u001b[0m\u001b[1;33m,\u001b[0m \u001b[1;33m**\u001b[0m\u001b[0mkwds\u001b[0m\u001b[1;33m)\u001b[0m\u001b[1;33m\u001b[0m\u001b[1;33m\u001b[0m\u001b[0m\n\u001b[0m\u001b[0;32m   1999\u001b[0m         \u001b[0mself\u001b[0m\u001b[1;33m.\u001b[0m\u001b[0munnamed_cols\u001b[0m \u001b[1;33m=\u001b[0m \u001b[0mself\u001b[0m\u001b[1;33m.\u001b[0m\u001b[0m_reader\u001b[0m\u001b[1;33m.\u001b[0m\u001b[0munnamed_cols\u001b[0m\u001b[1;33m\u001b[0m\u001b[1;33m\u001b[0m\u001b[0m\n\u001b[0;32m   2000\u001b[0m \u001b[1;33m\u001b[0m\u001b[0m\n",
      "\u001b[1;32mpandas\\_libs\\parsers.pyx\u001b[0m in \u001b[0;36mpandas._libs.parsers.TextReader.__cinit__\u001b[1;34m()\u001b[0m\n",
      "\u001b[1;32mpandas\\_libs\\parsers.pyx\u001b[0m in \u001b[0;36mpandas._libs.parsers.TextReader._setup_parser_source\u001b[1;34m()\u001b[0m\n",
      "\u001b[1;31mFileNotFoundError\u001b[0m: [Errno 2] No such file or directory: 'bp_boys.csv'"
     ]
    }
   ],
   "source": [
    "boys_bp = pd.read_csv('bp_boys.csv', delimiter = ' ')\n",
    "girls_bp = pd.read_csv('bp_girls.csv', delimiter = ' ')\n",
    "boys_bp['I'] = boys_bp['I']*12\n",
    "girls_bp['I'] = girls_bp['I']*12\n",
    "boys_age1 = pd.read_csv('boys_age.csv', delimiter = ';')\n",
    "girls_age1 = pd.read_csv('girls_age.csv', delimiter = ';')\n",
    "boys_age2 = pd.read_csv('boys_age1.csv', delimiter = ';')\n",
    "girls_age2 = pd.read_csv('girls_age1.csv', delimiter = ';')\n",
    "boys_age = boys_age1.append(boys_age2,ignore_index = True)\n",
    "girls_age = girls_age1.append(girls_age2,ignore_index = True)\n",
    "boys_age.drop(columns = ['3','97'],inplace = True)\n",
    "girls_age.drop(columns = ['3','97'],inplace = True)\n"
   ]
  },
  {
   "cell_type": "markdown",
   "metadata": {},
   "source": [
    "Precisamos primeiro de encontrar o percentil da altura. Para cada idade, pesquisamos a sua altura na tabela e obtemos o percentil correspondente. "
   ]
  },
  {
   "cell_type": "code",
   "execution_count": 185,
   "metadata": {
    "ExecuteTime": {
     "end_time": "2021-01-13T18:43:56.883013Z",
     "start_time": "2021-01-13T18:43:56.855088Z"
    }
   },
   "outputs": [],
   "source": [
    "df.drop(index = df.loc[df['Altura'] == 0].index,inplace = True)\n",
    "df.drop(index = df.loc[df['IDADE'] > 18.].index,inplace = True)"
   ]
  },
  {
   "cell_type": "code",
   "execution_count": 186,
   "metadata": {
    "ExecuteTime": {
     "end_time": "2021-01-13T18:43:57.018690Z",
     "start_time": "2021-01-13T18:43:56.986739Z"
    }
   },
   "outputs": [
    {
     "ename": "NameError",
     "evalue": "name 'boys_age' is not defined",
     "output_type": "error",
     "traceback": [
      "\u001b[1;31m---------------------------------------------------------------------------\u001b[0m",
      "\u001b[1;31mNameError\u001b[0m                                 Traceback (most recent call last)",
      "\u001b[1;32m<ipython-input-186-03df534c609c>\u001b[0m in \u001b[0;36m<module>\u001b[1;34m\u001b[0m\n\u001b[0;32m      4\u001b[0m \u001b[1;32mfor\u001b[0m \u001b[0mi\u001b[0m \u001b[1;32min\u001b[0m \u001b[0mrange\u001b[0m\u001b[1;33m(\u001b[0m\u001b[0mlen\u001b[0m\u001b[1;33m(\u001b[0m\u001b[0mdf_boys\u001b[0m\u001b[1;33m)\u001b[0m\u001b[1;33m)\u001b[0m\u001b[1;33m:\u001b[0m\u001b[1;33m\u001b[0m\u001b[1;33m\u001b[0m\u001b[0m\n\u001b[0;32m      5\u001b[0m     \u001b[0mlinha\u001b[0m \u001b[1;33m=\u001b[0m \u001b[0mdf_boys\u001b[0m\u001b[1;33m.\u001b[0m\u001b[0miloc\u001b[0m\u001b[1;33m[\u001b[0m\u001b[0mi\u001b[0m\u001b[1;33m]\u001b[0m\u001b[1;33m\u001b[0m\u001b[1;33m\u001b[0m\u001b[0m\n\u001b[1;32m----> 6\u001b[1;33m     \u001b[0mserie_altura\u001b[0m \u001b[1;33m=\u001b[0m \u001b[0mboys_age\u001b[0m\u001b[1;33m.\u001b[0m\u001b[0mloc\u001b[0m\u001b[1;33m[\u001b[0m\u001b[0mboys_age\u001b[0m\u001b[1;33m[\u001b[0m\u001b[1;34m'Age'\u001b[0m\u001b[1;33m]\u001b[0m \u001b[1;33m<=\u001b[0m \u001b[0mlinha\u001b[0m\u001b[1;33m[\u001b[0m\u001b[1;34m'IDADE'\u001b[0m\u001b[1;33m]\u001b[0m\u001b[1;33m]\u001b[0m\u001b[1;33m.\u001b[0m\u001b[0miloc\u001b[0m\u001b[1;33m[\u001b[0m\u001b[1;33m-\u001b[0m\u001b[1;36m1\u001b[0m\u001b[1;33m]\u001b[0m\u001b[1;33m.\u001b[0m\u001b[0miloc\u001b[0m\u001b[1;33m[\u001b[0m\u001b[1;36m1\u001b[0m\u001b[1;33m:\u001b[0m\u001b[1;33m]\u001b[0m\u001b[1;33m\u001b[0m\u001b[1;33m\u001b[0m\u001b[0m\n\u001b[0m\u001b[0;32m      7\u001b[0m     \u001b[0mPER_SER\u001b[0m \u001b[1;33m=\u001b[0m \u001b[0mserie_altura\u001b[0m\u001b[1;33m.\u001b[0m\u001b[0mloc\u001b[0m\u001b[1;33m[\u001b[0m\u001b[0mserie_altura\u001b[0m \u001b[1;33m<=\u001b[0m \u001b[0mlinha\u001b[0m\u001b[1;33m[\u001b[0m\u001b[1;34m'Altura'\u001b[0m\u001b[1;33m]\u001b[0m\u001b[1;33m]\u001b[0m\u001b[1;33m\u001b[0m\u001b[1;33m\u001b[0m\u001b[0m\n\u001b[0;32m      8\u001b[0m     \u001b[1;32mif\u001b[0m \u001b[0mlen\u001b[0m\u001b[1;33m(\u001b[0m\u001b[0mPER_SER\u001b[0m\u001b[1;33m)\u001b[0m \u001b[1;33m==\u001b[0m \u001b[1;36m0\u001b[0m\u001b[1;33m:\u001b[0m\u001b[1;33m\u001b[0m\u001b[1;33m\u001b[0m\u001b[0m\n",
      "\u001b[1;31mNameError\u001b[0m: name 'boys_age' is not defined"
     ]
    }
   ],
   "source": [
    "df_boys = df.loc[df['SEXO'] == 'M']\n",
    "df_boys['IDADE'] = df_boys['IDADE']*12\n",
    "df_boys['ALTURA PER'] = 0\n",
    "for i in range(len(df_boys)):\n",
    "    linha = df_boys.iloc[i]\n",
    "    serie_altura = boys_age.loc[boys_age['Age'] <= linha['IDADE']].iloc[-1].iloc[1:]\n",
    "    PER_SER = serie_altura.loc[serie_altura <= linha['Altura']]\n",
    "    if len(PER_SER) == 0:\n",
    "        PER = 1\n",
    "    else:\n",
    "        PER = PER_SER.index[-1]\n",
    "    df_boys['ALTURA PER'].iloc[i] = PER"
   ]
  },
  {
   "cell_type": "code",
   "execution_count": 187,
   "metadata": {
    "ExecuteTime": {
     "end_time": "2021-01-13T18:43:57.159327Z",
     "start_time": "2021-01-13T18:43:57.130402Z"
    }
   },
   "outputs": [
    {
     "ename": "NameError",
     "evalue": "name 'girls_age' is not defined",
     "output_type": "error",
     "traceback": [
      "\u001b[1;31m---------------------------------------------------------------------------\u001b[0m",
      "\u001b[1;31mNameError\u001b[0m                                 Traceback (most recent call last)",
      "\u001b[1;32m<ipython-input-187-0e89efb0b88a>\u001b[0m in \u001b[0;36m<module>\u001b[1;34m\u001b[0m\n\u001b[0;32m      4\u001b[0m \u001b[1;32mfor\u001b[0m \u001b[0mi\u001b[0m \u001b[1;32min\u001b[0m \u001b[0mrange\u001b[0m\u001b[1;33m(\u001b[0m\u001b[0mlen\u001b[0m\u001b[1;33m(\u001b[0m\u001b[0mdf_girls\u001b[0m\u001b[1;33m)\u001b[0m\u001b[1;33m)\u001b[0m\u001b[1;33m:\u001b[0m\u001b[1;33m\u001b[0m\u001b[1;33m\u001b[0m\u001b[0m\n\u001b[0;32m      5\u001b[0m     \u001b[0mlinha\u001b[0m \u001b[1;33m=\u001b[0m \u001b[0mdf_girls\u001b[0m\u001b[1;33m.\u001b[0m\u001b[0miloc\u001b[0m\u001b[1;33m[\u001b[0m\u001b[0mi\u001b[0m\u001b[1;33m]\u001b[0m\u001b[1;33m\u001b[0m\u001b[1;33m\u001b[0m\u001b[0m\n\u001b[1;32m----> 6\u001b[1;33m     \u001b[0mserie_altura\u001b[0m \u001b[1;33m=\u001b[0m \u001b[0mgirls_age\u001b[0m\u001b[1;33m.\u001b[0m\u001b[0mloc\u001b[0m\u001b[1;33m[\u001b[0m\u001b[0mgirls_age\u001b[0m\u001b[1;33m[\u001b[0m\u001b[1;34m'Age'\u001b[0m\u001b[1;33m]\u001b[0m \u001b[1;33m<=\u001b[0m \u001b[0mlinha\u001b[0m\u001b[1;33m[\u001b[0m\u001b[1;34m'IDADE'\u001b[0m\u001b[1;33m]\u001b[0m\u001b[1;33m]\u001b[0m\u001b[1;33m.\u001b[0m\u001b[0miloc\u001b[0m\u001b[1;33m[\u001b[0m\u001b[1;33m-\u001b[0m\u001b[1;36m1\u001b[0m\u001b[1;33m]\u001b[0m\u001b[1;33m.\u001b[0m\u001b[0miloc\u001b[0m\u001b[1;33m[\u001b[0m\u001b[1;36m1\u001b[0m\u001b[1;33m:\u001b[0m\u001b[1;33m]\u001b[0m\u001b[1;33m\u001b[0m\u001b[1;33m\u001b[0m\u001b[0m\n\u001b[0m\u001b[0;32m      7\u001b[0m     \u001b[0mPER_SER\u001b[0m \u001b[1;33m=\u001b[0m \u001b[0mserie_altura\u001b[0m\u001b[1;33m.\u001b[0m\u001b[0mloc\u001b[0m\u001b[1;33m[\u001b[0m\u001b[0mserie_altura\u001b[0m \u001b[1;33m<=\u001b[0m \u001b[0mlinha\u001b[0m\u001b[1;33m[\u001b[0m\u001b[1;34m'Altura'\u001b[0m\u001b[1;33m]\u001b[0m\u001b[1;33m]\u001b[0m\u001b[1;33m\u001b[0m\u001b[1;33m\u001b[0m\u001b[0m\n\u001b[0;32m      8\u001b[0m     \u001b[1;32mif\u001b[0m \u001b[0mlen\u001b[0m\u001b[1;33m(\u001b[0m\u001b[0mPER_SER\u001b[0m\u001b[1;33m)\u001b[0m \u001b[1;33m==\u001b[0m \u001b[1;36m0\u001b[0m\u001b[1;33m:\u001b[0m\u001b[1;33m\u001b[0m\u001b[1;33m\u001b[0m\u001b[0m\n",
      "\u001b[1;31mNameError\u001b[0m: name 'girls_age' is not defined"
     ]
    }
   ],
   "source": [
    "df_girls = df.loc[df['SEXO'] == 'F']\n",
    "df_girls['IDADE'] = df_girls['IDADE']*12\n",
    "df_girls['ALTURA PER'] = 0\n",
    "for i in range(len(df_girls)):\n",
    "    linha = df_girls.iloc[i]\n",
    "    serie_altura = girls_age.loc[girls_age['Age'] <= linha['IDADE']].iloc[-1].iloc[1:]\n",
    "    PER_SER = serie_altura.loc[serie_altura <= linha['Altura']]\n",
    "    if len(PER_SER) == 0:\n",
    "        PER = 1\n",
    "    else:\n",
    "        PER = PER_SER.index[-1]\n",
    "    df_girls['ALTURA PER'].iloc[i] = PER"
   ]
  },
  {
   "cell_type": "code",
   "execution_count": 188,
   "metadata": {
    "ExecuteTime": {
     "end_time": "2021-01-13T18:43:57.281000Z",
     "start_time": "2021-01-13T18:43:57.271581Z"
    }
   },
   "outputs": [
    {
     "data": {
      "text/plain": [
       "array([0], dtype=int64)"
      ]
     },
     "execution_count": 188,
     "metadata": {},
     "output_type": "execute_result"
    }
   ],
   "source": [
    "df_boys['ALTURA PER'].unique()"
   ]
  },
  {
   "cell_type": "markdown",
   "metadata": {},
   "source": [
    "Agora precisamos de encontrar, para cada idade e cada percentil de altura, o percentil onde se enquadram a pressão sistólica e diastólica."
   ]
  },
  {
   "cell_type": "code",
   "execution_count": 189,
   "metadata": {
    "ExecuteTime": {
     "end_time": "2021-01-13T18:43:57.408179Z",
     "start_time": "2021-01-13T18:43:57.387234Z"
    }
   },
   "outputs": [
    {
     "ename": "NameError",
     "evalue": "name 'boys_bp' is not defined",
     "output_type": "error",
     "traceback": [
      "\u001b[1;31m---------------------------------------------------------------------------\u001b[0m",
      "\u001b[1;31mNameError\u001b[0m                                 Traceback (most recent call last)",
      "\u001b[1;32m<ipython-input-189-e07b95511eb6>\u001b[0m in \u001b[0;36m<module>\u001b[1;34m\u001b[0m\n\u001b[1;32m----> 1\u001b[1;33m \u001b[0mboys_bp_s\u001b[0m \u001b[1;33m=\u001b[0m \u001b[0mboys_bp\u001b[0m\u001b[1;33m[\u001b[0m\u001b[1;33m[\u001b[0m\u001b[1;34m'I'\u001b[0m\u001b[1;33m,\u001b[0m\u001b[1;34m'PE'\u001b[0m\u001b[1;33m,\u001b[0m\u001b[1;34m'5'\u001b[0m\u001b[1;33m,\u001b[0m\u001b[1;34m'10'\u001b[0m\u001b[1;33m,\u001b[0m\u001b[1;34m'25'\u001b[0m\u001b[1;33m,\u001b[0m\u001b[1;34m'50'\u001b[0m\u001b[1;33m,\u001b[0m\u001b[1;34m'75'\u001b[0m\u001b[1;33m,\u001b[0m\u001b[1;34m'90'\u001b[0m\u001b[1;33m,\u001b[0m\u001b[1;34m'95'\u001b[0m\u001b[1;33m]\u001b[0m\u001b[1;33m]\u001b[0m\u001b[1;33m\u001b[0m\u001b[1;33m\u001b[0m\u001b[0m\n\u001b[0m\u001b[0;32m      2\u001b[0m \u001b[0mboys_bp_d\u001b[0m \u001b[1;33m=\u001b[0m \u001b[0mboys_bp\u001b[0m\u001b[1;33m[\u001b[0m\u001b[1;33m[\u001b[0m\u001b[1;34m'I'\u001b[0m\u001b[1;33m,\u001b[0m\u001b[1;34m'PE'\u001b[0m\u001b[1;33m,\u001b[0m\u001b[1;34m'5.1'\u001b[0m\u001b[1;33m,\u001b[0m\u001b[1;34m'10.1'\u001b[0m\u001b[1;33m,\u001b[0m\u001b[1;34m'25.1'\u001b[0m\u001b[1;33m,\u001b[0m\u001b[1;34m'50.1'\u001b[0m\u001b[1;33m,\u001b[0m\u001b[1;34m'75.1'\u001b[0m\u001b[1;33m,\u001b[0m\u001b[1;34m'90.1'\u001b[0m\u001b[1;33m,\u001b[0m\u001b[1;34m'95.1'\u001b[0m\u001b[1;33m]\u001b[0m\u001b[1;33m]\u001b[0m\u001b[1;33m\u001b[0m\u001b[1;33m\u001b[0m\u001b[0m\n\u001b[0;32m      3\u001b[0m \u001b[0mboys_bp_d\u001b[0m\u001b[1;33m.\u001b[0m\u001b[0mcolumns\u001b[0m \u001b[1;33m=\u001b[0m \u001b[1;33m[\u001b[0m\u001b[1;34m'I'\u001b[0m\u001b[1;33m,\u001b[0m\u001b[1;34m'PE'\u001b[0m\u001b[1;33m,\u001b[0m\u001b[1;34m'5'\u001b[0m\u001b[1;33m,\u001b[0m\u001b[1;34m'10'\u001b[0m\u001b[1;33m,\u001b[0m\u001b[1;34m'25'\u001b[0m\u001b[1;33m,\u001b[0m\u001b[1;34m'50'\u001b[0m\u001b[1;33m,\u001b[0m\u001b[1;34m'75'\u001b[0m\u001b[1;33m,\u001b[0m\u001b[1;34m'90'\u001b[0m\u001b[1;33m,\u001b[0m\u001b[1;34m'95'\u001b[0m\u001b[1;33m]\u001b[0m\u001b[1;33m\u001b[0m\u001b[1;33m\u001b[0m\u001b[0m\n\u001b[0;32m      4\u001b[0m \u001b[1;33m\u001b[0m\u001b[0m\n\u001b[0;32m      5\u001b[0m \u001b[0mgirls_bp_s\u001b[0m \u001b[1;33m=\u001b[0m \u001b[0mgirls_bp\u001b[0m\u001b[1;33m[\u001b[0m\u001b[1;33m[\u001b[0m\u001b[1;34m'I'\u001b[0m\u001b[1;33m,\u001b[0m\u001b[1;34m'PE'\u001b[0m\u001b[1;33m,\u001b[0m\u001b[1;34m'5'\u001b[0m\u001b[1;33m,\u001b[0m\u001b[1;34m'10'\u001b[0m\u001b[1;33m,\u001b[0m\u001b[1;34m'25'\u001b[0m\u001b[1;33m,\u001b[0m\u001b[1;34m'50'\u001b[0m\u001b[1;33m,\u001b[0m\u001b[1;34m'75'\u001b[0m\u001b[1;33m,\u001b[0m\u001b[1;34m'90'\u001b[0m\u001b[1;33m,\u001b[0m\u001b[1;34m'95'\u001b[0m\u001b[1;33m]\u001b[0m\u001b[1;33m]\u001b[0m\u001b[1;33m\u001b[0m\u001b[1;33m\u001b[0m\u001b[0m\n",
      "\u001b[1;31mNameError\u001b[0m: name 'boys_bp' is not defined"
     ]
    }
   ],
   "source": [
    "boys_bp_s = boys_bp[['I','PE','5','10','25','50','75','90','95']]\n",
    "boys_bp_d = boys_bp[['I','PE','5.1','10.1','25.1','50.1','75.1','90.1','95.1']]\n",
    "boys_bp_d.columns = ['I','PE','5','10','25','50','75','90','95']\n",
    "\n",
    "girls_bp_s = girls_bp[['I','PE','5','10','25','50','75','90','95']]\n",
    "girls_bp_d = girls_bp[['I','PE','5.1','10.1','25.1','50.1','75.1','90.1','95.1']]\n",
    "girls_bp_d.columns = ['I','PE','5','10','25','50','75','90','95']"
   ]
  },
  {
   "cell_type": "code",
   "execution_count": 190,
   "metadata": {
    "ExecuteTime": {
     "end_time": "2021-01-13T18:43:57.537340Z",
     "start_time": "2021-01-13T18:43:57.523381Z"
    }
   },
   "outputs": [],
   "source": [
    "df_boys.loc[df_boys['ALTURA PER'] == 1,'ALTURA PER'] = 5\n",
    "df_girls.loc[df_girls['ALTURA PER'] == 1,'ALTURA PER'] = 5"
   ]
  },
  {
   "cell_type": "code",
   "execution_count": 191,
   "metadata": {
    "ExecuteTime": {
     "end_time": "2021-01-13T18:43:57.686978Z",
     "start_time": "2021-01-13T18:43:57.661010Z"
    }
   },
   "outputs": [
    {
     "ename": "NameError",
     "evalue": "name 'boys_bp_s' is not defined",
     "output_type": "error",
     "traceback": [
      "\u001b[1;31m---------------------------------------------------------------------------\u001b[0m",
      "\u001b[1;31mNameError\u001b[0m                                 Traceback (most recent call last)",
      "\u001b[1;32m<ipython-input-191-8bb86e1c56b7>\u001b[0m in \u001b[0;36m<module>\u001b[1;34m\u001b[0m\n\u001b[0;32m      4\u001b[0m     \u001b[0mA_P\u001b[0m\u001b[1;33m,\u001b[0m \u001b[0midade\u001b[0m  \u001b[1;33m=\u001b[0m \u001b[0mstr\u001b[0m\u001b[1;33m(\u001b[0m\u001b[0mlinha\u001b[0m\u001b[1;33m[\u001b[0m\u001b[1;34m'ALTURA PER'\u001b[0m\u001b[1;33m]\u001b[0m\u001b[1;33m)\u001b[0m\u001b[1;33m,\u001b[0m \u001b[0mlinha\u001b[0m\u001b[1;33m[\u001b[0m\u001b[1;34m'IDADE'\u001b[0m\u001b[1;33m]\u001b[0m\u001b[1;33m\u001b[0m\u001b[1;33m\u001b[0m\u001b[0m\n\u001b[0;32m      5\u001b[0m     \u001b[1;32mif\u001b[0m \u001b[0midade\u001b[0m \u001b[1;33m<\u001b[0m \u001b[1;36m12\u001b[0m\u001b[1;33m:\u001b[0m\u001b[1;33m\u001b[0m\u001b[1;33m\u001b[0m\u001b[0m\n\u001b[1;32m----> 6\u001b[1;33m         \u001b[0mPA_series\u001b[0m \u001b[1;33m=\u001b[0m \u001b[0mboys_bp_s\u001b[0m\u001b[1;33m.\u001b[0m\u001b[0mloc\u001b[0m\u001b[1;33m[\u001b[0m\u001b[0mboys_bp_s\u001b[0m\u001b[1;33m[\u001b[0m\u001b[1;34m'I'\u001b[0m\u001b[1;33m]\u001b[0m \u001b[1;33m==\u001b[0m \u001b[1;36m12\u001b[0m\u001b[1;33m]\u001b[0m\u001b[1;33m\u001b[0m\u001b[1;33m\u001b[0m\u001b[0m\n\u001b[0m\u001b[0;32m      7\u001b[0m     \u001b[1;32melse\u001b[0m\u001b[1;33m:\u001b[0m\u001b[1;33m\u001b[0m\u001b[1;33m\u001b[0m\u001b[0m\n\u001b[0;32m      8\u001b[0m         \u001b[0mPA_series\u001b[0m \u001b[1;33m=\u001b[0m \u001b[0mboys_bp_s\u001b[0m\u001b[1;33m.\u001b[0m\u001b[0mloc\u001b[0m\u001b[1;33m[\u001b[0m\u001b[0mboys_bp_s\u001b[0m\u001b[1;33m[\u001b[0m\u001b[1;34m'I'\u001b[0m\u001b[1;33m]\u001b[0m \u001b[1;33m<=\u001b[0m \u001b[0midade\u001b[0m\u001b[1;33m]\u001b[0m\u001b[1;33m[\u001b[0m\u001b[1;33m-\u001b[0m\u001b[1;36m4\u001b[0m\u001b[1;33m:\u001b[0m\u001b[1;33m]\u001b[0m \u001b[1;31m#### verificar se dá direito\u001b[0m\u001b[1;33m\u001b[0m\u001b[1;33m\u001b[0m\u001b[0m\n",
      "\u001b[1;31mNameError\u001b[0m: name 'boys_bp_s' is not defined"
     ]
    }
   ],
   "source": [
    "df_boys['PAS PER'] = 0\n",
    "for i in range(len(df_boys)):\n",
    "    linha = df_boys.iloc[i]\n",
    "    A_P, idade  = str(linha['ALTURA PER']), linha['IDADE']\n",
    "    if idade < 12:\n",
    "        PA_series = boys_bp_s.loc[boys_bp_s['I'] == 12]\n",
    "    else: \n",
    "        PA_series = boys_bp_s.loc[boys_bp_s['I'] <= idade][-4:] #### verificar se dá direito \n",
    "    fernando = PA_series.loc[PA_series[A_P]<=linha['PA SISTOLICA'],'PE']\n",
    "    if len(fernando) == 0:\n",
    "        PA_PER = 1\n",
    "    else:\n",
    "        PA_PER = PA_series.loc[PA_series[A_P]<=linha['PA SISTOLICA'],'PE'].iloc[-1]\n",
    "    df_boys['PAS PER'].iloc[i] = PA_PER\n",
    "    \n",
    "    \n",
    "df_boys"
   ]
  },
  {
   "cell_type": "code",
   "execution_count": 192,
   "metadata": {
    "ExecuteTime": {
     "end_time": "2021-01-13T18:43:57.886409Z",
     "start_time": "2021-01-13T18:43:57.862471Z"
    }
   },
   "outputs": [
    {
     "ename": "NameError",
     "evalue": "name 'boys_bp_d' is not defined",
     "output_type": "error",
     "traceback": [
      "\u001b[1;31m---------------------------------------------------------------------------\u001b[0m",
      "\u001b[1;31mNameError\u001b[0m                                 Traceback (most recent call last)",
      "\u001b[1;32m<ipython-input-192-49eb158d7b7c>\u001b[0m in \u001b[0;36m<module>\u001b[1;34m\u001b[0m\n\u001b[0;32m      4\u001b[0m     \u001b[0mA_P\u001b[0m\u001b[1;33m,\u001b[0m \u001b[0midade\u001b[0m  \u001b[1;33m=\u001b[0m \u001b[0mstr\u001b[0m\u001b[1;33m(\u001b[0m\u001b[0mlinha\u001b[0m\u001b[1;33m[\u001b[0m\u001b[1;34m'ALTURA PER'\u001b[0m\u001b[1;33m]\u001b[0m\u001b[1;33m)\u001b[0m\u001b[1;33m,\u001b[0m \u001b[0mlinha\u001b[0m\u001b[1;33m[\u001b[0m\u001b[1;34m'IDADE'\u001b[0m\u001b[1;33m]\u001b[0m\u001b[1;33m\u001b[0m\u001b[1;33m\u001b[0m\u001b[0m\n\u001b[0;32m      5\u001b[0m     \u001b[1;32mif\u001b[0m \u001b[0midade\u001b[0m \u001b[1;33m<\u001b[0m \u001b[1;36m12\u001b[0m\u001b[1;33m:\u001b[0m\u001b[1;33m\u001b[0m\u001b[1;33m\u001b[0m\u001b[0m\n\u001b[1;32m----> 6\u001b[1;33m         \u001b[0mPA_series\u001b[0m \u001b[1;33m=\u001b[0m \u001b[0mboys_bp_d\u001b[0m\u001b[1;33m.\u001b[0m\u001b[0mloc\u001b[0m\u001b[1;33m[\u001b[0m\u001b[0mboys_bp_d\u001b[0m\u001b[1;33m[\u001b[0m\u001b[1;34m'I'\u001b[0m\u001b[1;33m]\u001b[0m \u001b[1;33m==\u001b[0m \u001b[1;36m12\u001b[0m\u001b[1;33m]\u001b[0m\u001b[1;33m\u001b[0m\u001b[1;33m\u001b[0m\u001b[0m\n\u001b[0m\u001b[0;32m      7\u001b[0m     \u001b[1;32melse\u001b[0m\u001b[1;33m:\u001b[0m\u001b[1;33m\u001b[0m\u001b[1;33m\u001b[0m\u001b[0m\n\u001b[0;32m      8\u001b[0m         \u001b[0mPA_series\u001b[0m \u001b[1;33m=\u001b[0m \u001b[0mboys_bp_d\u001b[0m\u001b[1;33m.\u001b[0m\u001b[0mloc\u001b[0m\u001b[1;33m[\u001b[0m\u001b[0mboys_bp_d\u001b[0m\u001b[1;33m[\u001b[0m\u001b[1;34m'I'\u001b[0m\u001b[1;33m]\u001b[0m \u001b[1;33m<=\u001b[0m \u001b[0midade\u001b[0m\u001b[1;33m]\u001b[0m\u001b[1;33m[\u001b[0m\u001b[1;33m-\u001b[0m\u001b[1;36m4\u001b[0m\u001b[1;33m:\u001b[0m\u001b[1;33m]\u001b[0m \u001b[1;31m#### verificar se dá direito\u001b[0m\u001b[1;33m\u001b[0m\u001b[1;33m\u001b[0m\u001b[0m\n",
      "\u001b[1;31mNameError\u001b[0m: name 'boys_bp_d' is not defined"
     ]
    }
   ],
   "source": [
    "df_boys['PAD PER'] = 0\n",
    "for i in range(len(df_boys)):\n",
    "    linha = df_boys.iloc[i]\n",
    "    A_P, idade  = str(linha['ALTURA PER']), linha['IDADE']\n",
    "    if idade < 12:\n",
    "        PA_series = boys_bp_d.loc[boys_bp_d['I'] == 12]\n",
    "    else: \n",
    "        PA_series = boys_bp_d.loc[boys_bp_d['I'] <= idade][-4:] #### verificar se dá direito \n",
    "    fernando = PA_series.loc[PA_series[A_P]<=linha['PA DIASTOLICA'],'PE']\n",
    "    if len(fernando) == 0:\n",
    "        PA_PER = 1\n",
    "    else:\n",
    "        PA_PER = PA_series.loc[PA_series[A_P]<=linha['PA DIASTOLICA'],'PE'].iloc[-1]\n",
    "    df_boys['PAD PER'].iloc[i] = PA_PER"
   ]
  },
  {
   "cell_type": "code",
   "execution_count": 193,
   "metadata": {
    "ExecuteTime": {
     "end_time": "2021-01-13T18:43:57.991130Z",
     "start_time": "2021-01-13T18:43:57.982155Z"
    }
   },
   "outputs": [
    {
     "data": {
      "text/plain": [
       "array(['Não Calculado', 'Normal', 'Pre-Hipertensão PAS', 'HAS-2 PAS',\n",
       "       'Pre-Hipertensão PAD', nan, 'HAS-1 PAS', 'HAS-2 PAD', 'HAS-1 PAD'],\n",
       "      dtype=object)"
      ]
     },
     "execution_count": 193,
     "metadata": {},
     "output_type": "execute_result"
    }
   ],
   "source": [
    "df['PPA'].unique()"
   ]
  },
  {
   "cell_type": "code",
   "execution_count": 194,
   "metadata": {
    "ExecuteTime": {
     "end_time": "2021-01-13T18:43:58.155690Z",
     "start_time": "2021-01-13T18:43:58.108812Z"
    }
   },
   "outputs": [
    {
     "name": "stdout",
     "output_type": "stream",
     "text": [
      "0.8667982239763197\n",
      "0.8667982239763197\n"
     ]
    }
   ],
   "source": [
    "df_boys['PPA CALC'] = ''\n",
    "df_boys.loc[(df_boys['PAS PER'] < 90)&(df_boys['PAD PER']<90),'PPA CALC'] = 'Normal'\n",
    "df_boys.loc[df_boys['PAS PER'] == 90,'PPA CALC'] = 'Pre-Hipertensão PAS'\n",
    "df_boys.loc[df_boys['PAD PER'] == 90,'PPA CALC'] = 'Pre-Hipertensão PAD'\n",
    "df_boys.loc[df_boys['PAD PER'] == 95,'PPA CALC'] = 'HAS-1 PAD'\n",
    "df_boys.loc[df_boys['PAS PER'] == 95,'PPA CALC'] = 'HAS-1 PAS'\n",
    "df_boys.loc[df_boys['PAD PER'] == 99,'PPA CALC'] = 'HAS-2 PAD'\n",
    "df_boys.loc[df_boys['PAS PER'] == 99,'PPA CALC'] = 'HAS-2 PAS'\n",
    "df_boys1 = df_boys.drop(index = df_boys.loc[((df_boys['PPA'] == 'Não Calculado') | df_boys['PPA'].isna())|(df_boys['IDADE']<12)].index)\n",
    "print(len(df_boys1.loc[df_boys1['PPA'] == df_boys1['PPA CALC']])/len(df_boys1))\n",
    "print(len(df_boys1.loc[df_boys1['PPA'] == 'Normal'])/len(df_boys1))"
   ]
  },
  {
   "cell_type": "code",
   "execution_count": 195,
   "metadata": {
    "ExecuteTime": {
     "end_time": "2021-01-13T18:43:58.479821Z",
     "start_time": "2021-01-13T18:43:58.427962Z"
    },
    "scrolled": true
   },
   "outputs": [
    {
     "data": {
      "text/html": [
       "<div>\n",
       "<style scoped>\n",
       "    .dataframe tbody tr th:only-of-type {\n",
       "        vertical-align: middle;\n",
       "    }\n",
       "\n",
       "    .dataframe tbody tr th {\n",
       "        vertical-align: top;\n",
       "    }\n",
       "\n",
       "    .dataframe thead th {\n",
       "        text-align: right;\n",
       "    }\n",
       "</style>\n",
       "<table border=\"1\" class=\"dataframe\">\n",
       "  <thead>\n",
       "    <tr style=\"text-align: right;\">\n",
       "      <th></th>\n",
       "      <th>Altura</th>\n",
       "      <th>IMC</th>\n",
       "      <th>IDADE</th>\n",
       "      <th>PULSOS</th>\n",
       "      <th>PA SISTOLICA</th>\n",
       "      <th>PA DIASTOLICA</th>\n",
       "      <th>PPA</th>\n",
       "      <th>NORMAL X ANORMAL</th>\n",
       "      <th>B2</th>\n",
       "      <th>SOPRO</th>\n",
       "      <th>FC</th>\n",
       "      <th>HDA 1</th>\n",
       "      <th>SEXO</th>\n",
       "      <th>MOTIVO1</th>\n",
       "      <th>MOTIVO2</th>\n",
       "      <th>ALTURA PER</th>\n",
       "      <th>PAS PER</th>\n",
       "      <th>PAD PER</th>\n",
       "      <th>PPA CALC</th>\n",
       "    </tr>\n",
       "  </thead>\n",
       "  <tbody>\n",
       "    <tr>\n",
       "      <th>23</th>\n",
       "      <td>133</td>\n",
       "      <td>16.0</td>\n",
       "      <td>101.16</td>\n",
       "      <td>Normais</td>\n",
       "      <td>140.0</td>\n",
       "      <td>100.0</td>\n",
       "      <td>HAS-2 PAS</td>\n",
       "      <td>Anormal</td>\n",
       "      <td>Normal</td>\n",
       "      <td>sistólico</td>\n",
       "      <td>100</td>\n",
       "      <td>Outro</td>\n",
       "      <td>M</td>\n",
       "      <td>6 - Suspeita de cardiopatia</td>\n",
       "      <td>6 - HAS/dislipidemia/obesidade</td>\n",
       "      <td>0</td>\n",
       "      <td>0</td>\n",
       "      <td>0</td>\n",
       "      <td>Normal</td>\n",
       "    </tr>\n",
       "    <tr>\n",
       "      <th>26</th>\n",
       "      <td>143</td>\n",
       "      <td>26.0</td>\n",
       "      <td>119.4</td>\n",
       "      <td>Normais</td>\n",
       "      <td>120.0</td>\n",
       "      <td>80.0</td>\n",
       "      <td>Pre-Hipertensão PAS</td>\n",
       "      <td>Normal</td>\n",
       "      <td>Normal</td>\n",
       "      <td>ausente</td>\n",
       "      <td>90</td>\n",
       "      <td>NaN</td>\n",
       "      <td>M</td>\n",
       "      <td>6 - Suspeita de cardiopatia</td>\n",
       "      <td>6 - HAS/dislipidemia/obesidade</td>\n",
       "      <td>0</td>\n",
       "      <td>0</td>\n",
       "      <td>0</td>\n",
       "      <td>Normal</td>\n",
       "    </tr>\n",
       "    <tr>\n",
       "      <th>30</th>\n",
       "      <td>109</td>\n",
       "      <td>17.0</td>\n",
       "      <td>63.12</td>\n",
       "      <td>Normais</td>\n",
       "      <td>100.0</td>\n",
       "      <td>70.0</td>\n",
       "      <td>Pre-Hipertensão PAD</td>\n",
       "      <td>Normal</td>\n",
       "      <td>Normal</td>\n",
       "      <td>Sistólico</td>\n",
       "      <td>88</td>\n",
       "      <td>NaN</td>\n",
       "      <td>M</td>\n",
       "      <td>6 - Suspeita de cardiopatia</td>\n",
       "      <td>6 - Sopro</td>\n",
       "      <td>0</td>\n",
       "      <td>0</td>\n",
       "      <td>0</td>\n",
       "      <td>Normal</td>\n",
       "    </tr>\n",
       "    <tr>\n",
       "      <th>47</th>\n",
       "      <td>112</td>\n",
       "      <td>21.0</td>\n",
       "      <td>46.56</td>\n",
       "      <td>Normais</td>\n",
       "      <td>120.0</td>\n",
       "      <td>70.0</td>\n",
       "      <td>HAS-2 PAS</td>\n",
       "      <td>Anormal</td>\n",
       "      <td>Normal</td>\n",
       "      <td>Sistólico</td>\n",
       "      <td>80</td>\n",
       "      <td>Assintomático</td>\n",
       "      <td>M</td>\n",
       "      <td>6 - Suspeita de cardiopatia</td>\n",
       "      <td>6 - Sopro</td>\n",
       "      <td>0</td>\n",
       "      <td>0</td>\n",
       "      <td>0</td>\n",
       "      <td>Normal</td>\n",
       "    </tr>\n",
       "    <tr>\n",
       "      <th>219</th>\n",
       "      <td>145</td>\n",
       "      <td>29.0</td>\n",
       "      <td>124.56</td>\n",
       "      <td>Normais</td>\n",
       "      <td>130.0</td>\n",
       "      <td>80.0</td>\n",
       "      <td>HAS-2 PAS</td>\n",
       "      <td>Anormal</td>\n",
       "      <td>Normal</td>\n",
       "      <td>sistólico</td>\n",
       "      <td>88</td>\n",
       "      <td>Assintomático</td>\n",
       "      <td>M</td>\n",
       "      <td>5 - Parecer cardiológico</td>\n",
       "      <td>5 - Atividade física</td>\n",
       "      <td>0</td>\n",
       "      <td>0</td>\n",
       "      <td>0</td>\n",
       "      <td>Normal</td>\n",
       "    </tr>\n",
       "    <tr>\n",
       "      <th>...</th>\n",
       "      <td>...</td>\n",
       "      <td>...</td>\n",
       "      <td>...</td>\n",
       "      <td>...</td>\n",
       "      <td>...</td>\n",
       "      <td>...</td>\n",
       "      <td>...</td>\n",
       "      <td>...</td>\n",
       "      <td>...</td>\n",
       "      <td>...</td>\n",
       "      <td>...</td>\n",
       "      <td>...</td>\n",
       "      <td>...</td>\n",
       "      <td>...</td>\n",
       "      <td>...</td>\n",
       "      <td>...</td>\n",
       "      <td>...</td>\n",
       "      <td>...</td>\n",
       "      <td>...</td>\n",
       "    </tr>\n",
       "    <tr>\n",
       "      <th>16638</th>\n",
       "      <td>165</td>\n",
       "      <td>25.0</td>\n",
       "      <td>178.56</td>\n",
       "      <td>Normais</td>\n",
       "      <td>130.0</td>\n",
       "      <td>70.0</td>\n",
       "      <td>HAS-1 PAS</td>\n",
       "      <td>Normal</td>\n",
       "      <td>Normal</td>\n",
       "      <td>ausente</td>\n",
       "      <td>NaN</td>\n",
       "      <td>NaN</td>\n",
       "      <td>M</td>\n",
       "      <td>5 - Parecer cardiológico</td>\n",
       "      <td>5 - Cirurgia</td>\n",
       "      <td>0</td>\n",
       "      <td>0</td>\n",
       "      <td>0</td>\n",
       "      <td>Normal</td>\n",
       "    </tr>\n",
       "    <tr>\n",
       "      <th>16640</th>\n",
       "      <td>107</td>\n",
       "      <td>15.0</td>\n",
       "      <td>57.12</td>\n",
       "      <td>Normais</td>\n",
       "      <td>100.0</td>\n",
       "      <td>70.0</td>\n",
       "      <td>Pre-Hipertensão PAD</td>\n",
       "      <td>Anormal</td>\n",
       "      <td>Normal</td>\n",
       "      <td>Sistólico</td>\n",
       "      <td>88</td>\n",
       "      <td>Assintomático</td>\n",
       "      <td>M</td>\n",
       "      <td>5 - Parecer cardiológico</td>\n",
       "      <td>5 - Atividade física</td>\n",
       "      <td>0</td>\n",
       "      <td>0</td>\n",
       "      <td>0</td>\n",
       "      <td>Normal</td>\n",
       "    </tr>\n",
       "    <tr>\n",
       "      <th>16641</th>\n",
       "      <td>151</td>\n",
       "      <td>26.0</td>\n",
       "      <td>163.08</td>\n",
       "      <td>Normais</td>\n",
       "      <td>160.0</td>\n",
       "      <td>80.0</td>\n",
       "      <td>HAS-2 PAS</td>\n",
       "      <td>Anormal</td>\n",
       "      <td>Normal</td>\n",
       "      <td>Sistólico</td>\n",
       "      <td>120</td>\n",
       "      <td>Assintomático</td>\n",
       "      <td>M</td>\n",
       "      <td>5 - Parecer cardiológico</td>\n",
       "      <td>5 - Atividade física</td>\n",
       "      <td>0</td>\n",
       "      <td>0</td>\n",
       "      <td>0</td>\n",
       "      <td>Normal</td>\n",
       "    </tr>\n",
       "    <tr>\n",
       "      <th>16686</th>\n",
       "      <td>160</td>\n",
       "      <td>29.0</td>\n",
       "      <td>188.52</td>\n",
       "      <td>Normais</td>\n",
       "      <td>130.0</td>\n",
       "      <td>60.0</td>\n",
       "      <td>HAS-1 PAS</td>\n",
       "      <td>Anormal</td>\n",
       "      <td>Normal</td>\n",
       "      <td>ausente</td>\n",
       "      <td>76</td>\n",
       "      <td>Outro</td>\n",
       "      <td>M</td>\n",
       "      <td>6 - Suspeita de cardiopatia</td>\n",
       "      <td>6 - HAS/dislipidemia/obesidade</td>\n",
       "      <td>0</td>\n",
       "      <td>0</td>\n",
       "      <td>0</td>\n",
       "      <td>Normal</td>\n",
       "    </tr>\n",
       "    <tr>\n",
       "      <th>16692</th>\n",
       "      <td>89</td>\n",
       "      <td>14.0</td>\n",
       "      <td>33.72</td>\n",
       "      <td>Normais</td>\n",
       "      <td>90.0</td>\n",
       "      <td>60.0</td>\n",
       "      <td>Pre-Hipertensão PAD</td>\n",
       "      <td>Normal</td>\n",
       "      <td>Normal</td>\n",
       "      <td>ausente</td>\n",
       "      <td>NaN</td>\n",
       "      <td>Assintomático</td>\n",
       "      <td>M</td>\n",
       "      <td>5 - Parecer cardiológico</td>\n",
       "      <td>5 - Cirurgia</td>\n",
       "      <td>0</td>\n",
       "      <td>0</td>\n",
       "      <td>0</td>\n",
       "      <td>Normal</td>\n",
       "    </tr>\n",
       "  </tbody>\n",
       "</table>\n",
       "<p>540 rows × 19 columns</p>\n",
       "</div>"
      ],
      "text/plain": [
       "       Altura   IMC   IDADE   PULSOS  PA SISTOLICA  PA DIASTOLICA  \\\n",
       "23        133  16.0  101.16  Normais         140.0          100.0   \n",
       "26        143  26.0   119.4  Normais         120.0           80.0   \n",
       "30        109  17.0   63.12  Normais         100.0           70.0   \n",
       "47        112  21.0   46.56  Normais         120.0           70.0   \n",
       "219       145  29.0  124.56  Normais         130.0           80.0   \n",
       "...       ...   ...     ...      ...           ...            ...   \n",
       "16638     165  25.0  178.56  Normais         130.0           70.0   \n",
       "16640     107  15.0   57.12  Normais         100.0           70.0   \n",
       "16641     151  26.0  163.08  Normais         160.0           80.0   \n",
       "16686     160  29.0  188.52  Normais         130.0           60.0   \n",
       "16692      89  14.0   33.72  Normais          90.0           60.0   \n",
       "\n",
       "                       PPA NORMAL X ANORMAL      B2      SOPRO   FC  \\\n",
       "23               HAS-2 PAS          Anormal  Normal  sistólico  100   \n",
       "26     Pre-Hipertensão PAS           Normal  Normal    ausente   90   \n",
       "30     Pre-Hipertensão PAD           Normal  Normal  Sistólico   88   \n",
       "47               HAS-2 PAS          Anormal  Normal  Sistólico   80   \n",
       "219              HAS-2 PAS          Anormal  Normal  sistólico   88   \n",
       "...                    ...              ...     ...        ...  ...   \n",
       "16638            HAS-1 PAS           Normal  Normal    ausente  NaN   \n",
       "16640  Pre-Hipertensão PAD          Anormal  Normal  Sistólico   88   \n",
       "16641            HAS-2 PAS          Anormal  Normal  Sistólico  120   \n",
       "16686            HAS-1 PAS          Anormal  Normal    ausente   76   \n",
       "16692  Pre-Hipertensão PAD           Normal  Normal    ausente  NaN   \n",
       "\n",
       "               HDA 1 SEXO                      MOTIVO1  \\\n",
       "23             Outro    M  6 - Suspeita de cardiopatia   \n",
       "26               NaN    M  6 - Suspeita de cardiopatia   \n",
       "30               NaN    M  6 - Suspeita de cardiopatia   \n",
       "47     Assintomático    M  6 - Suspeita de cardiopatia   \n",
       "219    Assintomático    M     5 - Parecer cardiológico   \n",
       "...              ...  ...                          ...   \n",
       "16638            NaN    M     5 - Parecer cardiológico   \n",
       "16640  Assintomático    M     5 - Parecer cardiológico   \n",
       "16641  Assintomático    M     5 - Parecer cardiológico   \n",
       "16686          Outro    M  6 - Suspeita de cardiopatia   \n",
       "16692  Assintomático    M     5 - Parecer cardiológico   \n",
       "\n",
       "                              MOTIVO2  ALTURA PER  PAS PER  PAD PER PPA CALC  \n",
       "23     6 - HAS/dislipidemia/obesidade           0        0        0   Normal  \n",
       "26     6 - HAS/dislipidemia/obesidade           0        0        0   Normal  \n",
       "30                          6 - Sopro           0        0        0   Normal  \n",
       "47                          6 - Sopro           0        0        0   Normal  \n",
       "219              5 - Atividade física           0        0        0   Normal  \n",
       "...                               ...         ...      ...      ...      ...  \n",
       "16638                    5 - Cirurgia           0        0        0   Normal  \n",
       "16640            5 - Atividade física           0        0        0   Normal  \n",
       "16641            5 - Atividade física           0        0        0   Normal  \n",
       "16686  6 - HAS/dislipidemia/obesidade           0        0        0   Normal  \n",
       "16692                    5 - Cirurgia           0        0        0   Normal  \n",
       "\n",
       "[540 rows x 19 columns]"
      ]
     },
     "execution_count": 195,
     "metadata": {},
     "output_type": "execute_result"
    }
   ],
   "source": [
    "df_boys1.loc[df_boys1['PPA'] != df_boys1['PPA CALC']]"
   ]
  },
  {
   "cell_type": "markdown",
   "metadata": {},
   "source": [
    "Se pegarmos neste ultimo exemplo (idade 33.72 meses, altura 89 centimetros, PAS 90 e PAD 60) e formos ver manualmente nas tabelas fornecidas, os percentis identificados pelo programa estão corretos e mesmo assim o resultado difere do original, o que pode ser uma indicação de que as tabelas de percentis sejam diferentes."
   ]
  },
  {
   "cell_type": "code",
   "execution_count": 196,
   "metadata": {
    "ExecuteTime": {
     "end_time": "2021-01-13T18:43:58.758078Z",
     "start_time": "2021-01-13T18:43:58.735175Z"
    }
   },
   "outputs": [
    {
     "data": {
      "text/plain": [
       "array([0, 0.01, 0.02, ..., 17.95, 17.97, 17.99], dtype=object)"
      ]
     },
     "execution_count": 196,
     "metadata": {},
     "output_type": "execute_result"
    }
   ],
   "source": [
    "np.sort(df['IDADE'].unique())"
   ]
  },
  {
   "cell_type": "code",
   "execution_count": 197,
   "metadata": {
    "ExecuteTime": {
     "end_time": "2021-01-13T18:43:59.017517Z",
     "start_time": "2021-01-13T18:43:58.878334Z"
    }
   },
   "outputs": [],
   "source": [
    "df_medio = df[['SEXO','Altura','IDADE','PA SISTOLICA','PA DIASTOLICA','PPA']]\n",
    "df_medio.drop(index = df_medio.loc[(df_medio['IDADE'] < 1) | (df_medio['SEXO'] == 'Indeterminado')].index,inplace = True)\n",
    "df_calc = df_medio.drop(columns = 'PPA')\n",
    "df_calc['IDADE'] = df_calc['IDADE']*12\n",
    "df_calc.columns = ['sex','height','agemons','sbp','dbp']\n",
    "df_calc['id'] = df_calc.index\n",
    "df_calc\n",
    "df_calc.to_csv('calc_ppa.csv',index = False)\n",
    "df_calc.head(4).to_csv('calc_ppa_copia.csv',index = False)"
   ]
  },
  {
   "cell_type": "code",
   "execution_count": 198,
   "metadata": {
    "ExecuteTime": {
     "end_time": "2021-01-13T18:43:59.111264Z",
     "start_time": "2021-01-13T18:43:59.062359Z"
    }
   },
   "outputs": [
    {
     "ename": "FileNotFoundError",
     "evalue": "[Errno 2] No such file or directory: 'out_calc_ppa.csv'",
     "output_type": "error",
     "traceback": [
      "\u001b[1;31m---------------------------------------------------------------------------\u001b[0m",
      "\u001b[1;31mFileNotFoundError\u001b[0m                         Traceback (most recent call last)",
      "\u001b[1;32m<ipython-input-198-31fe7dc7ef03>\u001b[0m in \u001b[0;36m<module>\u001b[1;34m\u001b[0m\n\u001b[1;32m----> 1\u001b[1;33m \u001b[0mdf_final\u001b[0m \u001b[1;33m=\u001b[0m \u001b[0mpd\u001b[0m\u001b[1;33m.\u001b[0m\u001b[0mread_csv\u001b[0m\u001b[1;33m(\u001b[0m\u001b[1;34m'out_calc_ppa.csv'\u001b[0m\u001b[1;33m)\u001b[0m\u001b[1;33m\u001b[0m\u001b[1;33m\u001b[0m\u001b[0m\n\u001b[0m\u001b[0;32m      2\u001b[0m \u001b[0mdf_final\u001b[0m\u001b[1;33m.\u001b[0m\u001b[0mcolumns\u001b[0m \u001b[1;33m=\u001b[0m \u001b[1;33m[\u001b[0m\u001b[1;34m'id'\u001b[0m\u001b[1;33m,\u001b[0m \u001b[1;34m'sex'\u001b[0m\u001b[1;33m,\u001b[0m \u001b[1;34m'height'\u001b[0m\u001b[1;33m,\u001b[0m \u001b[1;34m'agemons'\u001b[0m\u001b[1;33m,\u001b[0m \u001b[1;34m'sbp'\u001b[0m\u001b[1;33m,\u001b[0m \u001b[1;34m'dbp'\u001b[0m\u001b[1;33m,\u001b[0m \u001b[1;34m'outlier'\u001b[0m\u001b[1;33m,\u001b[0m \u001b[1;34m'ht1'\u001b[0m\u001b[1;33m,\u001b[0m \u001b[1;34m'ht2'\u001b[0m\u001b[1;33m,\u001b[0m\u001b[1;34m'syspct'\u001b[0m\u001b[1;33m,\u001b[0m \u001b[1;34m'diapct'\u001b[0m\u001b[1;33m,\u001b[0m \u001b[1;34m'fxsys90'\u001b[0m\u001b[1;33m,\u001b[0m \u001b[1;34m'fxsys95'\u001b[0m\u001b[1;33m,\u001b[0m \u001b[1;34m'fxdia90'\u001b[0m\u001b[1;33m,\u001b[0m \u001b[1;34m'fxdia95'\u001b[0m\u001b[1;33m,\u001b[0m\u001b[1;34m'PPA CALC'\u001b[0m\u001b[1;33m]\u001b[0m\u001b[1;33m\u001b[0m\u001b[1;33m\u001b[0m\u001b[0m\n\u001b[0;32m      3\u001b[0m \u001b[0mdf_final\u001b[0m\u001b[1;33m[\u001b[0m\u001b[1;34m'PPA CALC'\u001b[0m\u001b[1;33m]\u001b[0m\u001b[1;33m.\u001b[0m\u001b[0munique\u001b[0m\u001b[1;33m(\u001b[0m\u001b[1;33m)\u001b[0m\u001b[1;33m\u001b[0m\u001b[1;33m\u001b[0m\u001b[0m\n",
      "\u001b[1;32m~\\Anaconda3\\lib\\site-packages\\pandas\\io\\parsers.py\u001b[0m in \u001b[0;36mread_csv\u001b[1;34m(filepath_or_buffer, sep, delimiter, header, names, index_col, usecols, squeeze, prefix, mangle_dupe_cols, dtype, engine, converters, true_values, false_values, skipinitialspace, skiprows, skipfooter, nrows, na_values, keep_default_na, na_filter, verbose, skip_blank_lines, parse_dates, infer_datetime_format, keep_date_col, date_parser, dayfirst, cache_dates, iterator, chunksize, compression, thousands, decimal, lineterminator, quotechar, quoting, doublequote, escapechar, comment, encoding, dialect, error_bad_lines, warn_bad_lines, delim_whitespace, low_memory, memory_map, float_precision)\u001b[0m\n\u001b[0;32m    684\u001b[0m     )\n\u001b[0;32m    685\u001b[0m \u001b[1;33m\u001b[0m\u001b[0m\n\u001b[1;32m--> 686\u001b[1;33m     \u001b[1;32mreturn\u001b[0m \u001b[0m_read\u001b[0m\u001b[1;33m(\u001b[0m\u001b[0mfilepath_or_buffer\u001b[0m\u001b[1;33m,\u001b[0m \u001b[0mkwds\u001b[0m\u001b[1;33m)\u001b[0m\u001b[1;33m\u001b[0m\u001b[1;33m\u001b[0m\u001b[0m\n\u001b[0m\u001b[0;32m    687\u001b[0m \u001b[1;33m\u001b[0m\u001b[0m\n\u001b[0;32m    688\u001b[0m \u001b[1;33m\u001b[0m\u001b[0m\n",
      "\u001b[1;32m~\\Anaconda3\\lib\\site-packages\\pandas\\io\\parsers.py\u001b[0m in \u001b[0;36m_read\u001b[1;34m(filepath_or_buffer, kwds)\u001b[0m\n\u001b[0;32m    450\u001b[0m \u001b[1;33m\u001b[0m\u001b[0m\n\u001b[0;32m    451\u001b[0m     \u001b[1;31m# Create the parser.\u001b[0m\u001b[1;33m\u001b[0m\u001b[1;33m\u001b[0m\u001b[1;33m\u001b[0m\u001b[0m\n\u001b[1;32m--> 452\u001b[1;33m     \u001b[0mparser\u001b[0m \u001b[1;33m=\u001b[0m \u001b[0mTextFileReader\u001b[0m\u001b[1;33m(\u001b[0m\u001b[0mfp_or_buf\u001b[0m\u001b[1;33m,\u001b[0m \u001b[1;33m**\u001b[0m\u001b[0mkwds\u001b[0m\u001b[1;33m)\u001b[0m\u001b[1;33m\u001b[0m\u001b[1;33m\u001b[0m\u001b[0m\n\u001b[0m\u001b[0;32m    453\u001b[0m \u001b[1;33m\u001b[0m\u001b[0m\n\u001b[0;32m    454\u001b[0m     \u001b[1;32mif\u001b[0m \u001b[0mchunksize\u001b[0m \u001b[1;32mor\u001b[0m \u001b[0miterator\u001b[0m\u001b[1;33m:\u001b[0m\u001b[1;33m\u001b[0m\u001b[1;33m\u001b[0m\u001b[0m\n",
      "\u001b[1;32m~\\Anaconda3\\lib\\site-packages\\pandas\\io\\parsers.py\u001b[0m in \u001b[0;36m__init__\u001b[1;34m(self, f, engine, **kwds)\u001b[0m\n\u001b[0;32m    934\u001b[0m             \u001b[0mself\u001b[0m\u001b[1;33m.\u001b[0m\u001b[0moptions\u001b[0m\u001b[1;33m[\u001b[0m\u001b[1;34m\"has_index_names\"\u001b[0m\u001b[1;33m]\u001b[0m \u001b[1;33m=\u001b[0m \u001b[0mkwds\u001b[0m\u001b[1;33m[\u001b[0m\u001b[1;34m\"has_index_names\"\u001b[0m\u001b[1;33m]\u001b[0m\u001b[1;33m\u001b[0m\u001b[1;33m\u001b[0m\u001b[0m\n\u001b[0;32m    935\u001b[0m \u001b[1;33m\u001b[0m\u001b[0m\n\u001b[1;32m--> 936\u001b[1;33m         \u001b[0mself\u001b[0m\u001b[1;33m.\u001b[0m\u001b[0m_make_engine\u001b[0m\u001b[1;33m(\u001b[0m\u001b[0mself\u001b[0m\u001b[1;33m.\u001b[0m\u001b[0mengine\u001b[0m\u001b[1;33m)\u001b[0m\u001b[1;33m\u001b[0m\u001b[1;33m\u001b[0m\u001b[0m\n\u001b[0m\u001b[0;32m    937\u001b[0m \u001b[1;33m\u001b[0m\u001b[0m\n\u001b[0;32m    938\u001b[0m     \u001b[1;32mdef\u001b[0m \u001b[0mclose\u001b[0m\u001b[1;33m(\u001b[0m\u001b[0mself\u001b[0m\u001b[1;33m)\u001b[0m\u001b[1;33m:\u001b[0m\u001b[1;33m\u001b[0m\u001b[1;33m\u001b[0m\u001b[0m\n",
      "\u001b[1;32m~\\Anaconda3\\lib\\site-packages\\pandas\\io\\parsers.py\u001b[0m in \u001b[0;36m_make_engine\u001b[1;34m(self, engine)\u001b[0m\n\u001b[0;32m   1166\u001b[0m     \u001b[1;32mdef\u001b[0m \u001b[0m_make_engine\u001b[0m\u001b[1;33m(\u001b[0m\u001b[0mself\u001b[0m\u001b[1;33m,\u001b[0m \u001b[0mengine\u001b[0m\u001b[1;33m=\u001b[0m\u001b[1;34m\"c\"\u001b[0m\u001b[1;33m)\u001b[0m\u001b[1;33m:\u001b[0m\u001b[1;33m\u001b[0m\u001b[1;33m\u001b[0m\u001b[0m\n\u001b[0;32m   1167\u001b[0m         \u001b[1;32mif\u001b[0m \u001b[0mengine\u001b[0m \u001b[1;33m==\u001b[0m \u001b[1;34m\"c\"\u001b[0m\u001b[1;33m:\u001b[0m\u001b[1;33m\u001b[0m\u001b[1;33m\u001b[0m\u001b[0m\n\u001b[1;32m-> 1168\u001b[1;33m             \u001b[0mself\u001b[0m\u001b[1;33m.\u001b[0m\u001b[0m_engine\u001b[0m \u001b[1;33m=\u001b[0m \u001b[0mCParserWrapper\u001b[0m\u001b[1;33m(\u001b[0m\u001b[0mself\u001b[0m\u001b[1;33m.\u001b[0m\u001b[0mf\u001b[0m\u001b[1;33m,\u001b[0m \u001b[1;33m**\u001b[0m\u001b[0mself\u001b[0m\u001b[1;33m.\u001b[0m\u001b[0moptions\u001b[0m\u001b[1;33m)\u001b[0m\u001b[1;33m\u001b[0m\u001b[1;33m\u001b[0m\u001b[0m\n\u001b[0m\u001b[0;32m   1169\u001b[0m         \u001b[1;32melse\u001b[0m\u001b[1;33m:\u001b[0m\u001b[1;33m\u001b[0m\u001b[1;33m\u001b[0m\u001b[0m\n\u001b[0;32m   1170\u001b[0m             \u001b[1;32mif\u001b[0m \u001b[0mengine\u001b[0m \u001b[1;33m==\u001b[0m \u001b[1;34m\"python\"\u001b[0m\u001b[1;33m:\u001b[0m\u001b[1;33m\u001b[0m\u001b[1;33m\u001b[0m\u001b[0m\n",
      "\u001b[1;32m~\\Anaconda3\\lib\\site-packages\\pandas\\io\\parsers.py\u001b[0m in \u001b[0;36m__init__\u001b[1;34m(self, src, **kwds)\u001b[0m\n\u001b[0;32m   1996\u001b[0m         \u001b[0mkwds\u001b[0m\u001b[1;33m[\u001b[0m\u001b[1;34m\"usecols\"\u001b[0m\u001b[1;33m]\u001b[0m \u001b[1;33m=\u001b[0m \u001b[0mself\u001b[0m\u001b[1;33m.\u001b[0m\u001b[0musecols\u001b[0m\u001b[1;33m\u001b[0m\u001b[1;33m\u001b[0m\u001b[0m\n\u001b[0;32m   1997\u001b[0m \u001b[1;33m\u001b[0m\u001b[0m\n\u001b[1;32m-> 1998\u001b[1;33m         \u001b[0mself\u001b[0m\u001b[1;33m.\u001b[0m\u001b[0m_reader\u001b[0m \u001b[1;33m=\u001b[0m \u001b[0mparsers\u001b[0m\u001b[1;33m.\u001b[0m\u001b[0mTextReader\u001b[0m\u001b[1;33m(\u001b[0m\u001b[0msrc\u001b[0m\u001b[1;33m,\u001b[0m \u001b[1;33m**\u001b[0m\u001b[0mkwds\u001b[0m\u001b[1;33m)\u001b[0m\u001b[1;33m\u001b[0m\u001b[1;33m\u001b[0m\u001b[0m\n\u001b[0m\u001b[0;32m   1999\u001b[0m         \u001b[0mself\u001b[0m\u001b[1;33m.\u001b[0m\u001b[0munnamed_cols\u001b[0m \u001b[1;33m=\u001b[0m \u001b[0mself\u001b[0m\u001b[1;33m.\u001b[0m\u001b[0m_reader\u001b[0m\u001b[1;33m.\u001b[0m\u001b[0munnamed_cols\u001b[0m\u001b[1;33m\u001b[0m\u001b[1;33m\u001b[0m\u001b[0m\n\u001b[0;32m   2000\u001b[0m \u001b[1;33m\u001b[0m\u001b[0m\n",
      "\u001b[1;32mpandas\\_libs\\parsers.pyx\u001b[0m in \u001b[0;36mpandas._libs.parsers.TextReader.__cinit__\u001b[1;34m()\u001b[0m\n",
      "\u001b[1;32mpandas\\_libs\\parsers.pyx\u001b[0m in \u001b[0;36mpandas._libs.parsers.TextReader._setup_parser_source\u001b[1;34m()\u001b[0m\n",
      "\u001b[1;31mFileNotFoundError\u001b[0m: [Errno 2] No such file or directory: 'out_calc_ppa.csv'"
     ]
    }
   ],
   "source": [
    "df_final = pd.read_csv('out_calc_ppa.csv')\n",
    "df_final.columns = ['id', 'sex', 'height', 'agemons', 'sbp', 'dbp', 'outlier', 'ht1', 'ht2','syspct', 'diapct', 'fxsys90', 'fxsys95', 'fxdia90', 'fxdia95','PPA CALC']\n",
    "df_final['PPA CALC'].unique()"
   ]
  },
  {
   "cell_type": "markdown",
   "metadata": {},
   "source": [
    "## PPA"
   ]
  },
  {
   "cell_type": "code",
   "execution_count": 199,
   "metadata": {
    "ExecuteTime": {
     "end_time": "2021-01-13T18:43:59.358566Z",
     "start_time": "2021-01-13T18:43:59.333633Z"
    }
   },
   "outputs": [],
   "source": [
    "df.drop(index=df.loc[(df['PPA']=='Não Calculado') | (df['PPA'].isna())].index, inplace=True)"
   ]
  },
  {
   "cell_type": "markdown",
   "metadata": {},
   "source": [
    "## Pulsos"
   ]
  },
  {
   "cell_type": "code",
   "execution_count": 200,
   "metadata": {
    "ExecuteTime": {
     "end_time": "2021-01-13T18:43:59.736207Z",
     "start_time": "2021-01-13T18:43:59.726233Z"
    }
   },
   "outputs": [
    {
     "data": {
      "text/plain": [
       "array(['Normais', nan, 'Outro', 'Femorais diminuidos', 'Amplos',\n",
       "       'Diminuídos '], dtype=object)"
      ]
     },
     "execution_count": 200,
     "metadata": {},
     "output_type": "execute_result"
    }
   ],
   "source": [
    "df['PULSOS'].unique()"
   ]
  },
  {
   "cell_type": "markdown",
   "metadata": {},
   "source": [
    "Temos mais uma vez rótulos redundantes, logo vamos aplicar um tratamento similar ao utilizado no Sexo. Vamos substituir os nan por Normais."
   ]
  },
  {
   "cell_type": "code",
   "execution_count": 201,
   "metadata": {
    "ExecuteTime": {
     "end_time": "2021-01-13T18:44:00.066343Z",
     "start_time": "2021-01-13T18:44:00.049389Z"
    }
   },
   "outputs": [],
   "source": [
    "df.loc[df['PULSOS'] == 'NORMAIS', 'PULSOS'] = 'Normais'\n",
    "df.loc[df['PULSOS'] == 'AMPLOS', 'PULSOS'] = 'Amplos'\n",
    "df.loc[df['PULSOS'].isna(), 'PULSOS'] = 'Normais'"
   ]
  },
  {
   "cell_type": "markdown",
   "metadata": {},
   "source": [
    "## Sopro"
   ]
  },
  {
   "cell_type": "code",
   "execution_count": 202,
   "metadata": {
    "ExecuteTime": {
     "end_time": "2021-01-13T18:44:00.334244Z",
     "start_time": "2021-01-13T18:44:00.323275Z"
    }
   },
   "outputs": [
    {
     "data": {
      "text/plain": [
       "array(['ausente', 'sistólico', 'Sistólico', 'Contínuo', 'diastólico',\n",
       "       'contínuo'], dtype=object)"
      ]
     },
     "execution_count": 202,
     "metadata": {},
     "output_type": "execute_result"
    }
   ],
   "source": [
    "df['SOPRO'].unique()"
   ]
  },
  {
   "cell_type": "markdown",
   "metadata": {},
   "source": [
    "Podemos valores que tipo de rótulos estão associados a este atributo. Vemos que existem casos de rótulos que tencionam ser o mesmo porém o programa interpretaria como diferentes pois diferem ortograficamente no nosso \\textit{dataset}, como é o caso de \"contínuo\" e \"Contínuo\". Manualmente, podemos então solucionar esta inconveniência concordando numa grafia e alterando as que divergem desta. Para o caso dos valores NA que são 1167 imputaremos todos com o rótulo \"ausente\" "
   ]
  },
  {
   "cell_type": "code",
   "execution_count": 203,
   "metadata": {
    "ExecuteTime": {
     "end_time": "2021-01-13T18:44:00.684037Z",
     "start_time": "2021-01-13T18:44:00.672069Z"
    }
   },
   "outputs": [],
   "source": [
    "df.loc[df['SOPRO'] == 'sistólico','SOPRO'] = 'Sistólico'\n",
    "df.loc[df['SOPRO'] == 'contínuo','SOPRO'] = 'Contínuo'\n",
    "df.loc[df['SOPRO'].isna(),'SOPRO'] = 'ausente'"
   ]
  },
  {
   "cell_type": "markdown",
   "metadata": {},
   "source": [
    "## FC"
   ]
  },
  {
   "cell_type": "code",
   "execution_count": 204,
   "metadata": {
    "ExecuteTime": {
     "end_time": "2021-01-13T18:44:01.040222Z",
     "start_time": "2021-01-13T18:44:01.007309Z"
    }
   },
   "outputs": [],
   "source": [
    "from scipy import stats\n",
    "coiso = []\n",
    "for i in df['FC']:\n",
    "    if type(i) == str:\n",
    "        coiso.append(i)\n",
    "\n",
    "def string_converter(string):\n",
    "    if type(string) == str:\n",
    "        nums = np.array([char for char in string])\n",
    "        hif = np.where(nums == '-')\n",
    "        if not not hif[0]:\n",
    "            pal1 = ''.join(nums[:hif[0][0]])\n",
    "            pal2 = ''.join(nums[hif[0][0]+1:])\n",
    "        else:\n",
    "            hif = np.where(nums == 'a')\n",
    "            pal1 = ''.join(nums[:hif[0][0]-1])\n",
    "            pal2 = ''.join(nums[hif[0][0]+2:])\n",
    "        num1 = int(pal1)\n",
    "        num2 = int(pal2)\n",
    "        return .5*(num1 + num2)\n",
    "    else:\n",
    "        return string\n",
    "\n",
    "df['FC'] = df['FC'].apply(string_converter)"
   ]
  },
  {
   "cell_type": "code",
   "execution_count": 205,
   "metadata": {
    "ExecuteTime": {
     "end_time": "2021-01-13T18:44:01.462091Z",
     "start_time": "2021-01-13T18:44:01.165883Z"
    }
   },
   "outputs": [
    {
     "data": {
      "text/plain": [
       "(array([2.430e+02, 0.000e+00, 3.000e+01, 1.250e+03, 4.472e+03, 9.110e+02,\n",
       "        6.600e+01, 1.100e+01, 1.000e+00, 2.000e+00]),\n",
       " array([  0.96550243,  20.06895219,  39.17240195,  58.2758517 ,\n",
       "         77.37930146,  96.48275122, 115.58620097, 134.68965073,\n",
       "        153.79310049, 172.89655024, 192.        ]),\n",
       " <BarContainer object of 10 artists>)"
      ]
     },
     "execution_count": 205,
     "metadata": {},
     "output_type": "execute_result"
    },
    {
     "data": {
      "image/png": "[encoded data removed]",
      "text/plain": [
       "<Figure size 432x288 with 1 Axes>"
      ]
     },
     "metadata": {},
     "output_type": "display_data"
    }
   ],
   "source": [
    "dropar_outl = (df['FC'].dropna())[np.abs(stats.zscore(df['FC'].dropna())) > 3].index\n",
    "df.drop(dropar_outl,axis=0,inplace = True)\n",
    "df['FC'] = df['FC'].fillna(np.mean(df['FC'].notna()))\n",
    "plt.hist(df['FC'])"
   ]
  },
  {
   "cell_type": "markdown",
   "metadata": {},
   "source": [
    "Como foi referido anteriormente, a coluna FC tem uma mistura de valores inteiros e intervalos de valores que são guardados como $\\textit{string}$. Para colmatar isto, escrevemos uma rotina que lê o primeiro e o último valor do intervalo e substitui esse dado pelo valor médio do intervalo de valores. Para além disso, este conjunto de dados também tinha outliers que forma eliminados pelo critério de z-score como foi feito para outros atributos que apresentavam peculiaridades similares."
   ]
  },
  {
   "cell_type": "markdown",
   "metadata": {},
   "source": [
    "## HDA1"
   ]
  },
  {
   "cell_type": "code",
   "execution_count": 206,
   "metadata": {
    "ExecuteTime": {
     "end_time": "2021-01-13T18:44:01.664590Z",
     "start_time": "2021-01-13T18:44:01.655573Z"
    }
   },
   "outputs": [
    {
     "data": {
      "text/plain": [
       "array([nan, 'Assintomático', 'Desmaio/tontura', 'Dor precordial', 'Outro',\n",
       "       'Palpitacao', 'Dispneia', 'Ganho de peso', 'Cianose'], dtype=object)"
      ]
     },
     "execution_count": 206,
     "metadata": {},
     "output_type": "execute_result"
    }
   ],
   "source": [
    "df['HDA 1'].unique()    #Não há problemas de duplicação de rótulos"
   ]
  },
  {
   "cell_type": "code",
   "execution_count": 207,
   "metadata": {
    "ExecuteTime": {
     "end_time": "2021-01-13T18:44:01.839263Z",
     "start_time": "2021-01-13T18:44:01.824303Z"
    }
   },
   "outputs": [],
   "source": [
    "df['HDA 1'][df['HDA 1'].isna()] = ['Outro'] * np.sum(df['HDA 1'].isna())"
   ]
  },
  {
   "cell_type": "markdown",
   "metadata": {},
   "source": [
    "Verificamos que não existem redundâncias óbvias nos rótulos deste atributo. Assim que asseguramos que estas não existiam, verificamos que existiam 3962 NA's neste atributo. Como já existia um rótulo de \"Outro\" decidimos que seria seguro considerar os valores não atribuídos como sendo \"Outro\" a fim de não introduzir enviesamentos estatíticos pela eliminação destes valores e por causa da dificuldade de prever esta caraterística.\n"
   ]
  },
  {
   "cell_type": "markdown",
   "metadata": {},
   "source": [
    "## Motivo 1"
   ]
  },
  {
   "cell_type": "code",
   "execution_count": 208,
   "metadata": {
    "ExecuteTime": {
     "end_time": "2021-01-13T18:44:02.351139Z",
     "start_time": "2021-01-13T18:44:02.343159Z"
    }
   },
   "outputs": [
    {
     "data": {
      "text/plain": [
       "array(['5 - Parecer cardiológico', '2 - Check-up',\n",
       "       '6 - Suspeita de cardiopatia', '1 - Cardiopatia já estabelecida',\n",
       "       '7 - Outro', nan], dtype=object)"
      ]
     },
     "execution_count": 208,
     "metadata": {},
     "output_type": "execute_result"
    }
   ],
   "source": [
    "df['MOTIVO1'].unique() #Não há problema de duplicação de rótulos"
   ]
  },
  {
   "cell_type": "code",
   "execution_count": 209,
   "metadata": {
    "ExecuteTime": {
     "end_time": "2021-01-13T18:44:02.517871Z",
     "start_time": "2021-01-13T18:44:02.502770Z"
    }
   },
   "outputs": [],
   "source": [
    "df['MOTIVO1'][df['MOTIVO1'].isna()] = ['7 - Outro'] * np.sum(df['MOTIVO1'].isna())"
   ]
  },
  {
   "cell_type": "markdown",
   "metadata": {},
   "source": [
    "Para o Motivo 1 empregamos a mesma estratégia que utilizamos para o HDA1, ou seja, averiguamos redundâncias e substituímos os valores não atribuídos pelo rótulo já existente \"7 - Outro\" pelas razões supracitadas.\n"
   ]
  },
  {
   "cell_type": "markdown",
   "metadata": {},
   "source": [
    "## Motivo 2"
   ]
  },
  {
   "cell_type": "code",
   "execution_count": 210,
   "metadata": {
    "ExecuteTime": {
     "end_time": "2021-01-13T18:44:02.990364Z",
     "start_time": "2021-01-13T18:44:02.978400Z"
    }
   },
   "outputs": [
    {
     "data": {
      "text/plain": [
       "array(['5 - Atividade física', nan, '5 - Cirurgia',\n",
       "       '6 - Palpitação/taquicardia/arritmia',\n",
       "       '6 - HAS/dislipidemia/obesidade', '6 - Sopro', 'Outro',\n",
       "       '6 - Dor precordial', '6 - Dispnéia', '1 - Cardiopatia congenica',\n",
       "       '6 - Cansaço', '1 - Cardiopatia adquirida',\n",
       "       '6 - Cardiopatia na familia', '6 - Cianose',\n",
       "       '6 - Cianose e dispnéia', '5 - Uso de cisaprida'], dtype=object)"
      ]
     },
     "execution_count": 210,
     "metadata": {},
     "output_type": "execute_result"
    }
   ],
   "source": [
    "df['MOTIVO2'].unique() #Não há problema de duplicação de rótulos\n"
   ]
  },
  {
   "cell_type": "code",
   "execution_count": 211,
   "metadata": {
    "ExecuteTime": {
     "end_time": "2021-01-13T18:44:03.153964Z",
     "start_time": "2021-01-13T18:44:03.138006Z"
    }
   },
   "outputs": [],
   "source": [
    "df['MOTIVO2'][df['MOTIVO2'].isna()] = ['Outro'] * np.sum(df['MOTIVO2'].isna())"
   ]
  },
  {
   "cell_type": "markdown",
   "metadata": {},
   "source": [
    "Mais uma vez fizemos o mesmo procedimento para este atributo.\n"
   ]
  },
  {
   "cell_type": "markdown",
   "metadata": {},
   "source": [
    "## B2"
   ]
  },
  {
   "cell_type": "code",
   "execution_count": 212,
   "metadata": {
    "ExecuteTime": {
     "end_time": "2021-01-13T18:44:03.659168Z",
     "start_time": "2021-01-13T18:44:03.651194Z"
    }
   },
   "outputs": [
    {
     "data": {
      "text/plain": [
       "array(['Normal', 'Desdob fixo', 'Outro', 'Hiperfonética', 'Única', nan],\n",
       "      dtype=object)"
      ]
     },
     "execution_count": 212,
     "metadata": {},
     "output_type": "execute_result"
    }
   ],
   "source": [
    "df['B2'].unique()"
   ]
  },
  {
   "cell_type": "code",
   "execution_count": 213,
   "metadata": {
    "ExecuteTime": {
     "end_time": "2021-01-13T18:44:03.824757Z",
     "start_time": "2021-01-13T18:44:03.813759Z"
    }
   },
   "outputs": [],
   "source": [
    "df['B2'][df['B2'].isna()] = ['Outro'] * np.sum(df['B2'].isna())"
   ]
  },
  {
   "cell_type": "markdown",
   "metadata": {},
   "source": [
    "# Criação do dataset de previsão"
   ]
  },
  {
   "cell_type": "code",
   "execution_count": 214,
   "metadata": {
    "ExecuteTime": {
     "end_time": "2021-01-13T18:44:04.152587Z",
     "start_time": "2021-01-13T18:44:04.135632Z"
    }
   },
   "outputs": [
    {
     "data": {
      "text/plain": [
       "Altura              0\n",
       "IMC                 0\n",
       "IDADE               0\n",
       "PULSOS              0\n",
       "PA SISTOLICA        0\n",
       "PA DIASTOLICA       0\n",
       "PPA                 0\n",
       "NORMAL X ANORMAL    0\n",
       "B2                  0\n",
       "SOPRO               0\n",
       "FC                  0\n",
       "HDA 1               0\n",
       "SEXO                0\n",
       "MOTIVO1             0\n",
       "MOTIVO2             0\n",
       "dtype: int64"
      ]
     },
     "execution_count": 214,
     "metadata": {},
     "output_type": "execute_result"
    }
   ],
   "source": [
    "df.isna().sum()"
   ]
  },
  {
   "cell_type": "markdown",
   "metadata": {},
   "source": [
    "Neste momento, temos o nosso dataset livre de NAs e sem duplicação de rótulos. Temos agora em frente a difícil tarefa de procurar os padrões neste problema com uma elevada dimensionalidade."
   ]
  },
  {
   "cell_type": "markdown",
   "metadata": {},
   "source": [
    "Agora, vamos dividir o nosso dataset. Criaremos o df2 - dataset que vai ser usado nos modelos preditivos. Este dataset vai ser devidamente normalizado e as variáveis categóricas vão ser substituídas por variáveis discretas numéricas, de modo a ser mais fácil serem processadas pelos algoritmos de machine learning.\n",
    "\n",
    "Por outro lado, vamos continuar a utilizar o dataset original para análise das correlações entre variáveis, clustering, etc"
   ]
  },
  {
   "cell_type": "code",
   "execution_count": 215,
   "metadata": {
    "ExecuteTime": {
     "end_time": "2021-01-13T18:44:04.884663Z",
     "start_time": "2021-01-13T18:44:04.686160Z"
    }
   },
   "outputs": [],
   "source": [
    "df2 = df\n",
    "\n",
    "df2.loc[df2['SEXO'] == 'M', 'SEXO'] = 0\n",
    "df2.loc[df2['SEXO'] == 'F', 'SEXO'] = 1\n",
    "\n",
    "df2.loc[df2['NORMAL X ANORMAL'] == 'Normal', 'NORMAL X ANORMAL'] = 0\n",
    "df2.loc[df2['NORMAL X ANORMAL'] == 'Anormal', 'NORMAL X ANORMAL'] = 1\n",
    "\n",
    "\n",
    "#O código seguinte serva para tornar as variaveis categóricas numéricas. O código poderia ser mais elegante.\n",
    "\n",
    "\n",
    "j=0\n",
    "\n",
    "for i in (df2['PULSOS'].unique()):\n",
    "    df2.loc[df2['PULSOS'] == i, 'PULSOS'] = j\n",
    "    j+=1\n",
    "    \n",
    "    \n",
    "j=0\n",
    "\n",
    "for i in (df2['B2'].unique()):\n",
    "    df2.loc[df2['B2'] == i, 'B2'] = j\n",
    "    j+=1\n",
    "    \n",
    "j=0\n",
    "\n",
    "for i in (df2['SOPRO'].unique()):\n",
    "    df2.loc[df2['SOPRO'] == i, 'SOPRO'] = j\n",
    "    j+=1\n",
    "    \n",
    "\n",
    "j=0\n",
    "\n",
    "for i in (df2['HDA 1'].unique()):\n",
    "    df2.loc[df2['HDA 1'] == i, 'HDA 1'] = j\n",
    "    j+=1\n",
    "    \n",
    "j=0\n",
    "\n",
    "for i in (df2['MOTIVO1'].unique()):\n",
    "    df2.loc[df2['MOTIVO1'] == i, 'MOTIVO1'] = j\n",
    "    j+=1\n",
    "    \n",
    "j=0\n",
    "\n",
    "for i in (df2['MOTIVO2'].unique()):\n",
    "    df2.loc[df2['MOTIVO2'] == i, 'MOTIVO2'] = j\n",
    "    j+=1\n",
    "    \n",
    "j=0\n",
    "\n",
    "for i in (df2['PPA'].unique()):\n",
    "    df2.loc[df2['PPA'] == i, 'PPA'] = j\n",
    "    j+=1\n",
    "    \n",
    "    \n",
    "#Para normalizar as colunas    \n",
    "df2=(df2-df2.min())/(df2.max()-df2.min())"
   ]
  },
  {
   "cell_type": "code",
   "execution_count": 216,
   "metadata": {
    "ExecuteTime": {
     "end_time": "2021-01-13T18:44:04.919534Z",
     "start_time": "2021-01-13T18:44:04.887660Z"
    }
   },
   "outputs": [
    {
     "data": {
      "text/html": [
       "<div>\n",
       "<style scoped>\n",
       "    .dataframe tbody tr th:only-of-type {\n",
       "        vertical-align: middle;\n",
       "    }\n",
       "\n",
       "    .dataframe tbody tr th {\n",
       "        vertical-align: top;\n",
       "    }\n",
       "\n",
       "    .dataframe thead th {\n",
       "        text-align: right;\n",
       "    }\n",
       "</style>\n",
       "<table border=\"1\" class=\"dataframe\">\n",
       "  <thead>\n",
       "    <tr style=\"text-align: right;\">\n",
       "      <th></th>\n",
       "      <th>Altura</th>\n",
       "      <th>IMC</th>\n",
       "      <th>IDADE</th>\n",
       "      <th>PULSOS</th>\n",
       "      <th>PA SISTOLICA</th>\n",
       "      <th>PA DIASTOLICA</th>\n",
       "      <th>PPA</th>\n",
       "      <th>NORMAL X ANORMAL</th>\n",
       "      <th>B2</th>\n",
       "      <th>SOPRO</th>\n",
       "      <th>FC</th>\n",
       "      <th>HDA 1</th>\n",
       "      <th>SEXO</th>\n",
       "      <th>MOTIVO1</th>\n",
       "      <th>MOTIVO2</th>\n",
       "    </tr>\n",
       "  </thead>\n",
       "  <tbody>\n",
       "    <tr>\n",
       "      <th>4</th>\n",
       "      <td>0.600</td>\n",
       "      <td>0.40</td>\n",
       "      <td>0.505329</td>\n",
       "      <td>0</td>\n",
       "      <td>0.416667</td>\n",
       "      <td>0.385965</td>\n",
       "      <td>0</td>\n",
       "      <td>1</td>\n",
       "      <td>0</td>\n",
       "      <td>0</td>\n",
       "      <td>0.466065</td>\n",
       "      <td>0</td>\n",
       "      <td>0</td>\n",
       "      <td>0</td>\n",
       "      <td>0</td>\n",
       "    </tr>\n",
       "    <tr>\n",
       "      <th>5</th>\n",
       "      <td>0.360</td>\n",
       "      <td>0.42</td>\n",
       "      <td>0.17931</td>\n",
       "      <td>0</td>\n",
       "      <td>0.500000</td>\n",
       "      <td>0.473684</td>\n",
       "      <td>0</td>\n",
       "      <td>1</td>\n",
       "      <td>0.25</td>\n",
       "      <td>0</td>\n",
       "      <td>0.518412</td>\n",
       "      <td>0.142857</td>\n",
       "      <td>0</td>\n",
       "      <td>0.25</td>\n",
       "      <td>0.0714286</td>\n",
       "    </tr>\n",
       "    <tr>\n",
       "      <th>7</th>\n",
       "      <td>0.400</td>\n",
       "      <td>0.40</td>\n",
       "      <td>0.272727</td>\n",
       "      <td>0</td>\n",
       "      <td>0.555556</td>\n",
       "      <td>0.517544</td>\n",
       "      <td>0.166667</td>\n",
       "      <td>1</td>\n",
       "      <td>0</td>\n",
       "      <td>0</td>\n",
       "      <td>0.413718</td>\n",
       "      <td>0.142857</td>\n",
       "      <td>1</td>\n",
       "      <td>0</td>\n",
       "      <td>0.142857</td>\n",
       "    </tr>\n",
       "    <tr>\n",
       "      <th>10</th>\n",
       "      <td>0.440</td>\n",
       "      <td>0.32</td>\n",
       "      <td>0.294671</td>\n",
       "      <td>0</td>\n",
       "      <td>0.500000</td>\n",
       "      <td>0.517544</td>\n",
       "      <td>0</td>\n",
       "      <td>1</td>\n",
       "      <td>0</td>\n",
       "      <td>0.333333</td>\n",
       "      <td>0.455596</td>\n",
       "      <td>0.142857</td>\n",
       "      <td>0</td>\n",
       "      <td>0</td>\n",
       "      <td>0.142857</td>\n",
       "    </tr>\n",
       "    <tr>\n",
       "      <th>16</th>\n",
       "      <td>0.176</td>\n",
       "      <td>0.26</td>\n",
       "      <td>0.0739812</td>\n",
       "      <td>0</td>\n",
       "      <td>0.444444</td>\n",
       "      <td>0.473684</td>\n",
       "      <td>0</td>\n",
       "      <td>0</td>\n",
       "      <td>0</td>\n",
       "      <td>0</td>\n",
       "      <td>0.492238</td>\n",
       "      <td>0.142857</td>\n",
       "      <td>1</td>\n",
       "      <td>0</td>\n",
       "      <td>0.142857</td>\n",
       "    </tr>\n",
       "  </tbody>\n",
       "</table>\n",
       "</div>"
      ],
      "text/plain": [
       "    Altura   IMC      IDADE PULSOS  PA SISTOLICA  PA DIASTOLICA       PPA  \\\n",
       "4    0.600  0.40   0.505329      0      0.416667       0.385965         0   \n",
       "5    0.360  0.42    0.17931      0      0.500000       0.473684         0   \n",
       "7    0.400  0.40   0.272727      0      0.555556       0.517544  0.166667   \n",
       "10   0.440  0.32   0.294671      0      0.500000       0.517544         0   \n",
       "16   0.176  0.26  0.0739812      0      0.444444       0.473684         0   \n",
       "\n",
       "   NORMAL X ANORMAL    B2     SOPRO        FC     HDA 1 SEXO MOTIVO1  \\\n",
       "4                 1     0         0  0.466065         0    0       0   \n",
       "5                 1  0.25         0  0.518412  0.142857    0    0.25   \n",
       "7                 1     0         0  0.413718  0.142857    1       0   \n",
       "10                1     0  0.333333  0.455596  0.142857    0       0   \n",
       "16                0     0         0  0.492238  0.142857    1       0   \n",
       "\n",
       "      MOTIVO2  \n",
       "4           0  \n",
       "5   0.0714286  \n",
       "7    0.142857  \n",
       "10   0.142857  \n",
       "16   0.142857  "
      ]
     },
     "execution_count": 216,
     "metadata": {},
     "output_type": "execute_result"
    }
   ],
   "source": [
    "df2.head(5)"
   ]
  },
  {
   "cell_type": "markdown",
   "metadata": {},
   "source": [
    "# Data Transformation"
   ]
  },
  {
   "cell_type": "code",
   "execution_count": 217,
   "metadata": {
    "ExecuteTime": {
     "end_time": "2021-01-13T18:44:07.801556Z",
     "start_time": "2021-01-13T18:44:05.277213Z"
    }
   },
   "outputs": [
    {
     "data": {
      "image/png": "[encoded data removed]",
      "text/plain": [
       "<Figure size 1152x576 with 16 Axes>"
      ]
     },
     "metadata": {},
     "output_type": "display_data"
    }
   ],
   "source": [
    "colunas_num = ['IDADE', 'PA SISTOLICA','PA DIASTOLICA','FC','IMC']\n",
    "pd.plotting.scatter_matrix(df2[colunas_num],figsize=(16,8));"
   ]
  },
  {
   "cell_type": "markdown",
   "metadata": {},
   "source": [
    "A fim de ter uma análise preliminar dos dados já tratados vamos ver a como é que as quantidades numéricas se relacionam entre elas através da função scatter_matrix do pandas. Podemos ver a clara correlação linear que existe a pressão arterial sistólica e a pressão arterial diastólica que era, desde já, um resultado esperado e que atesta a fidedignidade dos nossos dados. Entre o IMC e tanto a PA diastólica como diastólica não vemos uma clara correlação. Vemos sim, um $\\textit{clustering}$ dos dados visto que as 3 distribuições são relativamente bem centradas como podemos ver nos histogramas na diagonal da matriz. Podemos argumentar a favor de uma ligeira correlação linear positiva entre IMC e as PA, que estaria de acordo com a nossa intuição, porém não evidente nos gráficos. "
   ]
  },
  {
   "cell_type": "code",
   "execution_count": 218,
   "metadata": {
    "ExecuteTime": {
     "end_time": "2021-01-13T18:44:08.333093Z",
     "start_time": "2021-01-13T18:44:07.803509Z"
    }
   },
   "outputs": [
    {
     "data": {
      "text/plain": [
       "<matplotlib.legend.Legend at 0x22bf045be48>"
      ]
     },
     "execution_count": 218,
     "metadata": {},
     "output_type": "execute_result"
    },
    {
     "data": {
      "image/png": "[encoded data removed]",
      "text/plain": [
       "<Figure size 432x288 with 1 Axes>"
      ]
     },
     "metadata": {},
     "output_type": "display_data"
    }
   ],
   "source": [
    "df['PA DIASTOLICA'].hist(bins = 30, label = 'PA DIASTOLICA')\n",
    "df['PA SISTOLICA'].hist(bins = 30, label= 'PA SISTOLICA')\n",
    "plt.legend()"
   ]
  },
  {
   "cell_type": "code",
   "execution_count": 219,
   "metadata": {
    "ExecuteTime": {
     "end_time": "2021-01-13T18:44:08.931093Z",
     "start_time": "2021-01-13T18:44:08.339077Z"
    }
   },
   "outputs": [
    {
     "data": {
      "image/png": "[encoded data removed]",
      "text/plain": [
       "<Figure size 432x288 with 1 Axes>"
      ]
     },
     "metadata": {},
     "output_type": "display_data"
    },
    {
     "data": {
      "image/png": "[encoded data removed]",
      "text/plain": [
       "<Figure size 432x288 with 1 Axes>"
      ]
     },
     "metadata": {},
     "output_type": "display_data"
    }
   ],
   "source": [
    "df.boxplot(column = 'PA SISTOLICA')\n",
    "plt.show()\n",
    "df.boxplot(column = 'PA DIASTOLICA')\n",
    "plt.show()"
   ]
  },
  {
   "cell_type": "markdown",
   "metadata": {},
   "source": [
    "Podemos inspecionar os diagramas de bigodes a fim de explorar a existência de outliers e a distribuição dos nossos dados. Vemos que existem outliers tão grandes como 180 no caso da PA sistólica ($\\approx 5\\times IQR + \\text{média}$) e 120 no caso da PA diastólica ($\\approx 6\\times IQR + \\text{média}$). Porém, se consultamos literatura acerca dos valores normais de pressão arterial veremos que só é considerada hipertensão se a PA SISTÓLICA estiver acima de 140, por isso podemos manter estes valores altos que vão até +- 180. Já para o limite inferior, é considerada baixa PA se se PA SISTÓLICA < 80 ou PA DIASTÓLICA < 60. Aqui vemos um caso de absurdamente baixa PA SISTÓLICA (10) e 3 casos de PA DIASTOLICA muito baixa (,6,6 e 7), que eliminaremos para evitar inconsistências."
   ]
  },
  {
   "cell_type": "code",
   "execution_count": 226,
   "metadata": {
    "ExecuteTime": {
     "end_time": "2021-01-13T19:05:10.368519Z",
     "start_time": "2021-01-13T19:05:10.351535Z"
    }
   },
   "outputs": [],
   "source": [
    "df.drop(index = df.loc[df['PA SISTOLICA'] < 11.].index, inplace = True)\n",
    "df.drop(index = df.loc[df['PA DIASTOLICA'] < 10.].index, inplace = True)"
   ]
  },
  {
   "cell_type": "code",
   "execution_count": 227,
   "metadata": {
    "ExecuteTime": {
     "end_time": "2021-01-13T19:05:20.024435Z",
     "start_time": "2021-01-13T19:05:19.813956Z"
    }
   },
   "outputs": [
    {
     "data": {
      "image/png": "[encoded data removed]",
      "text/plain": [
       "<Figure size 432x288 with 1 Axes>"
      ]
     },
     "metadata": {},
     "output_type": "display_data"
    },
    {
     "data": {
      "image/png": "[encoded data removed]",
      "text/plain": [
       "<Figure size 432x288 with 1 Axes>"
      ]
     },
     "metadata": {},
     "output_type": "display_data"
    }
   ],
   "source": [
    "df.boxplot(column = 'PA SISTOLICA')\n",
    "plt.show()\n",
    "df.boxplot(column = 'PA DIASTOLICA')\n",
    "plt.show()"
   ]
  },
  {
   "cell_type": "markdown",
   "metadata": {},
   "source": [
    "## Normalização "
   ]
  },
  {
   "cell_type": "code",
   "execution_count": 228,
   "metadata": {
    "ExecuteTime": {
     "end_time": "2021-01-13T19:07:04.639807Z",
     "start_time": "2021-01-13T19:07:04.592889Z"
    }
   },
   "outputs": [
    {
     "name": "stdout",
     "output_type": "stream",
     "text": [
      "IDADE\n",
      "PA SISTOLICA\n",
      "PA DIASTOLICA\n",
      "FC\n",
      "IMC\n"
     ]
    },
    {
     "data": {
      "text/html": [
       "<div>\n",
       "<style scoped>\n",
       "    .dataframe tbody tr th:only-of-type {\n",
       "        vertical-align: middle;\n",
       "    }\n",
       "\n",
       "    .dataframe tbody tr th {\n",
       "        vertical-align: top;\n",
       "    }\n",
       "\n",
       "    .dataframe thead th {\n",
       "        text-align: right;\n",
       "    }\n",
       "</style>\n",
       "<table border=\"1\" class=\"dataframe\">\n",
       "  <thead>\n",
       "    <tr style=\"text-align: right;\">\n",
       "      <th></th>\n",
       "      <th>Altura</th>\n",
       "      <th>IMC</th>\n",
       "      <th>IDADE</th>\n",
       "      <th>PULSOS</th>\n",
       "      <th>PA SISTOLICA</th>\n",
       "      <th>PA DIASTOLICA</th>\n",
       "      <th>PPA</th>\n",
       "      <th>NORMAL X ANORMAL</th>\n",
       "      <th>B2</th>\n",
       "      <th>SOPRO</th>\n",
       "      <th>FC</th>\n",
       "      <th>HDA 1</th>\n",
       "      <th>SEXO</th>\n",
       "      <th>MOTIVO1</th>\n",
       "      <th>MOTIVO2</th>\n",
       "      <th>normalized IDADE</th>\n",
       "      <th>normalized PA SISTOLICA</th>\n",
       "      <th>normalized PA DIASTOLICA</th>\n",
       "      <th>normalized FC</th>\n",
       "      <th>normalized IMC</th>\n",
       "    </tr>\n",
       "  </thead>\n",
       "  <tbody>\n",
       "    <tr>\n",
       "      <th>4</th>\n",
       "      <td>142</td>\n",
       "      <td>20.0</td>\n",
       "      <td>9.6</td>\n",
       "      <td>0</td>\n",
       "      <td>85.0</td>\n",
       "      <td>50.0</td>\n",
       "      <td>0</td>\n",
       "      <td>1</td>\n",
       "      <td>0</td>\n",
       "      <td>0</td>\n",
       "      <td>90.0</td>\n",
       "      <td>0</td>\n",
       "      <td>0</td>\n",
       "      <td>0</td>\n",
       "      <td>0</td>\n",
       "      <td>0.250276</td>\n",
       "      <td>-1.451839</td>\n",
       "      <td>-1.407656</td>\n",
       "      <td>0.388942</td>\n",
       "      <td>0.418451</td>\n",
       "    </tr>\n",
       "    <tr>\n",
       "      <th>5</th>\n",
       "      <td>112</td>\n",
       "      <td>21.0</td>\n",
       "      <td>4.4</td>\n",
       "      <td>0</td>\n",
       "      <td>100.0</td>\n",
       "      <td>60.0</td>\n",
       "      <td>0</td>\n",
       "      <td>1</td>\n",
       "      <td>1</td>\n",
       "      <td>0</td>\n",
       "      <td>100.0</td>\n",
       "      <td>1</td>\n",
       "      <td>0</td>\n",
       "      <td>1</td>\n",
       "      <td>1</td>\n",
       "      <td>-1.15291</td>\n",
       "      <td>-0.086316</td>\n",
       "      <td>-0.244837</td>\n",
       "      <td>0.915415</td>\n",
       "      <td>0.655865</td>\n",
       "    </tr>\n",
       "    <tr>\n",
       "      <th>7</th>\n",
       "      <td>117</td>\n",
       "      <td>20.0</td>\n",
       "      <td>5.89</td>\n",
       "      <td>0</td>\n",
       "      <td>110.0</td>\n",
       "      <td>65.0</td>\n",
       "      <td>1</td>\n",
       "      <td>1</td>\n",
       "      <td>0</td>\n",
       "      <td>0</td>\n",
       "      <td>80.0</td>\n",
       "      <td>1</td>\n",
       "      <td>1</td>\n",
       "      <td>0</td>\n",
       "      <td>2</td>\n",
       "      <td>-0.750846</td>\n",
       "      <td>0.824033</td>\n",
       "      <td>0.336573</td>\n",
       "      <td>-0.137530</td>\n",
       "      <td>0.418451</td>\n",
       "    </tr>\n",
       "    <tr>\n",
       "      <th>10</th>\n",
       "      <td>122</td>\n",
       "      <td>16.0</td>\n",
       "      <td>6.24</td>\n",
       "      <td>0</td>\n",
       "      <td>100.0</td>\n",
       "      <td>65.0</td>\n",
       "      <td>0</td>\n",
       "      <td>1</td>\n",
       "      <td>0</td>\n",
       "      <td>1</td>\n",
       "      <td>88.0</td>\n",
       "      <td>1</td>\n",
       "      <td>0</td>\n",
       "      <td>0</td>\n",
       "      <td>2</td>\n",
       "      <td>-0.6564</td>\n",
       "      <td>-0.086316</td>\n",
       "      <td>0.336573</td>\n",
       "      <td>0.283648</td>\n",
       "      <td>-0.531204</td>\n",
       "    </tr>\n",
       "    <tr>\n",
       "      <th>16</th>\n",
       "      <td>89</td>\n",
       "      <td>13.0</td>\n",
       "      <td>2.72</td>\n",
       "      <td>0</td>\n",
       "      <td>90.0</td>\n",
       "      <td>60.0</td>\n",
       "      <td>0</td>\n",
       "      <td>0</td>\n",
       "      <td>0</td>\n",
       "      <td>0</td>\n",
       "      <td>95.0</td>\n",
       "      <td>1</td>\n",
       "      <td>1</td>\n",
       "      <td>0</td>\n",
       "      <td>2</td>\n",
       "      <td>-1.60625</td>\n",
       "      <td>-0.996664</td>\n",
       "      <td>-0.244837</td>\n",
       "      <td>0.652179</td>\n",
       "      <td>-1.243446</td>\n",
       "    </tr>\n",
       "  </tbody>\n",
       "</table>\n",
       "</div>"
      ],
      "text/plain": [
       "    Altura   IMC IDADE PULSOS  PA SISTOLICA  PA DIASTOLICA PPA  \\\n",
       "4      142  20.0   9.6      0          85.0           50.0   0   \n",
       "5      112  21.0   4.4      0         100.0           60.0   0   \n",
       "7      117  20.0  5.89      0         110.0           65.0   1   \n",
       "10     122  16.0  6.24      0         100.0           65.0   0   \n",
       "16      89  13.0  2.72      0          90.0           60.0   0   \n",
       "\n",
       "   NORMAL X ANORMAL B2 SOPRO     FC HDA 1 SEXO MOTIVO1 MOTIVO2  \\\n",
       "4                 1  0     0   90.0     0    0       0       0   \n",
       "5                 1  1     0  100.0     1    0       1       1   \n",
       "7                 1  0     0   80.0     1    1       0       2   \n",
       "10                1  0     1   88.0     1    0       0       2   \n",
       "16                0  0     0   95.0     1    1       0       2   \n",
       "\n",
       "   normalized IDADE  normalized PA SISTOLICA  normalized PA DIASTOLICA  \\\n",
       "4          0.250276                -1.451839                 -1.407656   \n",
       "5          -1.15291                -0.086316                 -0.244837   \n",
       "7         -0.750846                 0.824033                  0.336573   \n",
       "10          -0.6564                -0.086316                  0.336573   \n",
       "16         -1.60625                -0.996664                 -0.244837   \n",
       "\n",
       "    normalized FC  normalized IMC  \n",
       "4        0.388942        0.418451  \n",
       "5        0.915415        0.655865  \n",
       "7       -0.137530        0.418451  \n",
       "10       0.283648       -0.531204  \n",
       "16       0.652179       -1.243446  "
      ]
     },
     "execution_count": 228,
     "metadata": {},
     "output_type": "execute_result"
    }
   ],
   "source": [
    "colunas_num = ['IDADE', 'PA SISTOLICA','PA DIASTOLICA','FC','IMC']\n",
    "\n",
    "for coluna in colunas_num:\n",
    "    print(coluna)\n",
    "    df['normalized '+str(coluna)] = (df[coluna] - df[coluna].mean())/df[coluna].std()\n",
    "df.head()"
   ]
  },
  {
   "cell_type": "code",
   "execution_count": null,
   "metadata": {},
   "outputs": [],
   "source": []
  }
 ],
 "metadata": {
  "kernelspec": {
   "display_name": "Python 3",
   "language": "python",
   "name": "python3"
  },
  "language_info": {
   "codemirror_mode": {
    "name": "ipython",
    "version": 3
   },
   "file_extension": ".py",
   "mimetype": "text/x-python",
   "name": "python",
   "nbconvert_exporter": "python",
   "pygments_lexer": "ipython3",
   "version": "3.7.3"
  }
 },
 "nbformat": 4,
 "nbformat_minor": 2
}
