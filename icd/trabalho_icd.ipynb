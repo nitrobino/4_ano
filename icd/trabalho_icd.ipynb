{
 "cells": [
  {
   "cell_type": "code",
   "execution_count": 1,
   "metadata": {
    "ExecuteTime": {
     "end_time": "2021-01-13T17:16:58.956625Z",
     "start_time": "2021-01-13T17:16:58.043871Z"
    }
   },
   "outputs": [],
   "source": [
    "import numpy as np\n",
    "import pandas as pd\n",
    "import matplotlib.pyplot as plt\n",
    "import warnings\n",
    "import math \n",
    "from IPython.display import Image\n",
    "%matplotlib inline\n",
    "\n",
    "warnings.simplefilter('ignore')\n",
    "plt.style.use('ggplot')"
   ]
  },
  {
   "cell_type": "markdown",
   "metadata": {},
   "source": [
    "# Introdução"
   ]
  },
  {
   "cell_type": "markdown",
   "metadata": {},
   "source": [
    "Neste trabalho foi-nos proposto, no contexto da cadeira de Introdução à Ciência de dados (CC40XX), lecionada na Faculdade de Ciências da Universidade do Porto, utilizar as ferramentas e técnicas analíticas para manipulação e tratamento de dados adquiridas ao longo do semestre num problema real e que exige um balanço de várias competências da parte dos elementos do nosso grupo de trabalho.\n",
    "\n",
    "\n",
    "Começamos por identificar o problema que se nos deparou aquando da proposição do projeto. É-nos dito que são dados recolhidos do Real Hospital Português, no Brasil, devidamente anonimizados e éticamente aprovados. Também nos é dada a informação de que o principal objetivo é o de conseguir classificar a normalidade ou abnormalidade associada aos sintomas de crianças vítimas de uma doença cardiológica.\n",
    "\n",
    "\n",
    "Assim, identificamos este como sendo o business problem que nos é proposto. A organização que disponibiliza os dados para análise pretende conseguir ajudar o maior número de pacientes possível assegurando o melhor e mais personalizado tratamento.\n",
    "\n",
    "\n",
    "Em conluio com isto, o problema de análise de dados que nos compete solucionar é o de ser capaz de criar um, ou vários, modelos preditivos e assegurar a sua eficácia na classificação acertada da normalidade/abnormalidade sintomática."
   ]
  },
  {
   "cell_type": "markdown",
   "metadata": {},
   "source": [
    "# Raw Data"
   ]
  },
  {
   "cell_type": "code",
   "execution_count": 2,
   "metadata": {
    "ExecuteTime": {
     "end_time": "2021-01-13T17:17:00.110283Z",
     "start_time": "2021-01-13T17:16:58.958923Z"
    }
   },
   "outputs": [],
   "source": [
    "df = pd.read_excel('UCMF.xls')\n",
    "df = df[:16700]"
   ]
  },
  {
   "cell_type": "code",
   "execution_count": 3,
   "metadata": {
    "ExecuteTime": {
     "end_time": "2021-01-13T17:17:00.183192Z",
     "start_time": "2021-01-13T17:17:00.112821Z"
    }
   },
   "outputs": [
    {
     "name": "stdout",
     "output_type": "stream",
     "text": [
      "(16700, 21)\n"
     ]
    },
    {
     "data": {
      "text/html": [
       "<div>\n",
       "<style scoped>\n",
       "    .dataframe tbody tr th:only-of-type {\n",
       "        vertical-align: middle;\n",
       "    }\n",
       "\n",
       "    .dataframe tbody tr th {\n",
       "        vertical-align: top;\n",
       "    }\n",
       "\n",
       "    .dataframe thead th {\n",
       "        text-align: right;\n",
       "    }\n",
       "</style>\n",
       "<table border=\"1\" class=\"dataframe\">\n",
       "  <thead>\n",
       "    <tr style=\"text-align: right;\">\n",
       "      <th></th>\n",
       "      <th>ID</th>\n",
       "      <th>Peso</th>\n",
       "      <th>Altura</th>\n",
       "      <th>IMC</th>\n",
       "      <th>Atendimento</th>\n",
       "      <th>DN</th>\n",
       "      <th>IDADE</th>\n",
       "      <th>Convenio</th>\n",
       "      <th>PULSOS</th>\n",
       "      <th>PA SISTOLICA</th>\n",
       "      <th>...</th>\n",
       "      <th>PPA</th>\n",
       "      <th>NORMAL X ANORMAL</th>\n",
       "      <th>B2</th>\n",
       "      <th>SOPRO</th>\n",
       "      <th>FC</th>\n",
       "      <th>HDA 1</th>\n",
       "      <th>HDA2</th>\n",
       "      <th>SEXO</th>\n",
       "      <th>MOTIVO1</th>\n",
       "      <th>MOTIVO2</th>\n",
       "    </tr>\n",
       "  </thead>\n",
       "  <tbody>\n",
       "    <tr>\n",
       "      <th>0</th>\n",
       "      <td>1</td>\n",
       "      <td>5.0</td>\n",
       "      <td>51</td>\n",
       "      <td>19.0</td>\n",
       "      <td>11/05/06</td>\n",
       "      <td>30/03/06</td>\n",
       "      <td>0.12</td>\n",
       "      <td>GS</td>\n",
       "      <td>Normais</td>\n",
       "      <td>NaN</td>\n",
       "      <td>...</td>\n",
       "      <td>Não Calculado</td>\n",
       "      <td>Anormal</td>\n",
       "      <td>Normal</td>\n",
       "      <td>Sistólico</td>\n",
       "      <td>112</td>\n",
       "      <td>Palpitacao</td>\n",
       "      <td>NaN</td>\n",
       "      <td>M</td>\n",
       "      <td>6 - Suspeita de cardiopatia</td>\n",
       "      <td>6 - Palpitação/taquicardia/arritmia</td>\n",
       "    </tr>\n",
       "    <tr>\n",
       "      <th>1</th>\n",
       "      <td>2</td>\n",
       "      <td>3.5</td>\n",
       "      <td>50</td>\n",
       "      <td>14.0</td>\n",
       "      <td>25/05/05</td>\n",
       "      <td>19/05/05</td>\n",
       "      <td>0.02</td>\n",
       "      <td>GS</td>\n",
       "      <td>Normais</td>\n",
       "      <td>NaN</td>\n",
       "      <td>...</td>\n",
       "      <td>Não Calculado</td>\n",
       "      <td>Anormal</td>\n",
       "      <td>Normal</td>\n",
       "      <td>ausente</td>\n",
       "      <td>128</td>\n",
       "      <td>Dispneia</td>\n",
       "      <td>NaN</td>\n",
       "      <td>M</td>\n",
       "      <td>6 - Suspeita de cardiopatia</td>\n",
       "      <td>6 - Dispnéia</td>\n",
       "    </tr>\n",
       "    <tr>\n",
       "      <th>2</th>\n",
       "      <td>3</td>\n",
       "      <td>0.0</td>\n",
       "      <td>0</td>\n",
       "      <td>NaN</td>\n",
       "      <td>12/06/01</td>\n",
       "      <td>08/05/05</td>\n",
       "      <td>-4.05</td>\n",
       "      <td>SULA</td>\n",
       "      <td>Normais</td>\n",
       "      <td>NaN</td>\n",
       "      <td>...</td>\n",
       "      <td>Não Calculado</td>\n",
       "      <td>Anormal</td>\n",
       "      <td>Normal</td>\n",
       "      <td>Sistólico</td>\n",
       "      <td>88</td>\n",
       "      <td>Assintomático</td>\n",
       "      <td>NaN</td>\n",
       "      <td>M</td>\n",
       "      <td>2 - Check-up</td>\n",
       "      <td>NaN</td>\n",
       "    </tr>\n",
       "    <tr>\n",
       "      <th>3</th>\n",
       "      <td>4</td>\n",
       "      <td>8.1</td>\n",
       "      <td>65</td>\n",
       "      <td>19.0</td>\n",
       "      <td>15/10/09</td>\n",
       "      <td>21/04/09</td>\n",
       "      <td>0.5</td>\n",
       "      <td>NaN</td>\n",
       "      <td>Normais</td>\n",
       "      <td>NaN</td>\n",
       "      <td>...</td>\n",
       "      <td>Não Calculado</td>\n",
       "      <td>Anormal</td>\n",
       "      <td>Normal</td>\n",
       "      <td>ausente</td>\n",
       "      <td>92</td>\n",
       "      <td>Assintomático</td>\n",
       "      <td>NaN</td>\n",
       "      <td>M</td>\n",
       "      <td>5 - Parecer cardiológico</td>\n",
       "      <td>NaN</td>\n",
       "    </tr>\n",
       "    <tr>\n",
       "      <th>4</th>\n",
       "      <td>5</td>\n",
       "      <td>39.5</td>\n",
       "      <td>142</td>\n",
       "      <td>20.0</td>\n",
       "      <td>23/01/09</td>\n",
       "      <td>24/10/99</td>\n",
       "      <td>9.6</td>\n",
       "      <td>Sulam</td>\n",
       "      <td>Normais</td>\n",
       "      <td>85.0</td>\n",
       "      <td>...</td>\n",
       "      <td>Normal</td>\n",
       "      <td>Anormal</td>\n",
       "      <td>Normal</td>\n",
       "      <td>ausente</td>\n",
       "      <td>90</td>\n",
       "      <td>NaN</td>\n",
       "      <td>NaN</td>\n",
       "      <td>M</td>\n",
       "      <td>5 - Parecer cardiológico</td>\n",
       "      <td>5 - Atividade física</td>\n",
       "    </tr>\n",
       "  </tbody>\n",
       "</table>\n",
       "<p>5 rows × 21 columns</p>\n",
       "</div>"
      ],
      "text/plain": [
       "   ID  Peso  Altura   IMC Atendimento        DN IDADE Convenio   PULSOS  \\\n",
       "0   1   5.0      51  19.0    11/05/06  30/03/06  0.12       GS  Normais   \n",
       "1   2   3.5      50  14.0    25/05/05  19/05/05  0.02       GS  Normais   \n",
       "2   3   0.0       0   NaN    12/06/01  08/05/05 -4.05     SULA  Normais   \n",
       "3   4   8.1      65  19.0    15/10/09  21/04/09   0.5      NaN  Normais   \n",
       "4   5  39.5     142  20.0    23/01/09  24/10/99   9.6    Sulam  Normais   \n",
       "\n",
       "   PA SISTOLICA  ...            PPA NORMAL X ANORMAL      B2      SOPRO   FC  \\\n",
       "0           NaN  ...  Não Calculado          Anormal  Normal  Sistólico  112   \n",
       "1           NaN  ...  Não Calculado          Anormal  Normal    ausente  128   \n",
       "2           NaN  ...  Não Calculado          Anormal  Normal  Sistólico   88   \n",
       "3           NaN  ...  Não Calculado          Anormal  Normal    ausente   92   \n",
       "4          85.0  ...         Normal          Anormal  Normal    ausente   90   \n",
       "\n",
       "           HDA 1 HDA2 SEXO                      MOTIVO1  \\\n",
       "0     Palpitacao  NaN    M  6 - Suspeita de cardiopatia   \n",
       "1       Dispneia  NaN    M  6 - Suspeita de cardiopatia   \n",
       "2  Assintomático  NaN    M                 2 - Check-up   \n",
       "3  Assintomático  NaN    M     5 - Parecer cardiológico   \n",
       "4            NaN  NaN    M     5 - Parecer cardiológico   \n",
       "\n",
       "                               MOTIVO2  \n",
       "0  6 - Palpitação/taquicardia/arritmia  \n",
       "1                         6 - Dispnéia  \n",
       "2                                  NaN  \n",
       "3                                  NaN  \n",
       "4                 5 - Atividade física  \n",
       "\n",
       "[5 rows x 21 columns]"
      ]
     },
     "execution_count": 3,
     "metadata": {},
     "output_type": "execute_result"
    }
   ],
   "source": [
    "print(df.shape)\n",
    "df.head(5)"
   ]
  },
  {
   "cell_type": "markdown",
   "metadata": {},
   "source": [
    "Os dados foram-nos apresentados em formato Excel, organizados em 17872 linhas\n",
    "e 21 colunas devidamente rotuladas. Numa fase inicial analisamos que tipo de informação nos era transmitida por cada coluna, categorizando as features."
   ]
  },
  {
   "cell_type": "code",
   "execution_count": 4,
   "metadata": {
    "ExecuteTime": {
     "end_time": "2021-01-13T17:17:00.250504Z",
     "start_time": "2021-01-13T17:17:00.190526Z"
    }
   },
   "outputs": [
    {
     "ename": "FileNotFoundError",
     "evalue": "No such file or directory: 'tabela.png'",
     "output_type": "error",
     "traceback": [
      "\u001b[0;31m---------------------------------------------------------------------------\u001b[0m",
      "\u001b[0;31mTypeError\u001b[0m                                 Traceback (most recent call last)",
      "\u001b[0;32m~/.virtualenvs/bino/lib/python3.7/site-packages/IPython/core/display.py\u001b[0m in \u001b[0;36m_data_and_metadata\u001b[0;34m(self, always_both)\u001b[0m\n\u001b[1;32m   1292\u001b[0m         \u001b[0;32mtry\u001b[0m\u001b[0;34m:\u001b[0m\u001b[0;34m\u001b[0m\u001b[0;34m\u001b[0m\u001b[0m\n\u001b[0;32m-> 1293\u001b[0;31m             \u001b[0mb64_data\u001b[0m \u001b[0;34m=\u001b[0m \u001b[0mb2a_base64\u001b[0m\u001b[0;34m(\u001b[0m\u001b[0mself\u001b[0m\u001b[0;34m.\u001b[0m\u001b[0mdata\u001b[0m\u001b[0;34m)\u001b[0m\u001b[0;34m.\u001b[0m\u001b[0mdecode\u001b[0m\u001b[0;34m(\u001b[0m\u001b[0;34m'ascii'\u001b[0m\u001b[0;34m)\u001b[0m\u001b[0;34m\u001b[0m\u001b[0;34m\u001b[0m\u001b[0m\n\u001b[0m\u001b[1;32m   1294\u001b[0m         \u001b[0;32mexcept\u001b[0m \u001b[0mTypeError\u001b[0m\u001b[0;34m:\u001b[0m\u001b[0;34m\u001b[0m\u001b[0;34m\u001b[0m\u001b[0m\n",
      "\u001b[0;31mTypeError\u001b[0m: a bytes-like object is required, not 'str'",
      "\nDuring handling of the above exception, another exception occurred:\n",
      "\u001b[0;31mFileNotFoundError\u001b[0m                         Traceback (most recent call last)",
      "\u001b[0;32m~/.virtualenvs/bino/lib/python3.7/site-packages/IPython/core/formatters.py\u001b[0m in \u001b[0;36m__call__\u001b[0;34m(self, obj, include, exclude)\u001b[0m\n\u001b[1;32m    968\u001b[0m \u001b[0;34m\u001b[0m\u001b[0m\n\u001b[1;32m    969\u001b[0m             \u001b[0;32mif\u001b[0m \u001b[0mmethod\u001b[0m \u001b[0;32mis\u001b[0m \u001b[0;32mnot\u001b[0m \u001b[0;32mNone\u001b[0m\u001b[0;34m:\u001b[0m\u001b[0;34m\u001b[0m\u001b[0;34m\u001b[0m\u001b[0m\n\u001b[0;32m--> 970\u001b[0;31m                 \u001b[0;32mreturn\u001b[0m \u001b[0mmethod\u001b[0m\u001b[0;34m(\u001b[0m\u001b[0minclude\u001b[0m\u001b[0;34m=\u001b[0m\u001b[0minclude\u001b[0m\u001b[0;34m,\u001b[0m \u001b[0mexclude\u001b[0m\u001b[0;34m=\u001b[0m\u001b[0mexclude\u001b[0m\u001b[0;34m)\u001b[0m\u001b[0;34m\u001b[0m\u001b[0;34m\u001b[0m\u001b[0m\n\u001b[0m\u001b[1;32m    971\u001b[0m             \u001b[0;32mreturn\u001b[0m \u001b[0;32mNone\u001b[0m\u001b[0;34m\u001b[0m\u001b[0;34m\u001b[0m\u001b[0m\n\u001b[1;32m    972\u001b[0m         \u001b[0;32melse\u001b[0m\u001b[0;34m:\u001b[0m\u001b[0;34m\u001b[0m\u001b[0;34m\u001b[0m\u001b[0m\n",
      "\u001b[0;32m~/.virtualenvs/bino/lib/python3.7/site-packages/IPython/core/display.py\u001b[0m in \u001b[0;36m_repr_mimebundle_\u001b[0;34m(self, include, exclude)\u001b[0m\n\u001b[1;32m   1281\u001b[0m         \u001b[0;32mif\u001b[0m \u001b[0mself\u001b[0m\u001b[0;34m.\u001b[0m\u001b[0membed\u001b[0m\u001b[0;34m:\u001b[0m\u001b[0;34m\u001b[0m\u001b[0;34m\u001b[0m\u001b[0m\n\u001b[1;32m   1282\u001b[0m             \u001b[0mmimetype\u001b[0m \u001b[0;34m=\u001b[0m \u001b[0mself\u001b[0m\u001b[0;34m.\u001b[0m\u001b[0m_mimetype\u001b[0m\u001b[0;34m\u001b[0m\u001b[0;34m\u001b[0m\u001b[0m\n\u001b[0;32m-> 1283\u001b[0;31m             \u001b[0mdata\u001b[0m\u001b[0;34m,\u001b[0m \u001b[0mmetadata\u001b[0m \u001b[0;34m=\u001b[0m \u001b[0mself\u001b[0m\u001b[0;34m.\u001b[0m\u001b[0m_data_and_metadata\u001b[0m\u001b[0;34m(\u001b[0m\u001b[0malways_both\u001b[0m\u001b[0;34m=\u001b[0m\u001b[0;32mTrue\u001b[0m\u001b[0;34m)\u001b[0m\u001b[0;34m\u001b[0m\u001b[0;34m\u001b[0m\u001b[0m\n\u001b[0m\u001b[1;32m   1284\u001b[0m             \u001b[0;32mif\u001b[0m \u001b[0mmetadata\u001b[0m\u001b[0;34m:\u001b[0m\u001b[0;34m\u001b[0m\u001b[0;34m\u001b[0m\u001b[0m\n\u001b[1;32m   1285\u001b[0m                 \u001b[0mmetadata\u001b[0m \u001b[0;34m=\u001b[0m \u001b[0;34m{\u001b[0m\u001b[0mmimetype\u001b[0m\u001b[0;34m:\u001b[0m \u001b[0mmetadata\u001b[0m\u001b[0;34m}\u001b[0m\u001b[0;34m\u001b[0m\u001b[0;34m\u001b[0m\u001b[0m\n",
      "\u001b[0;32m~/.virtualenvs/bino/lib/python3.7/site-packages/IPython/core/display.py\u001b[0m in \u001b[0;36m_data_and_metadata\u001b[0;34m(self, always_both)\u001b[0m\n\u001b[1;32m   1294\u001b[0m         \u001b[0;32mexcept\u001b[0m \u001b[0mTypeError\u001b[0m\u001b[0;34m:\u001b[0m\u001b[0;34m\u001b[0m\u001b[0;34m\u001b[0m\u001b[0m\n\u001b[1;32m   1295\u001b[0m             raise FileNotFoundError(\n\u001b[0;32m-> 1296\u001b[0;31m                 \"No such file or directory: '%s'\" % (self.data))\n\u001b[0m\u001b[1;32m   1297\u001b[0m         \u001b[0mmd\u001b[0m \u001b[0;34m=\u001b[0m \u001b[0;34m{\u001b[0m\u001b[0;34m}\u001b[0m\u001b[0;34m\u001b[0m\u001b[0;34m\u001b[0m\u001b[0m\n\u001b[1;32m   1298\u001b[0m         \u001b[0;32mif\u001b[0m \u001b[0mself\u001b[0m\u001b[0;34m.\u001b[0m\u001b[0mmetadata\u001b[0m\u001b[0;34m:\u001b[0m\u001b[0;34m\u001b[0m\u001b[0;34m\u001b[0m\u001b[0m\n",
      "\u001b[0;31mFileNotFoundError\u001b[0m: No such file or directory: 'tabela.png'"
     ]
    },
    {
     "ename": "FileNotFoundError",
     "evalue": "No such file or directory: 'tabela.png'",
     "output_type": "error",
     "traceback": [
      "\u001b[0;31m---------------------------------------------------------------------------\u001b[0m",
      "\u001b[0;31mTypeError\u001b[0m                                 Traceback (most recent call last)",
      "\u001b[0;32m~/.virtualenvs/bino/lib/python3.7/site-packages/IPython/core/display.py\u001b[0m in \u001b[0;36m_data_and_metadata\u001b[0;34m(self, always_both)\u001b[0m\n\u001b[1;32m   1292\u001b[0m         \u001b[0;32mtry\u001b[0m\u001b[0;34m:\u001b[0m\u001b[0;34m\u001b[0m\u001b[0;34m\u001b[0m\u001b[0m\n\u001b[0;32m-> 1293\u001b[0;31m             \u001b[0mb64_data\u001b[0m \u001b[0;34m=\u001b[0m \u001b[0mb2a_base64\u001b[0m\u001b[0;34m(\u001b[0m\u001b[0mself\u001b[0m\u001b[0;34m.\u001b[0m\u001b[0mdata\u001b[0m\u001b[0;34m)\u001b[0m\u001b[0;34m.\u001b[0m\u001b[0mdecode\u001b[0m\u001b[0;34m(\u001b[0m\u001b[0;34m'ascii'\u001b[0m\u001b[0;34m)\u001b[0m\u001b[0;34m\u001b[0m\u001b[0;34m\u001b[0m\u001b[0m\n\u001b[0m\u001b[1;32m   1294\u001b[0m         \u001b[0;32mexcept\u001b[0m \u001b[0mTypeError\u001b[0m\u001b[0;34m:\u001b[0m\u001b[0;34m\u001b[0m\u001b[0;34m\u001b[0m\u001b[0m\n",
      "\u001b[0;31mTypeError\u001b[0m: a bytes-like object is required, not 'str'",
      "\nDuring handling of the above exception, another exception occurred:\n",
      "\u001b[0;31mFileNotFoundError\u001b[0m                         Traceback (most recent call last)",
      "\u001b[0;32m~/.virtualenvs/bino/lib/python3.7/site-packages/IPython/core/formatters.py\u001b[0m in \u001b[0;36m__call__\u001b[0;34m(self, obj)\u001b[0m\n\u001b[1;32m    343\u001b[0m             \u001b[0mmethod\u001b[0m \u001b[0;34m=\u001b[0m \u001b[0mget_real_method\u001b[0m\u001b[0;34m(\u001b[0m\u001b[0mobj\u001b[0m\u001b[0;34m,\u001b[0m \u001b[0mself\u001b[0m\u001b[0;34m.\u001b[0m\u001b[0mprint_method\u001b[0m\u001b[0;34m)\u001b[0m\u001b[0;34m\u001b[0m\u001b[0;34m\u001b[0m\u001b[0m\n\u001b[1;32m    344\u001b[0m             \u001b[0;32mif\u001b[0m \u001b[0mmethod\u001b[0m \u001b[0;32mis\u001b[0m \u001b[0;32mnot\u001b[0m \u001b[0;32mNone\u001b[0m\u001b[0;34m:\u001b[0m\u001b[0;34m\u001b[0m\u001b[0;34m\u001b[0m\u001b[0m\n\u001b[0;32m--> 345\u001b[0;31m                 \u001b[0;32mreturn\u001b[0m \u001b[0mmethod\u001b[0m\u001b[0;34m(\u001b[0m\u001b[0;34m)\u001b[0m\u001b[0;34m\u001b[0m\u001b[0;34m\u001b[0m\u001b[0m\n\u001b[0m\u001b[1;32m    346\u001b[0m             \u001b[0;32mreturn\u001b[0m \u001b[0;32mNone\u001b[0m\u001b[0;34m\u001b[0m\u001b[0;34m\u001b[0m\u001b[0m\n\u001b[1;32m    347\u001b[0m         \u001b[0;32melse\u001b[0m\u001b[0;34m:\u001b[0m\u001b[0;34m\u001b[0m\u001b[0;34m\u001b[0m\u001b[0m\n",
      "\u001b[0;32m~/.virtualenvs/bino/lib/python3.7/site-packages/IPython/core/display.py\u001b[0m in \u001b[0;36m_repr_png_\u001b[0;34m(self)\u001b[0m\n\u001b[1;32m   1311\u001b[0m     \u001b[0;32mdef\u001b[0m \u001b[0m_repr_png_\u001b[0m\u001b[0;34m(\u001b[0m\u001b[0mself\u001b[0m\u001b[0;34m)\u001b[0m\u001b[0;34m:\u001b[0m\u001b[0;34m\u001b[0m\u001b[0;34m\u001b[0m\u001b[0m\n\u001b[1;32m   1312\u001b[0m         \u001b[0;32mif\u001b[0m \u001b[0mself\u001b[0m\u001b[0;34m.\u001b[0m\u001b[0membed\u001b[0m \u001b[0;32mand\u001b[0m \u001b[0mself\u001b[0m\u001b[0;34m.\u001b[0m\u001b[0mformat\u001b[0m \u001b[0;34m==\u001b[0m \u001b[0mself\u001b[0m\u001b[0;34m.\u001b[0m\u001b[0m_FMT_PNG\u001b[0m\u001b[0;34m:\u001b[0m\u001b[0;34m\u001b[0m\u001b[0;34m\u001b[0m\u001b[0m\n\u001b[0;32m-> 1313\u001b[0;31m             \u001b[0;32mreturn\u001b[0m \u001b[0mself\u001b[0m\u001b[0;34m.\u001b[0m\u001b[0m_data_and_metadata\u001b[0m\u001b[0;34m(\u001b[0m\u001b[0;34m)\u001b[0m\u001b[0;34m\u001b[0m\u001b[0;34m\u001b[0m\u001b[0m\n\u001b[0m\u001b[1;32m   1314\u001b[0m \u001b[0;34m\u001b[0m\u001b[0m\n\u001b[1;32m   1315\u001b[0m     \u001b[0;32mdef\u001b[0m \u001b[0m_repr_jpeg_\u001b[0m\u001b[0;34m(\u001b[0m\u001b[0mself\u001b[0m\u001b[0;34m)\u001b[0m\u001b[0;34m:\u001b[0m\u001b[0;34m\u001b[0m\u001b[0;34m\u001b[0m\u001b[0m\n",
      "\u001b[0;32m~/.virtualenvs/bino/lib/python3.7/site-packages/IPython/core/display.py\u001b[0m in \u001b[0;36m_data_and_metadata\u001b[0;34m(self, always_both)\u001b[0m\n\u001b[1;32m   1294\u001b[0m         \u001b[0;32mexcept\u001b[0m \u001b[0mTypeError\u001b[0m\u001b[0;34m:\u001b[0m\u001b[0;34m\u001b[0m\u001b[0;34m\u001b[0m\u001b[0m\n\u001b[1;32m   1295\u001b[0m             raise FileNotFoundError(\n\u001b[0;32m-> 1296\u001b[0;31m                 \"No such file or directory: '%s'\" % (self.data))\n\u001b[0m\u001b[1;32m   1297\u001b[0m         \u001b[0mmd\u001b[0m \u001b[0;34m=\u001b[0m \u001b[0;34m{\u001b[0m\u001b[0;34m}\u001b[0m\u001b[0;34m\u001b[0m\u001b[0;34m\u001b[0m\u001b[0m\n\u001b[1;32m   1298\u001b[0m         \u001b[0;32mif\u001b[0m \u001b[0mself\u001b[0m\u001b[0;34m.\u001b[0m\u001b[0mmetadata\u001b[0m\u001b[0;34m:\u001b[0m\u001b[0;34m\u001b[0m\u001b[0;34m\u001b[0m\u001b[0m\n",
      "\u001b[0;31mFileNotFoundError\u001b[0m: No such file or directory: 'tabela.png'"
     ]
    },
    {
     "data": {
      "text/plain": [
       "<IPython.core.display.Image object>"
      ]
     },
     "execution_count": 4,
     "metadata": {},
     "output_type": "execute_result"
    }
   ],
   "source": [
    "Image('tabela.png')"
   ]
  },
  {
   "cell_type": "markdown",
   "metadata": {},
   "source": [
    "Após uma inspeção mais detalhada notamos que a maioria dos atributos rotulados com object têm uma mistura de vários tipos de dados. Por exemplo, associados ao atributo FC temos dados do tipo \"int64\" correspondentesa uma medição da frequência cardáica, e do tipo \"string\", correspondentes a um intervalo de valores, certamente devidos a imprecisão ou insegurança por parte do profissional de saúde na avaliação do paciente. \n",
    "\n",
    "Este será portanto um desafio para a fase de pré-processamento, tendo sido discutidas várias abordagens para a sua resolução como veremos na subsecção seguinte."
   ]
  },
  {
   "cell_type": "markdown",
   "metadata": {},
   "source": [
    "# Data Pre-processing"
   ]
  },
  {
   "cell_type": "markdown",
   "metadata": {},
   "source": [
    "Nesta secção, apresentamos as alterações feitas aos dados em prol de facilitar\n",
    "a sua análise e melhorar a eficácia da sua  classificação. \n",
    "Começamos por eliminar colunas irrelevantes para o problema de classificação em questão: visto que procuramos prever a variável \"NORMAL X ANORMAL\", que diz respeito a problemas de saúde físicos, podemos imediatamente eliminar as colunas \"ID\" e \"CONVENIO\", assumindo que nem a identificação nem o tipo de seguro de saúde do indivíduo afetam a sua saúde."
   ]
  },
  {
   "cell_type": "code",
   "execution_count": 5,
   "metadata": {
    "ExecuteTime": {
     "end_time": "2021-01-13T17:17:00.274052Z",
     "start_time": "2021-01-13T17:17:00.253716Z"
    }
   },
   "outputs": [],
   "source": [
    "df = df.drop(columns = 'ID')\n",
    "df = df.drop(columns = 'Convenio')"
   ]
  },
  {
   "cell_type": "markdown",
   "metadata": {},
   "source": [
    "Para o que se segue, será útil representar o número de valores \"NA\" por coluna espalhados pela nossa base de dados , dado que estes valores terão de ser eliminados ou substituídos para procedermos à análise e previsão."
   ]
  },
  {
   "cell_type": "code",
   "execution_count": 6,
   "metadata": {
    "ExecuteTime": {
     "end_time": "2021-01-13T17:17:00.301752Z",
     "start_time": "2021-01-13T17:17:00.277561Z"
    }
   },
   "outputs": [
    {
     "data": {
      "text/plain": [
       "Peso                  298\n",
       "Altura                  0\n",
       "IMC                  4402\n",
       "Atendimento           925\n",
       "DN                   1284\n",
       "IDADE                1284\n",
       "PULSOS               1130\n",
       "PA SISTOLICA         7297\n",
       "PA DIASTOLICA        7307\n",
       "PPA                   217\n",
       "NORMAL X ANORMAL     1101\n",
       "B2                   1107\n",
       "SOPRO                1099\n",
       "FC                   1804\n",
       "HDA 1                5066\n",
       "HDA2                16084\n",
       "SEXO                    0\n",
       "MOTIVO1              1033\n",
       "MOTIVO2              4468\n",
       "dtype: int64"
      ]
     },
     "execution_count": 6,
     "metadata": {},
     "output_type": "execute_result"
    }
   ],
   "source": [
    "df.isna().sum()"
   ]
  },
  {
   "cell_type": "markdown",
   "metadata": {},
   "source": [
    "Podemos imediatamente eliminar a coluna correspondente a HDA2, pois está preenchida quase por completo por NAs."
   ]
  },
  {
   "cell_type": "code",
   "execution_count": 7,
   "metadata": {
    "ExecuteTime": {
     "end_time": "2021-01-13T17:17:00.346966Z",
     "start_time": "2021-01-13T17:17:00.305270Z"
    }
   },
   "outputs": [],
   "source": [
    "df = df.drop(columns='HDA2')"
   ]
  },
  {
   "cell_type": "markdown",
   "metadata": {},
   "source": [
    "# Idade"
   ]
  },
  {
   "cell_type": "markdown",
   "metadata": {},
   "source": [
    "Na tabela acima, vemos que a idade tem 1284 valoes de \"NA\". Dado que estamos a tratar de dados de cardiologia pediátrica, podemos argumentar \\textit{a priori} que a idade é um fator de elevada importância na previsão de anomalias cardíacas, visto que têm um grande papel no cálculo do IMC e nos percentis de pressão arterial que permitem consequentemente o diagnóstico de, por exemplo,  hipertensão arterial. Deste Com isto em vista, estaríamos a introduzir correlação indesejável se substituíssemos os valores de NA da idade por outros, sendo que é preferível eliminar estas entradas. Por sorte, vemos que ao eliminar estas entradas acabamos por eliminar também uma grande quantidade de NA's de outras colunas, indicando que isto é uma boa decisão"
   ]
  },
  {
   "cell_type": "code",
   "execution_count": 8,
   "metadata": {
    "ExecuteTime": {
     "end_time": "2021-01-13T17:17:00.458247Z",
     "start_time": "2021-01-13T17:17:00.354582Z"
    }
   },
   "outputs": [
    {
     "data": {
      "text/plain": [
       "Peso                0.013423\n",
       "IMC                 0.234666\n",
       "Atendimento         0.950270\n",
       "DN                  1.000000\n",
       "IDADE               1.000000\n",
       "PULSOS              0.659292\n",
       "PA SISTOLICA        0.147184\n",
       "PA DIASTOLICA       0.147119\n",
       "PPA                 0.000000\n",
       "NORMAL X ANORMAL    0.673933\n",
       "B2                  0.670280\n",
       "SOPRO               0.672429\n",
       "FC                  0.438470\n",
       "HDA 1               0.198184\n",
       "MOTIVO1             0.848984\n",
       "MOTIVO2             0.224485\n",
       "dtype: float64"
      ]
     },
     "execution_count": 8,
     "metadata": {},
     "output_type": "execute_result"
    }
   ],
   "source": [
    "df1 = df.drop(index = df.loc[(df['IDADE'].isna()) | (df['IDADE'] == '#VALUE!') ].index)\n",
    "(df.drop(columns = ['Altura','SEXO']).isna().sum() - df1.drop(columns = ['Altura','SEXO']).isna().sum())/df.drop(columns = ['Altura','SEXO']).isna().sum()"
   ]
  },
  {
   "cell_type": "markdown",
   "metadata": {},
   "source": [
    "eliminando os NA's da idade, conseguimos também eliminar vários valores NA's de outras colunas, sendo de particular importância os 67% de NA's eliminados na variável \"NORMAL X ANORMAL\""
   ]
  },
  {
   "cell_type": "code",
   "execution_count": 9,
   "metadata": {
    "ExecuteTime": {
     "end_time": "2021-01-13T17:17:00.502078Z",
     "start_time": "2021-01-13T17:17:00.466123Z"
    }
   },
   "outputs": [],
   "source": [
    "df.drop(index = df.loc[df['IDADE'].isna()].index, inplace = True)\n",
    "df.drop(index = df.loc[df['IDADE'] == '#VALUE!'].index, inplace = True)"
   ]
  },
  {
   "cell_type": "code",
   "execution_count": 10,
   "metadata": {
    "ExecuteTime": {
     "end_time": "2021-01-13T17:17:00.564273Z",
     "start_time": "2021-01-13T17:17:00.516750Z"
    }
   },
   "outputs": [
    {
     "data": {
      "text/html": [
       "<div>\n",
       "<style scoped>\n",
       "    .dataframe tbody tr th:only-of-type {\n",
       "        vertical-align: middle;\n",
       "    }\n",
       "\n",
       "    .dataframe tbody tr th {\n",
       "        vertical-align: top;\n",
       "    }\n",
       "\n",
       "    .dataframe thead th {\n",
       "        text-align: right;\n",
       "    }\n",
       "</style>\n",
       "<table border=\"1\" class=\"dataframe\">\n",
       "  <thead>\n",
       "    <tr style=\"text-align: right;\">\n",
       "      <th></th>\n",
       "      <th>Peso</th>\n",
       "      <th>Altura</th>\n",
       "      <th>IMC</th>\n",
       "      <th>Atendimento</th>\n",
       "      <th>DN</th>\n",
       "      <th>IDADE</th>\n",
       "      <th>PULSOS</th>\n",
       "      <th>PA SISTOLICA</th>\n",
       "      <th>PA DIASTOLICA</th>\n",
       "      <th>PPA</th>\n",
       "      <th>NORMAL X ANORMAL</th>\n",
       "      <th>B2</th>\n",
       "      <th>SOPRO</th>\n",
       "      <th>FC</th>\n",
       "      <th>HDA 1</th>\n",
       "      <th>SEXO</th>\n",
       "      <th>MOTIVO1</th>\n",
       "      <th>MOTIVO2</th>\n",
       "    </tr>\n",
       "  </thead>\n",
       "  <tbody>\n",
       "    <tr>\n",
       "      <th>0</th>\n",
       "      <td>5.0</td>\n",
       "      <td>51</td>\n",
       "      <td>19.0</td>\n",
       "      <td>11/05/06</td>\n",
       "      <td>30/03/06</td>\n",
       "      <td>0.12</td>\n",
       "      <td>Normais</td>\n",
       "      <td>NaN</td>\n",
       "      <td>NaN</td>\n",
       "      <td>Não Calculado</td>\n",
       "      <td>Anormal</td>\n",
       "      <td>Normal</td>\n",
       "      <td>Sistólico</td>\n",
       "      <td>112</td>\n",
       "      <td>Palpitacao</td>\n",
       "      <td>M</td>\n",
       "      <td>6 - Suspeita de cardiopatia</td>\n",
       "      <td>6 - Palpitação/taquicardia/arritmia</td>\n",
       "    </tr>\n",
       "    <tr>\n",
       "      <th>1</th>\n",
       "      <td>3.5</td>\n",
       "      <td>50</td>\n",
       "      <td>14.0</td>\n",
       "      <td>25/05/05</td>\n",
       "      <td>19/05/05</td>\n",
       "      <td>0.02</td>\n",
       "      <td>Normais</td>\n",
       "      <td>NaN</td>\n",
       "      <td>NaN</td>\n",
       "      <td>Não Calculado</td>\n",
       "      <td>Anormal</td>\n",
       "      <td>Normal</td>\n",
       "      <td>ausente</td>\n",
       "      <td>128</td>\n",
       "      <td>Dispneia</td>\n",
       "      <td>M</td>\n",
       "      <td>6 - Suspeita de cardiopatia</td>\n",
       "      <td>6 - Dispnéia</td>\n",
       "    </tr>\n",
       "    <tr>\n",
       "      <th>2</th>\n",
       "      <td>0.0</td>\n",
       "      <td>0</td>\n",
       "      <td>NaN</td>\n",
       "      <td>12/06/01</td>\n",
       "      <td>08/05/05</td>\n",
       "      <td>-4.05</td>\n",
       "      <td>Normais</td>\n",
       "      <td>NaN</td>\n",
       "      <td>NaN</td>\n",
       "      <td>Não Calculado</td>\n",
       "      <td>Anormal</td>\n",
       "      <td>Normal</td>\n",
       "      <td>Sistólico</td>\n",
       "      <td>88</td>\n",
       "      <td>Assintomático</td>\n",
       "      <td>M</td>\n",
       "      <td>2 - Check-up</td>\n",
       "      <td>NaN</td>\n",
       "    </tr>\n",
       "    <tr>\n",
       "      <th>3</th>\n",
       "      <td>8.1</td>\n",
       "      <td>65</td>\n",
       "      <td>19.0</td>\n",
       "      <td>15/10/09</td>\n",
       "      <td>21/04/09</td>\n",
       "      <td>0.5</td>\n",
       "      <td>Normais</td>\n",
       "      <td>NaN</td>\n",
       "      <td>NaN</td>\n",
       "      <td>Não Calculado</td>\n",
       "      <td>Anormal</td>\n",
       "      <td>Normal</td>\n",
       "      <td>ausente</td>\n",
       "      <td>92</td>\n",
       "      <td>Assintomático</td>\n",
       "      <td>M</td>\n",
       "      <td>5 - Parecer cardiológico</td>\n",
       "      <td>NaN</td>\n",
       "    </tr>\n",
       "    <tr>\n",
       "      <th>4</th>\n",
       "      <td>39.5</td>\n",
       "      <td>142</td>\n",
       "      <td>20.0</td>\n",
       "      <td>23/01/09</td>\n",
       "      <td>24/10/99</td>\n",
       "      <td>9.6</td>\n",
       "      <td>Normais</td>\n",
       "      <td>85.0</td>\n",
       "      <td>50.0</td>\n",
       "      <td>Normal</td>\n",
       "      <td>Anormal</td>\n",
       "      <td>Normal</td>\n",
       "      <td>ausente</td>\n",
       "      <td>90</td>\n",
       "      <td>NaN</td>\n",
       "      <td>M</td>\n",
       "      <td>5 - Parecer cardiológico</td>\n",
       "      <td>5 - Atividade física</td>\n",
       "    </tr>\n",
       "  </tbody>\n",
       "</table>\n",
       "</div>"
      ],
      "text/plain": [
       "   Peso  Altura   IMC Atendimento        DN IDADE   PULSOS  PA SISTOLICA  \\\n",
       "0   5.0      51  19.0    11/05/06  30/03/06  0.12  Normais           NaN   \n",
       "1   3.5      50  14.0    25/05/05  19/05/05  0.02  Normais           NaN   \n",
       "2   0.0       0   NaN    12/06/01  08/05/05 -4.05  Normais           NaN   \n",
       "3   8.1      65  19.0    15/10/09  21/04/09   0.5  Normais           NaN   \n",
       "4  39.5     142  20.0    23/01/09  24/10/99   9.6  Normais          85.0   \n",
       "\n",
       "   PA DIASTOLICA            PPA NORMAL X ANORMAL      B2      SOPRO   FC  \\\n",
       "0            NaN  Não Calculado          Anormal  Normal  Sistólico  112   \n",
       "1            NaN  Não Calculado          Anormal  Normal    ausente  128   \n",
       "2            NaN  Não Calculado          Anormal  Normal  Sistólico   88   \n",
       "3            NaN  Não Calculado          Anormal  Normal    ausente   92   \n",
       "4           50.0         Normal          Anormal  Normal    ausente   90   \n",
       "\n",
       "           HDA 1 SEXO                      MOTIVO1  \\\n",
       "0     Palpitacao    M  6 - Suspeita de cardiopatia   \n",
       "1       Dispneia    M  6 - Suspeita de cardiopatia   \n",
       "2  Assintomático    M                 2 - Check-up   \n",
       "3  Assintomático    M     5 - Parecer cardiológico   \n",
       "4            NaN    M     5 - Parecer cardiológico   \n",
       "\n",
       "                               MOTIVO2  \n",
       "0  6 - Palpitação/taquicardia/arritmia  \n",
       "1                         6 - Dispnéia  \n",
       "2                                  NaN  \n",
       "3                                  NaN  \n",
       "4                 5 - Atividade física  "
      ]
     },
     "execution_count": 10,
     "metadata": {},
     "output_type": "execute_result"
    }
   ],
   "source": [
    "df.head(5)"
   ]
  },
  {
   "cell_type": "markdown",
   "metadata": {},
   "source": [
    "Olhando para o df.head(5), reparamos numa particularidade -  temos valores de idade negativos! O valor da idade é obtido pela diferença entre a data de nacimento ('DN') e a data de atendimento ('Atendimento'), ou seja, temos uma coluna redundante (não adiciona mais informação). Porque é mais fácil trabalhar com dados no formato de números inteiros, vamos preservar a coluna correspondente à idade (depois de corrigirmos o 'bug' dos valores negativos) e a data de atendimento."
   ]
  },
  {
   "cell_type": "code",
   "execution_count": 11,
   "metadata": {
    "ExecuteTime": {
     "end_time": "2021-01-13T17:17:00.585150Z",
     "start_time": "2021-01-13T17:17:00.573780Z"
    }
   },
   "outputs": [],
   "source": [
    "df['IDADE'] = df['IDADE'].abs()"
   ]
  },
  {
   "cell_type": "markdown",
   "metadata": {},
   "source": [
    "Vamos representar os valores da coluna \"IDADE\" com um boxplot:"
   ]
  },
  {
   "cell_type": "code",
   "execution_count": 12,
   "metadata": {
    "ExecuteTime": {
     "end_time": "2021-01-13T17:17:00.799573Z",
     "start_time": "2021-01-13T17:17:00.587810Z"
    }
   },
   "outputs": [
    {
     "data": {
      "text/plain": [
       "<AxesSubplot:>"
      ]
     },
     "execution_count": 12,
     "metadata": {},
     "output_type": "execute_result"
    },
    {
     "data": {
      "image/png": "[encoded data removed]",
      "text/plain": [
       "<Figure size 432x288 with 1 Axes>"
      ]
     },
     "metadata": {},
     "output_type": "display_data"
    }
   ],
   "source": [
    "df['IDADE'].plot.box()"
   ]
  },
  {
   "cell_type": "markdown",
   "metadata": {},
   "source": [
    "Identificamos uma gama de $\\textit{outliers}$ que se estende desde os 20 aos 120 anos. para identificar o problema, vamos ver as colunas \"Atendimento\" e \"DN\" para idades acima dos 50 anos:"
   ]
  },
  {
   "cell_type": "code",
   "execution_count": 13,
   "metadata": {
    "ExecuteTime": {
     "end_time": "2021-01-13T17:17:00.827651Z",
     "start_time": "2021-01-13T17:17:00.802422Z"
    }
   },
   "outputs": [
    {
     "data": {
      "text/html": [
       "<div>\n",
       "<style scoped>\n",
       "    .dataframe tbody tr th:only-of-type {\n",
       "        vertical-align: middle;\n",
       "    }\n",
       "\n",
       "    .dataframe tbody tr th {\n",
       "        vertical-align: top;\n",
       "    }\n",
       "\n",
       "    .dataframe thead th {\n",
       "        text-align: right;\n",
       "    }\n",
       "</style>\n",
       "<table border=\"1\" class=\"dataframe\">\n",
       "  <thead>\n",
       "    <tr style=\"text-align: right;\">\n",
       "      <th></th>\n",
       "      <th>Atendimento</th>\n",
       "      <th>DN</th>\n",
       "    </tr>\n",
       "  </thead>\n",
       "  <tbody>\n",
       "    <tr>\n",
       "      <th>589</th>\n",
       "      <td>NaN</td>\n",
       "      <td>17/10/02</td>\n",
       "    </tr>\n",
       "    <tr>\n",
       "      <th>1213</th>\n",
       "      <td>NaN</td>\n",
       "      <td>07/01/08</td>\n",
       "    </tr>\n",
       "    <tr>\n",
       "      <th>1576</th>\n",
       "      <td>NaN</td>\n",
       "      <td>36973</td>\n",
       "    </tr>\n",
       "    <tr>\n",
       "      <th>1707</th>\n",
       "      <td>NaN</td>\n",
       "      <td>35493</td>\n",
       "    </tr>\n",
       "    <tr>\n",
       "      <th>2646</th>\n",
       "      <td>NaN</td>\n",
       "      <td>05/05/05</td>\n",
       "    </tr>\n",
       "    <tr>\n",
       "      <th>2789</th>\n",
       "      <td>NaN</td>\n",
       "      <td>19/05/08</td>\n",
       "    </tr>\n",
       "    <tr>\n",
       "      <th>2803</th>\n",
       "      <td>07/12/07</td>\n",
       "      <td>01/03/55</td>\n",
       "    </tr>\n",
       "    <tr>\n",
       "      <th>3366</th>\n",
       "      <td>NaN</td>\n",
       "      <td>25/10/00</td>\n",
       "    </tr>\n",
       "    <tr>\n",
       "      <th>3417</th>\n",
       "      <td>NaN</td>\n",
       "      <td>34704</td>\n",
       "    </tr>\n",
       "    <tr>\n",
       "      <th>3453</th>\n",
       "      <td>NaN</td>\n",
       "      <td>38666</td>\n",
       "    </tr>\n",
       "    <tr>\n",
       "      <th>3898</th>\n",
       "      <td>NaN</td>\n",
       "      <td>36558</td>\n",
       "    </tr>\n",
       "    <tr>\n",
       "      <th>4145</th>\n",
       "      <td>NaN</td>\n",
       "      <td>15/10/94</td>\n",
       "    </tr>\n",
       "    <tr>\n",
       "      <th>4577</th>\n",
       "      <td>NaN</td>\n",
       "      <td>10/11/94</td>\n",
       "    </tr>\n",
       "    <tr>\n",
       "      <th>4878</th>\n",
       "      <td>NaN</td>\n",
       "      <td>30/11/95</td>\n",
       "    </tr>\n",
       "    <tr>\n",
       "      <th>5222</th>\n",
       "      <td>NaN</td>\n",
       "      <td>07/03/06</td>\n",
       "    </tr>\n",
       "    <tr>\n",
       "      <th>5350</th>\n",
       "      <td>NaN</td>\n",
       "      <td>38428</td>\n",
       "    </tr>\n",
       "    <tr>\n",
       "      <th>5353</th>\n",
       "      <td>NaN</td>\n",
       "      <td>04/03/97</td>\n",
       "    </tr>\n",
       "    <tr>\n",
       "      <th>5686</th>\n",
       "      <td>NaN</td>\n",
       "      <td>35410</td>\n",
       "    </tr>\n",
       "    <tr>\n",
       "      <th>5937</th>\n",
       "      <td>NaN</td>\n",
       "      <td>12/12/06</td>\n",
       "    </tr>\n",
       "    <tr>\n",
       "      <th>6224</th>\n",
       "      <td>NaN</td>\n",
       "      <td>23/07/04</td>\n",
       "    </tr>\n",
       "    <tr>\n",
       "      <th>7092</th>\n",
       "      <td>NaN</td>\n",
       "      <td>23/06/97</td>\n",
       "    </tr>\n",
       "    <tr>\n",
       "      <th>7404</th>\n",
       "      <td>NaN</td>\n",
       "      <td>09/06/08</td>\n",
       "    </tr>\n",
       "    <tr>\n",
       "      <th>8640</th>\n",
       "      <td>NaN</td>\n",
       "      <td>23/01/08</td>\n",
       "    </tr>\n",
       "    <tr>\n",
       "      <th>9044</th>\n",
       "      <td>NaN</td>\n",
       "      <td>24/01/05</td>\n",
       "    </tr>\n",
       "    <tr>\n",
       "      <th>9132</th>\n",
       "      <td>NaN</td>\n",
       "      <td>08/01/96</td>\n",
       "    </tr>\n",
       "    <tr>\n",
       "      <th>9547</th>\n",
       "      <td>NaN</td>\n",
       "      <td>15/04/90</td>\n",
       "    </tr>\n",
       "    <tr>\n",
       "      <th>9583</th>\n",
       "      <td>NaN</td>\n",
       "      <td>15/03/93</td>\n",
       "    </tr>\n",
       "    <tr>\n",
       "      <th>9829</th>\n",
       "      <td>NaN</td>\n",
       "      <td>10/04/06</td>\n",
       "    </tr>\n",
       "    <tr>\n",
       "      <th>9952</th>\n",
       "      <td>NaN</td>\n",
       "      <td>06/06/91</td>\n",
       "    </tr>\n",
       "    <tr>\n",
       "      <th>10638</th>\n",
       "      <td>NaN</td>\n",
       "      <td>24/05/05</td>\n",
       "    </tr>\n",
       "    <tr>\n",
       "      <th>11472</th>\n",
       "      <td>NaN</td>\n",
       "      <td>24/02/01</td>\n",
       "    </tr>\n",
       "    <tr>\n",
       "      <th>12115</th>\n",
       "      <td>NaN</td>\n",
       "      <td>01/01/09</td>\n",
       "    </tr>\n",
       "    <tr>\n",
       "      <th>12148</th>\n",
       "      <td>NaN</td>\n",
       "      <td>08/06/92</td>\n",
       "    </tr>\n",
       "    <tr>\n",
       "      <th>12742</th>\n",
       "      <td>NaN</td>\n",
       "      <td>01/05/99</td>\n",
       "    </tr>\n",
       "    <tr>\n",
       "      <th>12846</th>\n",
       "      <td>18/06/08</td>\n",
       "      <td>31/05/40</td>\n",
       "    </tr>\n",
       "    <tr>\n",
       "      <th>13427</th>\n",
       "      <td>NaN</td>\n",
       "      <td>19/11/08</td>\n",
       "    </tr>\n",
       "    <tr>\n",
       "      <th>13586</th>\n",
       "      <td>NaN</td>\n",
       "      <td>21/09/06</td>\n",
       "    </tr>\n",
       "    <tr>\n",
       "      <th>13881</th>\n",
       "      <td>NaN</td>\n",
       "      <td>22/04/98</td>\n",
       "    </tr>\n",
       "    <tr>\n",
       "      <th>14190</th>\n",
       "      <td>NaN</td>\n",
       "      <td>17/09/92</td>\n",
       "    </tr>\n",
       "    <tr>\n",
       "      <th>14473</th>\n",
       "      <td>NaN</td>\n",
       "      <td>18/04/93</td>\n",
       "    </tr>\n",
       "    <tr>\n",
       "      <th>14491</th>\n",
       "      <td>NaN</td>\n",
       "      <td>15/03/99</td>\n",
       "    </tr>\n",
       "    <tr>\n",
       "      <th>14709</th>\n",
       "      <td>07/02/06</td>\n",
       "      <td>24/11/36</td>\n",
       "    </tr>\n",
       "    <tr>\n",
       "      <th>15096</th>\n",
       "      <td>NaN</td>\n",
       "      <td>19/05/08</td>\n",
       "    </tr>\n",
       "    <tr>\n",
       "      <th>15439</th>\n",
       "      <td>NaN</td>\n",
       "      <td>31/03/03</td>\n",
       "    </tr>\n",
       "    <tr>\n",
       "      <th>15677</th>\n",
       "      <td>NaN</td>\n",
       "      <td>15/09/04</td>\n",
       "    </tr>\n",
       "    <tr>\n",
       "      <th>15708</th>\n",
       "      <td>NaN</td>\n",
       "      <td>21/07/07</td>\n",
       "    </tr>\n",
       "    <tr>\n",
       "      <th>15900</th>\n",
       "      <td>NaN</td>\n",
       "      <td>22/11/95</td>\n",
       "    </tr>\n",
       "    <tr>\n",
       "      <th>15919</th>\n",
       "      <td>05/07/04</td>\n",
       "      <td>01/11/51</td>\n",
       "    </tr>\n",
       "    <tr>\n",
       "      <th>15994</th>\n",
       "      <td>19/03/08</td>\n",
       "      <td>23/02/55</td>\n",
       "    </tr>\n",
       "    <tr>\n",
       "      <th>16451</th>\n",
       "      <td>NaN</td>\n",
       "      <td>25/09/97</td>\n",
       "    </tr>\n",
       "    <tr>\n",
       "      <th>16651</th>\n",
       "      <td>NaN</td>\n",
       "      <td>04/06/07</td>\n",
       "    </tr>\n",
       "  </tbody>\n",
       "</table>\n",
       "</div>"
      ],
      "text/plain": [
       "      Atendimento        DN\n",
       "589           NaN  17/10/02\n",
       "1213          NaN  07/01/08\n",
       "1576          NaN     36973\n",
       "1707          NaN     35493\n",
       "2646          NaN  05/05/05\n",
       "2789          NaN  19/05/08\n",
       "2803     07/12/07  01/03/55\n",
       "3366          NaN  25/10/00\n",
       "3417          NaN     34704\n",
       "3453          NaN     38666\n",
       "3898          NaN     36558\n",
       "4145          NaN  15/10/94\n",
       "4577          NaN  10/11/94\n",
       "4878          NaN  30/11/95\n",
       "5222          NaN  07/03/06\n",
       "5350          NaN     38428\n",
       "5353          NaN  04/03/97\n",
       "5686          NaN     35410\n",
       "5937          NaN  12/12/06\n",
       "6224          NaN  23/07/04\n",
       "7092          NaN  23/06/97\n",
       "7404          NaN  09/06/08\n",
       "8640          NaN  23/01/08\n",
       "9044          NaN  24/01/05\n",
       "9132          NaN  08/01/96\n",
       "9547          NaN  15/04/90\n",
       "9583          NaN  15/03/93\n",
       "9829          NaN  10/04/06\n",
       "9952          NaN  06/06/91\n",
       "10638         NaN  24/05/05\n",
       "11472         NaN  24/02/01\n",
       "12115         NaN  01/01/09\n",
       "12148         NaN  08/06/92\n",
       "12742         NaN  01/05/99\n",
       "12846    18/06/08  31/05/40\n",
       "13427         NaN  19/11/08\n",
       "13586         NaN  21/09/06\n",
       "13881         NaN  22/04/98\n",
       "14190         NaN  17/09/92\n",
       "14473         NaN  18/04/93\n",
       "14491         NaN  15/03/99\n",
       "14709    07/02/06  24/11/36\n",
       "15096         NaN  19/05/08\n",
       "15439         NaN  31/03/03\n",
       "15677         NaN  15/09/04\n",
       "15708         NaN  21/07/07\n",
       "15900         NaN  22/11/95\n",
       "15919    05/07/04  01/11/51\n",
       "15994    19/03/08  23/02/55\n",
       "16451         NaN  25/09/97\n",
       "16651         NaN  04/06/07"
      ]
     },
     "execution_count": 13,
     "metadata": {},
     "output_type": "execute_result"
    }
   ],
   "source": [
    "df.loc[df['IDADE'] > 50, ['Atendimento','DN']]"
   ]
  },
  {
   "cell_type": "code",
   "execution_count": 14,
   "metadata": {
    "ExecuteTime": {
     "end_time": "2021-01-13T17:17:00.866157Z",
     "start_time": "2021-01-13T17:17:00.833539Z"
    }
   },
   "outputs": [
    {
     "name": "stdout",
     "output_type": "stream",
     "text": [
      "Percentagem de valores de idade acima dos 20 anos: 0.8293606739371776%\n"
     ]
    }
   ],
   "source": [
    "print('Percentagem de valores de idade acima dos 20 anos: '+ str(len(df.loc[df['IDADE'] > 20])/len(df)*100)+'%') "
   ]
  },
  {
   "cell_type": "markdown",
   "metadata": {},
   "source": [
    "A partir da tabela acima, é fácil de identificar que o erro no cálculo da idade provém dos valores \"NA\" na coluna do \"Atendimento\". Como estamos, contudo, a tratar de dados de cardiologia pediátrica, a gama de idades estudada vai até aos 20 anos, de acordo com o site https://www.cdc.gov/growthcharts/clinical_charts.htm. Isto permite-nos eliminar os poucos $\\textit{outliers}$ que existem nesta coluna sem grande consequência na análise de dados, visto que apenas 0.82% dos dados têm valores de idade acima dos 20 anos. "
   ]
  },
  {
   "cell_type": "code",
   "execution_count": 15,
   "metadata": {
    "ExecuteTime": {
     "end_time": "2021-01-13T17:17:01.110624Z",
     "start_time": "2021-01-13T17:17:00.869513Z"
    }
   },
   "outputs": [
    {
     "data": {
      "text/plain": [
       "<AxesSubplot:>"
      ]
     },
     "execution_count": 15,
     "metadata": {},
     "output_type": "execute_result"
    },
    {
     "data": {
      "image/png": "[encoded data removed]",
      "text/plain": [
       "<Figure size 432x288 with 1 Axes>"
      ]
     },
     "metadata": {},
     "output_type": "display_data"
    }
   ],
   "source": [
    "# import re\n",
    "df.drop(index = df.loc[df['IDADE'] > 20].index,inplace = True)\n",
    "df['IDADE'].plot.box()"
   ]
  },
  {
   "cell_type": "markdown",
   "metadata": {},
   "source": [
    "Tendo a idade bem tratada, podemos eliminar as colunas \"DN\" e \"Atendimento\" por serem redundantes."
   ]
  },
  {
   "cell_type": "code",
   "execution_count": 16,
   "metadata": {
    "ExecuteTime": {
     "end_time": "2021-01-13T17:17:01.121672Z",
     "start_time": "2021-01-13T17:17:01.113133Z"
    }
   },
   "outputs": [],
   "source": [
    "df.drop(columns = ['DN','Atendimento'], inplace = True)"
   ]
  },
  {
   "cell_type": "markdown",
   "metadata": {},
   "source": [
    "# IMC/Peso/Altura"
   ]
  },
  {
   "cell_type": "markdown",
   "metadata": {},
   "source": [
    "Existe mais um conjunto de colunas que possuem informação redundante, a tríade IMC, altura e peso, dado que o IMC é calculado a partir deste dois valores. Pode ser argumentado que é útil manter os três dados, porém, já que estamos a lidar com problemas cardiovasculares, podemos considerar que o IMC captura a informação de se uma pessoa está com o peso adequado à altura ou não. Por causa disso vamos eliminar as colunas correspondentes ao peso e à altura."
   ]
  },
  {
   "cell_type": "code",
   "execution_count": 17,
   "metadata": {
    "ExecuteTime": {
     "end_time": "2021-01-13T17:17:01.132287Z",
     "start_time": "2021-01-13T17:17:01.124421Z"
    }
   },
   "outputs": [],
   "source": [
    "df.drop(columns = 'Peso', inplace=True)"
   ]
  },
  {
   "cell_type": "markdown",
   "metadata": {},
   "source": [
    "Eliminamos todas as colunas redundantes (data de nascimento) e inúteis (ID). As colunas restantes são importantes para a análise que queremos fazer. Temos, porém de tratar dos valores NAs que temos nas colunas restantes.\n"
   ]
  },
  {
   "cell_type": "markdown",
   "metadata": {},
   "source": [
    "# Sexo"
   ]
  },
  {
   "cell_type": "code",
   "execution_count": 18,
   "metadata": {
    "ExecuteTime": {
     "end_time": "2021-01-13T17:17:01.147008Z",
     "start_time": "2021-01-13T17:17:01.135349Z"
    }
   },
   "outputs": [
    {
     "data": {
      "text/plain": [
       "array(['M', 'F', 'Indeterminado'], dtype=object)"
      ]
     },
     "execution_count": 18,
     "metadata": {},
     "output_type": "execute_result"
    }
   ],
   "source": [
    "df['SEXO'].unique()"
   ]
  },
  {
   "cell_type": "markdown",
   "metadata": {},
   "source": [
    "Como podemos ver, temos rótulos de sexo redundantes ('Masculino' e 'M' por exemplo). Logo, temos de definir um standard (que neste caso será 'M' e 'F')."
   ]
  },
  {
   "cell_type": "code",
   "execution_count": 19,
   "metadata": {
    "ExecuteTime": {
     "end_time": "2021-01-13T17:17:01.159038Z",
     "start_time": "2021-01-13T17:17:01.148930Z"
    }
   },
   "outputs": [],
   "source": [
    "df['SEXO'].loc[df['SEXO'] == 'Masculino'] = 'M'\n",
    "df['SEXO'].loc[df['SEXO'] == 'masculino'] = 'M'\n",
    "df['SEXO'].loc[df['SEXO'] == 'Feminino'] = 'F'"
   ]
  },
  {
   "cell_type": "markdown",
   "metadata": {},
   "source": [
    "# PA Sistolica"
   ]
  },
  {
   "cell_type": "markdown",
   "metadata": {},
   "source": [
    "O atributo pressão arterial sistólica apresentava, na tabela original, 7297 valores NA. Fazendo o histograma dos valores que estão atribuídos obtemos a figura seguinte."
   ]
  },
  {
   "cell_type": "code",
   "execution_count": 20,
   "metadata": {
    "ExecuteTime": {
     "end_time": "2021-01-13T17:17:01.430538Z",
     "start_time": "2021-01-13T17:17:01.162149Z"
    }
   },
   "outputs": [
    {
     "data": {
      "image/png": "[encoded data removed]",
      "text/plain": [
       "<Figure size 432x288 with 1 Axes>"
      ]
     },
     "metadata": {},
     "output_type": "display_data"
    }
   ],
   "source": [
    "plt.hist(df['PA SISTOLICA'][df['PA SISTOLICA'].notna()], bins = np.arange(0,200,10))\n",
    "plt.show()"
   ]
  },
  {
   "cell_type": "markdown",
   "metadata": {},
   "source": [
    "Notamos uma clara distribuição realtivamente bem centrada em torno de um valor médio próximo de 100, por isso achamos que a melhor forma de lidar com os valores não atribuídos era substituí-los pelo valor médio.\n"
   ]
  },
  {
   "cell_type": "code",
   "execution_count": 21,
   "metadata": {
    "ExecuteTime": {
     "end_time": "2021-01-13T17:17:01.444079Z",
     "start_time": "2021-01-13T17:17:01.435642Z"
    }
   },
   "outputs": [],
   "source": [
    "df.loc[df['PA SISTOLICA'].isna(),'PA SISTOLICA'] = df['PA SISTOLICA'].mean()"
   ]
  },
  {
   "cell_type": "markdown",
   "metadata": {},
   "source": [
    "# PA Diastolica"
   ]
  },
  {
   "cell_type": "markdown",
   "metadata": {},
   "source": [
    "Podemos fazer uma análise muito similar para a pressão arterial diastólica e vemos mais uma vez que a distribuição dos valores atribuídos se encontra centrada em torno de um valor médio bem definido. Procedemos, então, mais uma vez à imputação deste valor em substituição dos NA."
   ]
  },
  {
   "cell_type": "code",
   "execution_count": 22,
   "metadata": {
    "ExecuteTime": {
     "end_time": "2021-01-13T17:17:01.661047Z",
     "start_time": "2021-01-13T17:17:01.446758Z"
    }
   },
   "outputs": [
    {
     "data": {
      "image/png": "[encoded data removed]",
      "text/plain": [
       "<Figure size 432x288 with 1 Axes>"
      ]
     },
     "metadata": {},
     "output_type": "display_data"
    }
   ],
   "source": [
    "plt.hist(df['PA DIASTOLICA'][df['PA DIASTOLICA'].notna()], bins = np.arange(0,200,10))\n",
    "plt.show()"
   ]
  },
  {
   "cell_type": "code",
   "execution_count": 23,
   "metadata": {
    "ExecuteTime": {
     "end_time": "2021-01-13T17:17:01.675027Z",
     "start_time": "2021-01-13T17:17:01.666530Z"
    }
   },
   "outputs": [],
   "source": [
    "mediana_PA_D = np.median(df['PA DIASTOLICA'][df['PA DIASTOLICA'].notna()])"
   ]
  },
  {
   "cell_type": "code",
   "execution_count": 24,
   "metadata": {
    "ExecuteTime": {
     "end_time": "2021-01-13T17:17:01.687194Z",
     "start_time": "2021-01-13T17:17:01.677702Z"
    }
   },
   "outputs": [],
   "source": [
    "df.loc[df['PA DIASTOLICA'].isna(),'PA DIASTOLICA'] = df['PA DIASTOLICA'].mean()"
   ]
  },
  {
   "cell_type": "markdown",
   "metadata": {},
   "source": [
    "# Normal x Anormal"
   ]
  },
  {
   "cell_type": "markdown",
   "metadata": {},
   "source": [
    "Como vimos acima, existem 396 valores não-atribuídos para este atributo.Como esta é a variável que nós vamos tentar prever e o número de valores inexistentes é relativamente baixo não vamos danificar os nossos dados com linhas que não estão rotulados com respeito a este atributo.\n"
   ]
  },
  {
   "cell_type": "code",
   "execution_count": 25,
   "metadata": {
    "ExecuteTime": {
     "end_time": "2021-01-13T17:17:01.709406Z",
     "start_time": "2021-01-13T17:17:01.690088Z"
    }
   },
   "outputs": [
    {
     "data": {
      "text/plain": [
       "array(['Anormal', 'Normal', nan, 'anormal'], dtype=object)"
      ]
     },
     "execution_count": 25,
     "metadata": {},
     "output_type": "execute_result"
    }
   ],
   "source": [
    "df['NORMAL X ANORMAL'].unique()"
   ]
  },
  {
   "cell_type": "code",
   "execution_count": 26,
   "metadata": {
    "ExecuteTime": {
     "end_time": "2021-01-13T17:17:01.738265Z",
     "start_time": "2021-01-13T17:17:01.717715Z"
    }
   },
   "outputs": [],
   "source": [
    "df = df[df['NORMAL X ANORMAL'].notna()]\n",
    "df.loc[df['NORMAL X ANORMAL'] == 'anormal', 'NORMAL X ANORMAL'] = 'Anormal'\n",
    "df.loc[df['NORMAL X ANORMAL'] == 'Normais', 'NORMAL X ANORMAL'] = 'Normal'\n"
   ]
  },
  {
   "cell_type": "markdown",
   "metadata": {},
   "source": [
    "# IMC"
   ]
  },
  {
   "cell_type": "markdown",
   "metadata": {},
   "source": [
    "Para colmatar os NAs presentes na coluna correspondente ao IMC, vamos utilizar a média correspondenete para cada género, ou seja, se o paciente for homem o seu IMC vai corresponder à media do IMC masculino. Para começar vamos eliminar os pacientes sem sexo identificado (4)."
   ]
  },
  {
   "cell_type": "code",
   "execution_count": 27,
   "metadata": {
    "ExecuteTime": {
     "end_time": "2021-01-13T17:17:01.784413Z",
     "start_time": "2021-01-13T17:17:01.740724Z"
    }
   },
   "outputs": [],
   "source": [
    "df = df[df['SEXO'].notna()]\n",
    "\n",
    "mediaM = df.loc[(df['SEXO'] == 'M') & (df['IMC'].notna()),'IMC'].mean()\n",
    "mediaF = df.loc[(df['SEXO'] == 'F') & (df['IMC'].notna()),'IMC'].mean()\n",
    "\n",
    "\n",
    "df.loc[(df['SEXO'] == 'M') & (df['IMC'].isna()),'IMC'] = mediaM\n",
    "df.loc[(df['SEXO'] == 'F') & (df['IMC'].isna()),'IMC'] = mediaF\n"
   ]
  },
  {
   "cell_type": "code",
   "execution_count": 28,
   "metadata": {
    "ExecuteTime": {
     "end_time": "2021-01-13T17:17:01.810425Z",
     "start_time": "2021-01-13T17:17:01.786782Z"
    }
   },
   "outputs": [
    {
     "data": {
      "text/plain": [
       "Altura                 0\n",
       "IMC                  117\n",
       "IDADE                  0\n",
       "PULSOS                27\n",
       "PA SISTOLICA           0\n",
       "PA DIASTOLICA          0\n",
       "PPA                  151\n",
       "NORMAL X ANORMAL       0\n",
       "B2                     6\n",
       "SOPRO                  1\n",
       "FC                   641\n",
       "HDA 1               3674\n",
       "SEXO                   0\n",
       "MOTIVO1              139\n",
       "MOTIVO2             3396\n",
       "dtype: int64"
      ]
     },
     "execution_count": 28,
     "metadata": {},
     "output_type": "execute_result"
    }
   ],
   "source": [
    "df.isna().sum()"
   ]
  },
  {
   "cell_type": "markdown",
   "metadata": {},
   "source": [
    "# Data Transformation"
   ]
  },
  {
   "cell_type": "code",
   "execution_count": 46,
   "metadata": {
    "ExecuteTime": {
     "end_time": "2021-01-13T23:49:40.451870Z",
     "start_time": "2021-01-13T23:49:40.441842Z"
    }
   },
   "outputs": [
    {
     "data": {
      "text/plain": [
       "39.611881862286154"
      ]
     },
     "execution_count": 46,
     "metadata": {},
     "output_type": "execute_result"
    }
   ],
   "source": [
    "len(df.loc[df['PPA'] == 'Não Calculado'])/len(df)*100"
   ]
  },
  {
   "cell_type": "markdown",
   "metadata": {},
   "source": [
    "## PPA"
   ]
  },
  {
   "cell_type": "markdown",
   "metadata": {},
   "source": [
    "Nesta secção, exploramos a coluna \"PPA\" que é a variável que informa acerca dos níveis de pressão arterial do indivíduo tendo em conta a sua idade, altura e IMC. Diz-nos, basicamente, se o indivíduo tem ou não hipertensão arterial e, se sim, se é devido à PA sistólica ou diastólica. Como tal, acaba por ser um fator decisivo na previsão da coluna \"NORMAL X ANORMAL\". Infelizmente, cerca de 40% dos elementos desta coluna não estão calculados e, mesmo após muito trabalho, não foi possível calculá-los, de modo a que esta secção serve puramente como justificação para eliminar uma parte tão grande da nossa base de dados. \n",
    "\n"
   ]
  },
  {
   "cell_type": "markdown",
   "metadata": {},
   "source": [
    "Começamos por ver quais os tipos de diagnósticos nesta coluna: "
   ]
  },
  {
   "cell_type": "code",
   "execution_count": 29,
   "metadata": {
    "ExecuteTime": {
     "end_time": "2021-01-13T17:17:01.827972Z",
     "start_time": "2021-01-13T17:17:01.816597Z"
    }
   },
   "outputs": [
    {
     "data": {
      "text/plain": [
       "array(['Não Calculado', 'Normal', 'Pre-Hipertensão PAS', 'HAS-2 PAS',\n",
       "       'Pre-Hipertensão PAD', nan, 'HAS-1 PAS', 'HAS-2 PAD', 'HAS-1 PAD'],\n",
       "      dtype=object)"
      ]
     },
     "execution_count": 29,
     "metadata": {},
     "output_type": "execute_result"
    }
   ],
   "source": [
    "df['PPA'].unique()"
   ]
  },
  {
   "cell_type": "markdown",
   "metadata": {},
   "source": [
    "O diagnóstico de pré-hipertensão na área da cardiologia pediátrica é feito tendo em conta os percentis onde as pressões arteriais sistólica e diastólica do indivíduo se encontram.\n",
    "\n",
    "De acordo com os sites https://secad.artmed.com.br/blog/medicina/hipertensao-infantil/ e https://drauziovarella.uol.com.br/pediatria/hipertensao-arterial-infantil/, se o indivíduo se encontra entre os percentis 90% e 95% o diagnóstico é pré-hipertensão, se for entre os 95 e 99 é hipertensão estágio 1 e para cima de 99 é hipertensão estágio 2. Pelas tabelas fornecidas como suplementar, vemos que as curvas dos percentis dependem da idade, da altura  e do sexo. Como não encontramos nenhuma dataframe disponível com estes dados, convertemos o pdf fornecido para csv. Depois de alguma (bastante) edição no vim, conseguimos criar duas dataframes destes valores - uma para rapazes e outra para raparigas - bem como 2 dataframes que determinam os percentis das alturas baseadas na idade do indivíduo, obtidas do site https://www.cdc.gov/growthcharts/clinical_charts.htm. "
   ]
  },
  {
   "cell_type": "code",
   "execution_count": 30,
   "metadata": {
    "ExecuteTime": {
     "end_time": "2021-01-13T17:17:01.884411Z",
     "start_time": "2021-01-13T17:17:01.830669Z"
    }
   },
   "outputs": [],
   "source": [
    "boys_bp = pd.read_csv('bp_boys.csv', delimiter = ' ')\n",
    "girls_bp = pd.read_csv('bp_girls.csv', delimiter = ' ')\n",
    "boys_bp['I'] = boys_bp['I']*12\n",
    "girls_bp['I'] = girls_bp['I']*12\n",
    "boys_age1 = pd.read_csv('boys_age.csv', delimiter = ';')\n",
    "girls_age1 = pd.read_csv('girls_age.csv', delimiter = ';')\n",
    "boys_age2 = pd.read_csv('boys_age1.csv', delimiter = ';')\n",
    "girls_age2 = pd.read_csv('girls_age1.csv', delimiter = ';')\n",
    "boys_age = boys_age1.append(boys_age2,ignore_index = True)\n",
    "girls_age = girls_age1.append(girls_age2,ignore_index = True)\n",
    "boys_age.drop(columns = ['3','97'],inplace = True)\n",
    "girls_age.drop(columns = ['3','97'],inplace = True)\n"
   ]
  },
  {
   "cell_type": "markdown",
   "metadata": {},
   "source": [
    "Precisamos primeiro de encontrar o percentil da altura. Para cada idade, pesquisamos a sua altura na tabela e obtemos o percentil correspondente. "
   ]
  },
  {
   "cell_type": "code",
   "execution_count": 31,
   "metadata": {
    "ExecuteTime": {
     "end_time": "2021-01-13T17:17:01.912445Z",
     "start_time": "2021-01-13T17:17:01.886705Z"
    }
   },
   "outputs": [],
   "source": [
    "df.drop(index = df.loc[df['Altura'] == 0].index,inplace = True)\n",
    "df.drop(index = df.loc[df['IDADE'] > 18.].index,inplace = True)"
   ]
  },
  {
   "cell_type": "code",
   "execution_count": 32,
   "metadata": {
    "ExecuteTime": {
     "end_time": "2021-01-13T17:17:10.889959Z",
     "start_time": "2021-01-13T17:17:01.915179Z"
    }
   },
   "outputs": [],
   "source": [
    "df_boys = df.loc[df['SEXO'] == 'M']\n",
    "df_boys['IDADE'] = df_boys['IDADE']*12\n",
    "df_boys['ALTURA PER'] = 0\n",
    "for i in range(len(df_boys)):\n",
    "    linha = df_boys.iloc[i]\n",
    "    serie_altura = boys_age.loc[boys_age['Age'] <= linha['IDADE']].iloc[-1].iloc[1:]\n",
    "    PER_SER = serie_altura.loc[serie_altura <= linha['Altura']]\n",
    "    if len(PER_SER) == 0:\n",
    "        PER = 1\n",
    "    else:\n",
    "        PER = PER_SER.index[-1]\n",
    "    df_boys['ALTURA PER'].iloc[i] = PER"
   ]
  },
  {
   "cell_type": "code",
   "execution_count": 33,
   "metadata": {
    "ExecuteTime": {
     "end_time": "2021-01-13T17:19:10.965345Z",
     "start_time": "2021-01-13T17:19:03.212388Z"
    }
   },
   "outputs": [],
   "source": [
    "df_girls = df.loc[df['SEXO'] == 'F']\n",
    "df_girls['IDADE'] = df_girls['IDADE']*12\n",
    "df_girls['ALTURA PER'] = 0\n",
    "for i in range(len(df_girls)):\n",
    "    linha = df_girls.iloc[i]\n",
    "    serie_altura = girls_age.loc[girls_age['Age'] <= linha['IDADE']].iloc[-1].iloc[1:]\n",
    "    PER_SER = serie_altura.loc[serie_altura <= linha['Altura']]\n",
    "    if len(PER_SER) == 0:\n",
    "        PER = 1\n",
    "    else:\n",
    "        PER = PER_SER.index[-1]\n",
    "    df_girls['ALTURA PER'].iloc[i] = PER"
   ]
  },
  {
   "cell_type": "code",
   "execution_count": 34,
   "metadata": {
    "ExecuteTime": {
     "end_time": "2021-01-13T17:19:11.070656Z",
     "start_time": "2021-01-13T17:19:10.968888Z"
    }
   },
   "outputs": [
    {
     "data": {
      "text/plain": [
       "array(['25', '50', '75', '95', '10', '5', 1, '90'], dtype=object)"
      ]
     },
     "execution_count": 34,
     "metadata": {},
     "output_type": "execute_result"
    }
   ],
   "source": [
    "df_boys['ALTURA PER'].unique()"
   ]
  },
  {
   "cell_type": "markdown",
   "metadata": {},
   "source": [
    "Agora precisamos de encontrar, para cada idade e cada percentil de altura, o percentil onde se enquadram a pressão sistólica e diastólica."
   ]
  },
  {
   "cell_type": "code",
   "execution_count": 35,
   "metadata": {
    "ExecuteTime": {
     "end_time": "2021-01-13T17:22:23.947181Z",
     "start_time": "2021-01-13T17:22:23.936141Z"
    }
   },
   "outputs": [],
   "source": [
    "boys_bp_s = boys_bp[['I','PE','5','10','25','50','75','90','95']]\n",
    "boys_bp_d = boys_bp[['I','PE','5.1','10.1','25.1','50.1','75.1','90.1','95.1']]\n",
    "boys_bp_d.columns = ['I','PE','5','10','25','50','75','90','95']\n",
    "\n",
    "girls_bp_s = girls_bp[['I','PE','5','10','25','50','75','90','95']]\n",
    "girls_bp_d = girls_bp[['I','PE','5.1','10.1','25.1','50.1','75.1','90.1','95.1']]\n",
    "girls_bp_d.columns = ['I','PE','5','10','25','50','75','90','95']"
   ]
  },
  {
   "cell_type": "code",
   "execution_count": 36,
   "metadata": {
    "ExecuteTime": {
     "end_time": "2021-01-13T17:22:27.165759Z",
     "start_time": "2021-01-13T17:22:27.139025Z"
    }
   },
   "outputs": [],
   "source": [
    "df_boys.loc[df_boys['ALTURA PER'] == 1,'ALTURA PER'] = 5\n",
    "df_girls.loc[df_girls['ALTURA PER'] == 1,'ALTURA PER'] = 5"
   ]
  },
  {
   "cell_type": "code",
   "execution_count": 37,
   "metadata": {
    "ExecuteTime": {
     "end_time": "2021-01-13T17:23:05.231933Z",
     "start_time": "2021-01-13T17:22:50.981148Z"
    }
   },
   "outputs": [
    {
     "data": {
      "text/html": [
       "<div>\n",
       "<style scoped>\n",
       "    .dataframe tbody tr th:only-of-type {\n",
       "        vertical-align: middle;\n",
       "    }\n",
       "\n",
       "    .dataframe tbody tr th {\n",
       "        vertical-align: top;\n",
       "    }\n",
       "\n",
       "    .dataframe thead th {\n",
       "        text-align: right;\n",
       "    }\n",
       "</style>\n",
       "<table border=\"1\" class=\"dataframe\">\n",
       "  <thead>\n",
       "    <tr style=\"text-align: right;\">\n",
       "      <th></th>\n",
       "      <th>Altura</th>\n",
       "      <th>IMC</th>\n",
       "      <th>IDADE</th>\n",
       "      <th>PULSOS</th>\n",
       "      <th>PA SISTOLICA</th>\n",
       "      <th>PA DIASTOLICA</th>\n",
       "      <th>PPA</th>\n",
       "      <th>NORMAL X ANORMAL</th>\n",
       "      <th>B2</th>\n",
       "      <th>SOPRO</th>\n",
       "      <th>FC</th>\n",
       "      <th>HDA 1</th>\n",
       "      <th>SEXO</th>\n",
       "      <th>MOTIVO1</th>\n",
       "      <th>MOTIVO2</th>\n",
       "      <th>ALTURA PER</th>\n",
       "      <th>PAS PER</th>\n",
       "    </tr>\n",
       "  </thead>\n",
       "  <tbody>\n",
       "    <tr>\n",
       "      <th>0</th>\n",
       "      <td>51</td>\n",
       "      <td>19.0</td>\n",
       "      <td>1.44</td>\n",
       "      <td>Normais</td>\n",
       "      <td>101.075734</td>\n",
       "      <td>62.183346</td>\n",
       "      <td>Não Calculado</td>\n",
       "      <td>Anormal</td>\n",
       "      <td>Normal</td>\n",
       "      <td>Sistólico</td>\n",
       "      <td>112</td>\n",
       "      <td>Palpitacao</td>\n",
       "      <td>M</td>\n",
       "      <td>6 - Suspeita de cardiopatia</td>\n",
       "      <td>6 - Palpitação/taquicardia/arritmia</td>\n",
       "      <td>25</td>\n",
       "      <td>95</td>\n",
       "    </tr>\n",
       "    <tr>\n",
       "      <th>1</th>\n",
       "      <td>50</td>\n",
       "      <td>14.0</td>\n",
       "      <td>0.24</td>\n",
       "      <td>Normais</td>\n",
       "      <td>101.075734</td>\n",
       "      <td>62.183346</td>\n",
       "      <td>Não Calculado</td>\n",
       "      <td>Anormal</td>\n",
       "      <td>Normal</td>\n",
       "      <td>ausente</td>\n",
       "      <td>128</td>\n",
       "      <td>Dispneia</td>\n",
       "      <td>M</td>\n",
       "      <td>6 - Suspeita de cardiopatia</td>\n",
       "      <td>6 - Dispnéia</td>\n",
       "      <td>50</td>\n",
       "      <td>90</td>\n",
       "    </tr>\n",
       "    <tr>\n",
       "      <th>3</th>\n",
       "      <td>65</td>\n",
       "      <td>19.0</td>\n",
       "      <td>6</td>\n",
       "      <td>Normais</td>\n",
       "      <td>101.075734</td>\n",
       "      <td>62.183346</td>\n",
       "      <td>Não Calculado</td>\n",
       "      <td>Anormal</td>\n",
       "      <td>Normal</td>\n",
       "      <td>ausente</td>\n",
       "      <td>92</td>\n",
       "      <td>Assintomático</td>\n",
       "      <td>M</td>\n",
       "      <td>5 - Parecer cardiológico</td>\n",
       "      <td>NaN</td>\n",
       "      <td>25</td>\n",
       "      <td>95</td>\n",
       "    </tr>\n",
       "    <tr>\n",
       "      <th>4</th>\n",
       "      <td>142</td>\n",
       "      <td>20.0</td>\n",
       "      <td>115.2</td>\n",
       "      <td>Normais</td>\n",
       "      <td>85.000000</td>\n",
       "      <td>50.000000</td>\n",
       "      <td>Normal</td>\n",
       "      <td>Anormal</td>\n",
       "      <td>Normal</td>\n",
       "      <td>ausente</td>\n",
       "      <td>90</td>\n",
       "      <td>NaN</td>\n",
       "      <td>M</td>\n",
       "      <td>5 - Parecer cardiológico</td>\n",
       "      <td>5 - Atividade física</td>\n",
       "      <td>75</td>\n",
       "      <td>1</td>\n",
       "    </tr>\n",
       "    <tr>\n",
       "      <th>5</th>\n",
       "      <td>112</td>\n",
       "      <td>21.0</td>\n",
       "      <td>52.8</td>\n",
       "      <td>Normais</td>\n",
       "      <td>100.000000</td>\n",
       "      <td>60.000000</td>\n",
       "      <td>Normal</td>\n",
       "      <td>Anormal</td>\n",
       "      <td>Desdob fixo</td>\n",
       "      <td>ausente</td>\n",
       "      <td>100</td>\n",
       "      <td>Assintomático</td>\n",
       "      <td>M</td>\n",
       "      <td>2 - Check-up</td>\n",
       "      <td>NaN</td>\n",
       "      <td>95</td>\n",
       "      <td>50</td>\n",
       "    </tr>\n",
       "    <tr>\n",
       "      <th>...</th>\n",
       "      <td>...</td>\n",
       "      <td>...</td>\n",
       "      <td>...</td>\n",
       "      <td>...</td>\n",
       "      <td>...</td>\n",
       "      <td>...</td>\n",
       "      <td>...</td>\n",
       "      <td>...</td>\n",
       "      <td>...</td>\n",
       "      <td>...</td>\n",
       "      <td>...</td>\n",
       "      <td>...</td>\n",
       "      <td>...</td>\n",
       "      <td>...</td>\n",
       "      <td>...</td>\n",
       "      <td>...</td>\n",
       "      <td>...</td>\n",
       "    </tr>\n",
       "    <tr>\n",
       "      <th>16689</th>\n",
       "      <td>120</td>\n",
       "      <td>14.0</td>\n",
       "      <td>75.72</td>\n",
       "      <td>Normais</td>\n",
       "      <td>100.000000</td>\n",
       "      <td>60.000000</td>\n",
       "      <td>Normal</td>\n",
       "      <td>Anormal</td>\n",
       "      <td>Outro</td>\n",
       "      <td>ausente</td>\n",
       "      <td>96</td>\n",
       "      <td>Assintomático</td>\n",
       "      <td>M</td>\n",
       "      <td>1 - Cardiopatia já estabelecida</td>\n",
       "      <td>1 - Cardiopatia congenica</td>\n",
       "      <td>50</td>\n",
       "      <td>50</td>\n",
       "    </tr>\n",
       "    <tr>\n",
       "      <th>16690</th>\n",
       "      <td>175</td>\n",
       "      <td>19.0</td>\n",
       "      <td>204.84</td>\n",
       "      <td>Normais</td>\n",
       "      <td>120.000000</td>\n",
       "      <td>80.000000</td>\n",
       "      <td>Normal</td>\n",
       "      <td>Normal</td>\n",
       "      <td>Normal</td>\n",
       "      <td>ausente</td>\n",
       "      <td>NaN</td>\n",
       "      <td>NaN</td>\n",
       "      <td>M</td>\n",
       "      <td>5 - Parecer cardiológico</td>\n",
       "      <td>5 - Atividade física</td>\n",
       "      <td>25</td>\n",
       "      <td>50</td>\n",
       "    </tr>\n",
       "    <tr>\n",
       "      <th>16691</th>\n",
       "      <td>91</td>\n",
       "      <td>18.0</td>\n",
       "      <td>27.84</td>\n",
       "      <td>Normais</td>\n",
       "      <td>101.075734</td>\n",
       "      <td>62.183346</td>\n",
       "      <td>Não Calculado</td>\n",
       "      <td>Normal</td>\n",
       "      <td>Normal</td>\n",
       "      <td>ausente</td>\n",
       "      <td>100</td>\n",
       "      <td>Assintomático</td>\n",
       "      <td>M</td>\n",
       "      <td>5 - Parecer cardiológico</td>\n",
       "      <td>5 - Cirurgia</td>\n",
       "      <td>50</td>\n",
       "      <td>50</td>\n",
       "    </tr>\n",
       "    <tr>\n",
       "      <th>16692</th>\n",
       "      <td>89</td>\n",
       "      <td>14.0</td>\n",
       "      <td>33.72</td>\n",
       "      <td>Normais</td>\n",
       "      <td>90.000000</td>\n",
       "      <td>60.000000</td>\n",
       "      <td>Pre-Hipertensão PAD</td>\n",
       "      <td>Normal</td>\n",
       "      <td>Normal</td>\n",
       "      <td>ausente</td>\n",
       "      <td>NaN</td>\n",
       "      <td>Assintomático</td>\n",
       "      <td>M</td>\n",
       "      <td>5 - Parecer cardiológico</td>\n",
       "      <td>5 - Cirurgia</td>\n",
       "      <td>10</td>\n",
       "      <td>50</td>\n",
       "    </tr>\n",
       "    <tr>\n",
       "      <th>16695</th>\n",
       "      <td>130</td>\n",
       "      <td>14.0</td>\n",
       "      <td>110.28</td>\n",
       "      <td>Normais</td>\n",
       "      <td>100.000000</td>\n",
       "      <td>60.000000</td>\n",
       "      <td>Normal</td>\n",
       "      <td>Anormal</td>\n",
       "      <td>Normal</td>\n",
       "      <td>ausente</td>\n",
       "      <td>90</td>\n",
       "      <td>Assintomático</td>\n",
       "      <td>M</td>\n",
       "      <td>NaN</td>\n",
       "      <td>NaN</td>\n",
       "      <td>10</td>\n",
       "      <td>50</td>\n",
       "    </tr>\n",
       "  </tbody>\n",
       "</table>\n",
       "<p>6587 rows × 17 columns</p>\n",
       "</div>"
      ],
      "text/plain": [
       "       Altura   IMC   IDADE   PULSOS  PA SISTOLICA  PA DIASTOLICA  \\\n",
       "0          51  19.0    1.44  Normais    101.075734      62.183346   \n",
       "1          50  14.0    0.24  Normais    101.075734      62.183346   \n",
       "3          65  19.0       6  Normais    101.075734      62.183346   \n",
       "4         142  20.0   115.2  Normais     85.000000      50.000000   \n",
       "5         112  21.0    52.8  Normais    100.000000      60.000000   \n",
       "...       ...   ...     ...      ...           ...            ...   \n",
       "16689     120  14.0   75.72  Normais    100.000000      60.000000   \n",
       "16690     175  19.0  204.84  Normais    120.000000      80.000000   \n",
       "16691      91  18.0   27.84  Normais    101.075734      62.183346   \n",
       "16692      89  14.0   33.72  Normais     90.000000      60.000000   \n",
       "16695     130  14.0  110.28  Normais    100.000000      60.000000   \n",
       "\n",
       "                       PPA NORMAL X ANORMAL           B2      SOPRO   FC  \\\n",
       "0            Não Calculado          Anormal       Normal  Sistólico  112   \n",
       "1            Não Calculado          Anormal       Normal    ausente  128   \n",
       "3            Não Calculado          Anormal       Normal    ausente   92   \n",
       "4                   Normal          Anormal       Normal    ausente   90   \n",
       "5                   Normal          Anormal  Desdob fixo    ausente  100   \n",
       "...                    ...              ...          ...        ...  ...   \n",
       "16689               Normal          Anormal        Outro    ausente   96   \n",
       "16690               Normal           Normal       Normal    ausente  NaN   \n",
       "16691        Não Calculado           Normal       Normal    ausente  100   \n",
       "16692  Pre-Hipertensão PAD           Normal       Normal    ausente  NaN   \n",
       "16695               Normal          Anormal       Normal    ausente   90   \n",
       "\n",
       "               HDA 1 SEXO                          MOTIVO1  \\\n",
       "0         Palpitacao    M      6 - Suspeita de cardiopatia   \n",
       "1           Dispneia    M      6 - Suspeita de cardiopatia   \n",
       "3      Assintomático    M         5 - Parecer cardiológico   \n",
       "4                NaN    M         5 - Parecer cardiológico   \n",
       "5      Assintomático    M                     2 - Check-up   \n",
       "...              ...  ...                              ...   \n",
       "16689  Assintomático    M  1 - Cardiopatia já estabelecida   \n",
       "16690            NaN    M         5 - Parecer cardiológico   \n",
       "16691  Assintomático    M         5 - Parecer cardiológico   \n",
       "16692  Assintomático    M         5 - Parecer cardiológico   \n",
       "16695  Assintomático    M                              NaN   \n",
       "\n",
       "                                   MOTIVO2 ALTURA PER  PAS PER  \n",
       "0      6 - Palpitação/taquicardia/arritmia         25       95  \n",
       "1                             6 - Dispnéia         50       90  \n",
       "3                                      NaN         25       95  \n",
       "4                     5 - Atividade física         75        1  \n",
       "5                                      NaN         95       50  \n",
       "...                                    ...        ...      ...  \n",
       "16689            1 - Cardiopatia congenica         50       50  \n",
       "16690                 5 - Atividade física         25       50  \n",
       "16691                         5 - Cirurgia         50       50  \n",
       "16692                         5 - Cirurgia         10       50  \n",
       "16695                                  NaN         10       50  \n",
       "\n",
       "[6587 rows x 17 columns]"
      ]
     },
     "execution_count": 37,
     "metadata": {},
     "output_type": "execute_result"
    }
   ],
   "source": [
    "df_boys['PAS PER'] = 0\n",
    "for i in range(len(df_boys)):\n",
    "    linha = df_boys.iloc[i]\n",
    "    A_P, idade  = str(linha['ALTURA PER']), linha['IDADE']\n",
    "    if idade < 12:\n",
    "        PA_series = boys_bp_s.loc[boys_bp_s['I'] == 12]\n",
    "    else: \n",
    "        PA_series = boys_bp_s.loc[boys_bp_s['I'] <= idade][-4:] #### verificar se dá direito \n",
    "    fernando = PA_series.loc[PA_series[A_P]<=linha['PA SISTOLICA'],'PE']\n",
    "    if len(fernando) == 0:\n",
    "        PA_PER = 1\n",
    "    else:\n",
    "        PA_PER = PA_series.loc[PA_series[A_P]<=linha['PA SISTOLICA'],'PE'].iloc[-1]\n",
    "    df_boys['PAS PER'].iloc[i] = PA_PER\n",
    "    \n",
    "    \n",
    "df_boys"
   ]
  },
  {
   "cell_type": "code",
   "execution_count": 38,
   "metadata": {
    "ExecuteTime": {
     "end_time": "2021-01-13T17:23:27.497287Z",
     "start_time": "2021-01-13T17:23:13.544556Z"
    }
   },
   "outputs": [],
   "source": [
    "df_boys['PAD PER'] = 0\n",
    "for i in range(len(df_boys)):\n",
    "    linha = df_boys.iloc[i]\n",
    "    A_P, idade  = str(linha['ALTURA PER']), linha['IDADE']\n",
    "    if idade < 12:\n",
    "        PA_series = boys_bp_d.loc[boys_bp_d['I'] == 12]\n",
    "    else: \n",
    "        PA_series = boys_bp_d.loc[boys_bp_d['I'] <= idade][-4:] #### verificar se dá direito \n",
    "    fernando = PA_series.loc[PA_series[A_P]<=linha['PA DIASTOLICA'],'PE']\n",
    "    if len(fernando) == 0:\n",
    "        PA_PER = 1\n",
    "    else:\n",
    "        PA_PER = PA_series.loc[PA_series[A_P]<=linha['PA DIASTOLICA'],'PE'].iloc[-1]\n",
    "    df_boys['PAD PER'].iloc[i] = PA_PER"
   ]
  },
  {
   "cell_type": "code",
   "execution_count": 39,
   "metadata": {
    "ExecuteTime": {
     "end_time": "2021-01-13T17:23:27.545971Z",
     "start_time": "2021-01-13T17:23:27.499193Z"
    }
   },
   "outputs": [
    {
     "data": {
      "text/plain": [
       "array(['Não Calculado', 'Normal', 'Pre-Hipertensão PAS', 'HAS-2 PAS',\n",
       "       'Pre-Hipertensão PAD', nan, 'HAS-1 PAS', 'HAS-2 PAD', 'HAS-1 PAD'],\n",
       "      dtype=object)"
      ]
     },
     "execution_count": 39,
     "metadata": {},
     "output_type": "execute_result"
    }
   ],
   "source": [
    "df['PPA'].unique()"
   ]
  },
  {
   "cell_type": "markdown",
   "metadata": {},
   "source": [
    "Passamos agora para a classificação da coluna \"PPA\" de acordo com os percentis onde se encontram."
   ]
  },
  {
   "cell_type": "code",
   "execution_count": 40,
   "metadata": {
    "ExecuteTime": {
     "end_time": "2021-01-13T17:23:27.663461Z",
     "start_time": "2021-01-13T17:23:27.602279Z"
    },
    "scrolled": true
   },
   "outputs": [
    {
     "name": "stdout",
     "output_type": "stream",
     "text": [
      "0.8746916625555008\n",
      "0.8667982239763197\n"
     ]
    }
   ],
   "source": [
    "df_boys['PPA CALC'] = ''\n",
    "df_boys.loc[(df_boys['PAS PER'] < 90)&(df_boys['PAD PER']<90),'PPA CALC'] = 'Normal'\n",
    "df_boys.loc[df_boys['PAS PER'] == 90,'PPA CALC'] = 'Pre-Hipertensão PAS'\n",
    "df_boys.loc[df_boys['PAD PER'] == 90,'PPA CALC'] = 'Pre-Hipertensão PAD'\n",
    "df_boys.loc[df_boys['PAD PER'] == 95,'PPA CALC'] = 'HAS-1 PAD'\n",
    "df_boys.loc[df_boys['PAS PER'] == 95,'PPA CALC'] = 'HAS-1 PAS'\n",
    "df_boys.loc[df_boys['PAD PER'] == 99,'PPA CALC'] = 'HAS-2 PAD'\n",
    "df_boys.loc[df_boys['PAS PER'] == 99,'PPA CALC'] = 'HAS-2 PAS'\n",
    "df_boys1 = df_boys.drop(index = df_boys.loc[((df_boys['PPA'] == 'Não Calculado') | df_boys['PPA'].isna())|(df_boys['IDADE']<12)].index)\n"
   ]
  },
  {
   "cell_type": "markdown",
   "metadata": {},
   "source": [
    "Calculemos a percentagem de sucesso do cálculo dos valores desta coluna: "
   ]
  },
  {
   "cell_type": "code",
   "execution_count": 48,
   "metadata": {
    "ExecuteTime": {
     "end_time": "2021-01-14T00:03:43.855750Z",
     "start_time": "2021-01-14T00:03:43.847631Z"
    }
   },
   "outputs": [
    {
     "name": "stdout",
     "output_type": "stream",
     "text": [
      "87.46916625555008\n"
     ]
    }
   ],
   "source": [
    "print(len(df_boys1.loc[df_boys1['PPA'] == df_boys1['PPA CALC']])/len(df_boys1)*100)\n"
   ]
  },
  {
   "cell_type": "markdown",
   "metadata": {},
   "source": [
    "87% de sucesso não é muito bom, especialmente se tivermos em conta que 86% dos dados calculados têm o diagnóstico \"Normal\":\n"
   ]
  },
  {
   "cell_type": "code",
   "execution_count": 53,
   "metadata": {
    "ExecuteTime": {
     "end_time": "2021-01-14T00:11:57.637866Z",
     "start_time": "2021-01-14T00:11:57.621645Z"
    }
   },
   "outputs": [
    {
     "data": {
      "text/plain": [
       "86.67982239763197"
      ]
     },
     "execution_count": 53,
     "metadata": {},
     "output_type": "execute_result"
    }
   ],
   "source": [
    "len(df_boys1.loc[df_boys1['PPA'] == 'Normal'])/len(df_boys1.loc[df_boys1['PPA'] != 'Não Calculado'])*100"
   ]
  },
  {
   "cell_type": "markdown",
   "metadata": {},
   "source": [
    "Isto significa que o cálculo dos diagnósticos que nos interessam, isto é, os de hipertensão arterial, não é bem sucedido. "
   ]
  },
  {
   "cell_type": "code",
   "execution_count": 41,
   "metadata": {
    "ExecuteTime": {
     "end_time": "2021-01-13T17:23:30.688079Z",
     "start_time": "2021-01-13T17:23:30.648762Z"
    }
   },
   "outputs": [
    {
     "data": {
      "text/html": [
       "<div>\n",
       "<style scoped>\n",
       "    .dataframe tbody tr th:only-of-type {\n",
       "        vertical-align: middle;\n",
       "    }\n",
       "\n",
       "    .dataframe tbody tr th {\n",
       "        vertical-align: top;\n",
       "    }\n",
       "\n",
       "    .dataframe thead th {\n",
       "        text-align: right;\n",
       "    }\n",
       "</style>\n",
       "<table border=\"1\" class=\"dataframe\">\n",
       "  <thead>\n",
       "    <tr style=\"text-align: right;\">\n",
       "      <th></th>\n",
       "      <th>Altura</th>\n",
       "      <th>IMC</th>\n",
       "      <th>IDADE</th>\n",
       "      <th>PULSOS</th>\n",
       "      <th>PA SISTOLICA</th>\n",
       "      <th>PA DIASTOLICA</th>\n",
       "      <th>PPA</th>\n",
       "      <th>NORMAL X ANORMAL</th>\n",
       "      <th>B2</th>\n",
       "      <th>SOPRO</th>\n",
       "      <th>FC</th>\n",
       "      <th>HDA 1</th>\n",
       "      <th>SEXO</th>\n",
       "      <th>MOTIVO1</th>\n",
       "      <th>MOTIVO2</th>\n",
       "      <th>ALTURA PER</th>\n",
       "      <th>PAS PER</th>\n",
       "      <th>PAD PER</th>\n",
       "      <th>PPA CALC</th>\n",
       "    </tr>\n",
       "  </thead>\n",
       "  <tbody>\n",
       "    <tr>\n",
       "      <th>26</th>\n",
       "      <td>143</td>\n",
       "      <td>26.000000</td>\n",
       "      <td>119.4</td>\n",
       "      <td>Normais</td>\n",
       "      <td>120.0</td>\n",
       "      <td>80.0</td>\n",
       "      <td>Pre-Hipertensão PAS</td>\n",
       "      <td>Normal</td>\n",
       "      <td>Normal</td>\n",
       "      <td>ausente</td>\n",
       "      <td>90</td>\n",
       "      <td>NaN</td>\n",
       "      <td>M</td>\n",
       "      <td>6 - Suspeita de cardiopatia</td>\n",
       "      <td>6 - HAS/dislipidemia/obesidade</td>\n",
       "      <td>75</td>\n",
       "      <td>95</td>\n",
       "      <td>95</td>\n",
       "      <td>HAS-1 PAS</td>\n",
       "    </tr>\n",
       "    <tr>\n",
       "      <th>196</th>\n",
       "      <td>167</td>\n",
       "      <td>23.000000</td>\n",
       "      <td>176.76</td>\n",
       "      <td>Normais</td>\n",
       "      <td>120.0</td>\n",
       "      <td>80.0</td>\n",
       "      <td>Normal</td>\n",
       "      <td>Normal</td>\n",
       "      <td>Normal</td>\n",
       "      <td>ausente</td>\n",
       "      <td>70</td>\n",
       "      <td>Assintomático</td>\n",
       "      <td>M</td>\n",
       "      <td>5 - Parecer cardiológico</td>\n",
       "      <td>5 - Cirurgia</td>\n",
       "      <td>25</td>\n",
       "      <td>50</td>\n",
       "      <td>90</td>\n",
       "      <td>Pre-Hipertensão PAD</td>\n",
       "    </tr>\n",
       "    <tr>\n",
       "      <th>209</th>\n",
       "      <td>88</td>\n",
       "      <td>17.000000</td>\n",
       "      <td>28.68</td>\n",
       "      <td>Normais</td>\n",
       "      <td>100.0</td>\n",
       "      <td>50.0</td>\n",
       "      <td>Normal</td>\n",
       "      <td>Normal</td>\n",
       "      <td>Normal</td>\n",
       "      <td>ausente</td>\n",
       "      <td>100</td>\n",
       "      <td>Assintomático</td>\n",
       "      <td>M</td>\n",
       "      <td>5 - Parecer cardiológico</td>\n",
       "      <td>5 - Cirurgia</td>\n",
       "      <td>25</td>\n",
       "      <td>90</td>\n",
       "      <td>50</td>\n",
       "      <td>Pre-Hipertensão PAS</td>\n",
       "    </tr>\n",
       "    <tr>\n",
       "      <th>210</th>\n",
       "      <td>88</td>\n",
       "      <td>17.000000</td>\n",
       "      <td>28.68</td>\n",
       "      <td>Normais</td>\n",
       "      <td>100.0</td>\n",
       "      <td>50.0</td>\n",
       "      <td>Normal</td>\n",
       "      <td>Normal</td>\n",
       "      <td>Normal</td>\n",
       "      <td>ausente</td>\n",
       "      <td>100</td>\n",
       "      <td>Assintomático</td>\n",
       "      <td>M</td>\n",
       "      <td>5 - Parecer cardiológico</td>\n",
       "      <td>5 - Cirurgia</td>\n",
       "      <td>25</td>\n",
       "      <td>90</td>\n",
       "      <td>50</td>\n",
       "      <td>Pre-Hipertensão PAS</td>\n",
       "    </tr>\n",
       "    <tr>\n",
       "      <th>217</th>\n",
       "      <td>106</td>\n",
       "      <td>15.000000</td>\n",
       "      <td>62.76</td>\n",
       "      <td>Normais</td>\n",
       "      <td>105.0</td>\n",
       "      <td>65.0</td>\n",
       "      <td>Normal</td>\n",
       "      <td>Anormal</td>\n",
       "      <td>Normal</td>\n",
       "      <td>Sistólico</td>\n",
       "      <td>120</td>\n",
       "      <td>Assintomático</td>\n",
       "      <td>M</td>\n",
       "      <td>2 - Check-up</td>\n",
       "      <td>NaN</td>\n",
       "      <td>10</td>\n",
       "      <td>90</td>\n",
       "      <td>50</td>\n",
       "      <td>Pre-Hipertensão PAS</td>\n",
       "    </tr>\n",
       "    <tr>\n",
       "      <th>...</th>\n",
       "      <td>...</td>\n",
       "      <td>...</td>\n",
       "      <td>...</td>\n",
       "      <td>...</td>\n",
       "      <td>...</td>\n",
       "      <td>...</td>\n",
       "      <td>...</td>\n",
       "      <td>...</td>\n",
       "      <td>...</td>\n",
       "      <td>...</td>\n",
       "      <td>...</td>\n",
       "      <td>...</td>\n",
       "      <td>...</td>\n",
       "      <td>...</td>\n",
       "      <td>...</td>\n",
       "      <td>...</td>\n",
       "      <td>...</td>\n",
       "      <td>...</td>\n",
       "      <td>...</td>\n",
       "    </tr>\n",
       "    <tr>\n",
       "      <th>16645</th>\n",
       "      <td>146</td>\n",
       "      <td>17.932673</td>\n",
       "      <td>139.2</td>\n",
       "      <td>Normais</td>\n",
       "      <td>115.0</td>\n",
       "      <td>75.0</td>\n",
       "      <td>Normal</td>\n",
       "      <td>Normal</td>\n",
       "      <td>Normal</td>\n",
       "      <td>ausente</td>\n",
       "      <td>80</td>\n",
       "      <td>Assintomático</td>\n",
       "      <td>M</td>\n",
       "      <td>5 - Parecer cardiológico</td>\n",
       "      <td>5 - Atividade física</td>\n",
       "      <td>25</td>\n",
       "      <td>90</td>\n",
       "      <td>90</td>\n",
       "      <td>Pre-Hipertensão PAD</td>\n",
       "    </tr>\n",
       "    <tr>\n",
       "      <th>16668</th>\n",
       "      <td>96</td>\n",
       "      <td>20.000000</td>\n",
       "      <td>32.4</td>\n",
       "      <td>Normais</td>\n",
       "      <td>90.0</td>\n",
       "      <td>60.0</td>\n",
       "      <td>Normal</td>\n",
       "      <td>Normal</td>\n",
       "      <td>Normal</td>\n",
       "      <td>ausente</td>\n",
       "      <td>72</td>\n",
       "      <td>Assintomático</td>\n",
       "      <td>M</td>\n",
       "      <td>5 - Parecer cardiológico</td>\n",
       "      <td>5 - Cirurgia</td>\n",
       "      <td>75</td>\n",
       "      <td>50</td>\n",
       "      <td>90</td>\n",
       "      <td>Pre-Hipertensão PAD</td>\n",
       "    </tr>\n",
       "    <tr>\n",
       "      <th>16673</th>\n",
       "      <td>121</td>\n",
       "      <td>17.000000</td>\n",
       "      <td>92.28</td>\n",
       "      <td>Normais</td>\n",
       "      <td>100.0</td>\n",
       "      <td>70.0</td>\n",
       "      <td>Normal</td>\n",
       "      <td>Normal</td>\n",
       "      <td>Normal</td>\n",
       "      <td>ausente</td>\n",
       "      <td>88</td>\n",
       "      <td>NaN</td>\n",
       "      <td>M</td>\n",
       "      <td>2 - Check-up</td>\n",
       "      <td>NaN</td>\n",
       "      <td>10</td>\n",
       "      <td>50</td>\n",
       "      <td>90</td>\n",
       "      <td>Pre-Hipertensão PAD</td>\n",
       "    </tr>\n",
       "    <tr>\n",
       "      <th>16674</th>\n",
       "      <td>100</td>\n",
       "      <td>14.000000</td>\n",
       "      <td>45.96</td>\n",
       "      <td>Normais</td>\n",
       "      <td>88.0</td>\n",
       "      <td>60.0</td>\n",
       "      <td>Normal</td>\n",
       "      <td>Anormal</td>\n",
       "      <td>Normal</td>\n",
       "      <td>Sistólico</td>\n",
       "      <td>92</td>\n",
       "      <td>Assintomático</td>\n",
       "      <td>M</td>\n",
       "      <td>5 - Parecer cardiológico</td>\n",
       "      <td>5 - Cirurgia</td>\n",
       "      <td>25</td>\n",
       "      <td>1</td>\n",
       "      <td>90</td>\n",
       "      <td>Pre-Hipertensão PAD</td>\n",
       "    </tr>\n",
       "    <tr>\n",
       "      <th>16692</th>\n",
       "      <td>89</td>\n",
       "      <td>14.000000</td>\n",
       "      <td>33.72</td>\n",
       "      <td>Normais</td>\n",
       "      <td>90.0</td>\n",
       "      <td>60.0</td>\n",
       "      <td>Pre-Hipertensão PAD</td>\n",
       "      <td>Normal</td>\n",
       "      <td>Normal</td>\n",
       "      <td>ausente</td>\n",
       "      <td>NaN</td>\n",
       "      <td>Assintomático</td>\n",
       "      <td>M</td>\n",
       "      <td>5 - Parecer cardiológico</td>\n",
       "      <td>5 - Cirurgia</td>\n",
       "      <td>10</td>\n",
       "      <td>50</td>\n",
       "      <td>95</td>\n",
       "      <td>HAS-1 PAD</td>\n",
       "    </tr>\n",
       "  </tbody>\n",
       "</table>\n",
       "<p>508 rows × 19 columns</p>\n",
       "</div>"
      ],
      "text/plain": [
       "       Altura        IMC   IDADE   PULSOS  PA SISTOLICA  PA DIASTOLICA  \\\n",
       "26        143  26.000000   119.4  Normais         120.0           80.0   \n",
       "196       167  23.000000  176.76  Normais         120.0           80.0   \n",
       "209        88  17.000000   28.68  Normais         100.0           50.0   \n",
       "210        88  17.000000   28.68  Normais         100.0           50.0   \n",
       "217       106  15.000000   62.76  Normais         105.0           65.0   \n",
       "...       ...        ...     ...      ...           ...            ...   \n",
       "16645     146  17.932673   139.2  Normais         115.0           75.0   \n",
       "16668      96  20.000000    32.4  Normais          90.0           60.0   \n",
       "16673     121  17.000000   92.28  Normais         100.0           70.0   \n",
       "16674     100  14.000000   45.96  Normais          88.0           60.0   \n",
       "16692      89  14.000000   33.72  Normais          90.0           60.0   \n",
       "\n",
       "                       PPA NORMAL X ANORMAL      B2      SOPRO   FC  \\\n",
       "26     Pre-Hipertensão PAS           Normal  Normal    ausente   90   \n",
       "196                 Normal           Normal  Normal    ausente   70   \n",
       "209                 Normal           Normal  Normal    ausente  100   \n",
       "210                 Normal           Normal  Normal    ausente  100   \n",
       "217                 Normal          Anormal  Normal  Sistólico  120   \n",
       "...                    ...              ...     ...        ...  ...   \n",
       "16645               Normal           Normal  Normal    ausente   80   \n",
       "16668               Normal           Normal  Normal    ausente   72   \n",
       "16673               Normal           Normal  Normal    ausente   88   \n",
       "16674               Normal          Anormal  Normal  Sistólico   92   \n",
       "16692  Pre-Hipertensão PAD           Normal  Normal    ausente  NaN   \n",
       "\n",
       "               HDA 1 SEXO                      MOTIVO1  \\\n",
       "26               NaN    M  6 - Suspeita de cardiopatia   \n",
       "196    Assintomático    M     5 - Parecer cardiológico   \n",
       "209    Assintomático    M     5 - Parecer cardiológico   \n",
       "210    Assintomático    M     5 - Parecer cardiológico   \n",
       "217    Assintomático    M                 2 - Check-up   \n",
       "...              ...  ...                          ...   \n",
       "16645  Assintomático    M     5 - Parecer cardiológico   \n",
       "16668  Assintomático    M     5 - Parecer cardiológico   \n",
       "16673            NaN    M                 2 - Check-up   \n",
       "16674  Assintomático    M     5 - Parecer cardiológico   \n",
       "16692  Assintomático    M     5 - Parecer cardiológico   \n",
       "\n",
       "                              MOTIVO2 ALTURA PER  PAS PER  PAD PER  \\\n",
       "26     6 - HAS/dislipidemia/obesidade         75       95       95   \n",
       "196                      5 - Cirurgia         25       50       90   \n",
       "209                      5 - Cirurgia         25       90       50   \n",
       "210                      5 - Cirurgia         25       90       50   \n",
       "217                               NaN         10       90       50   \n",
       "...                               ...        ...      ...      ...   \n",
       "16645            5 - Atividade física         25       90       90   \n",
       "16668                    5 - Cirurgia         75       50       90   \n",
       "16673                             NaN         10       50       90   \n",
       "16674                    5 - Cirurgia         25        1       90   \n",
       "16692                    5 - Cirurgia         10       50       95   \n",
       "\n",
       "                  PPA CALC  \n",
       "26               HAS-1 PAS  \n",
       "196    Pre-Hipertensão PAD  \n",
       "209    Pre-Hipertensão PAS  \n",
       "210    Pre-Hipertensão PAS  \n",
       "217    Pre-Hipertensão PAS  \n",
       "...                    ...  \n",
       "16645  Pre-Hipertensão PAD  \n",
       "16668  Pre-Hipertensão PAD  \n",
       "16673  Pre-Hipertensão PAD  \n",
       "16674  Pre-Hipertensão PAD  \n",
       "16692            HAS-1 PAD  \n",
       "\n",
       "[508 rows x 19 columns]"
      ]
     },
     "execution_count": 41,
     "metadata": {},
     "output_type": "execute_result"
    }
   ],
   "source": [
    "df_boys1.loc[df_boys1['PPA'] != df_boys1['PPA CALC']]"
   ]
  },
  {
   "cell_type": "markdown",
   "metadata": {},
   "source": [
    "Se pegarmos neste ultimo exemplo (idade 33.72 meses, altura 89 centimetros, PAS 90 e PAD 60) e formos ver manualmente nas tabelas fornecidas, os percentis identificados pelo programa estão corretos e mesmo assim o resultado difere do original. Isto é uma forte indicação de que as tabelas de percentis usadas por nós e pelo hospital sejam diferentes. Assim, não nos resta outra opção se não apagar as entradas onde o \"PPA\" não está calculado. "
   ]
  },
  {
   "cell_type": "markdown",
   "metadata": {},
   "source": [
    "## PA"
   ]
  },
  {
   "cell_type": "code",
   "execution_count": null,
   "metadata": {},
   "outputs": [],
   "source": []
  }
 ],
 "metadata": {
  "kernelspec": {
   "display_name": "Python 3",
   "language": "python",
   "name": "python3"
  },
  "language_info": {
   "codemirror_mode": {
    "name": "ipython",
    "version": 3
   },
   "file_extension": ".py",
   "mimetype": "text/x-python",
   "name": "python",
   "nbconvert_exporter": "python",
   "pygments_lexer": "ipython3",
   "version": "3.7.3"
  }
 },
 "nbformat": 4,
 "nbformat_minor": 2
}
