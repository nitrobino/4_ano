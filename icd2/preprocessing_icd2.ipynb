{
 "cells": [
  {
   "cell_type": "code",
   "execution_count": 14,
   "metadata": {
    "ExecuteTime": {
     "end_time": "2021-06-05T15:07:43.816955Z",
     "start_time": "2021-06-05T15:07:32.074988Z"
    }
   },
   "outputs": [
    {
     "name": "stdout",
     "output_type": "stream",
     "text": [
      "Collecting matplotlib\n",
      "  Downloading matplotlib-3.4.2-cp37-cp37m-win_amd64.whl (7.1 MB)\n",
      "Requirement already satisfied: pyparsing>=2.2.1 in c:\\users\\fnac\\anaconda3\\envs\\r-tutorial\\lib\\site-packages (from matplotlib) (2.4.7)\n",
      "Collecting cycler>=0.10\n",
      "  Using cached cycler-0.10.0-py2.py3-none-any.whl (6.5 kB)\n",
      "Collecting pillow>=6.2.0\n",
      "  Downloading Pillow-8.2.0-cp37-cp37m-win_amd64.whl (2.2 MB)\n",
      "Requirement already satisfied: python-dateutil>=2.7 in c:\\users\\fnac\\anaconda3\\envs\\r-tutorial\\lib\\site-packages (from matplotlib) (2.8.1)\n",
      "Requirement already satisfied: numpy>=1.16 in c:\\users\\fnac\\anaconda3\\envs\\r-tutorial\\lib\\site-packages (from matplotlib) (1.20.3)\n",
      "Collecting kiwisolver>=1.0.1\n",
      "  Downloading kiwisolver-1.3.1-cp37-cp37m-win_amd64.whl (51 kB)\n",
      "Requirement already satisfied: six in c:\\users\\fnac\\anaconda3\\envs\\r-tutorial\\lib\\site-packages (from cycler>=0.10->matplotlib) (1.15.0)\n",
      "Installing collected packages: pillow, kiwisolver, cycler, matplotlib\n",
      "Successfully installed cycler-0.10.0 kiwisolver-1.3.1 matplotlib-3.4.2 pillow-8.2.0\n"
     ]
    }
   ],
   "source": [
    "!pip install matplotlib"
   ]
  },
  {
   "cell_type": "code",
   "execution_count": 16,
   "metadata": {
    "ExecuteTime": {
     "end_time": "2021-06-05T15:09:02.704818Z",
     "start_time": "2021-06-05T15:08:59.343255Z"
    }
   },
   "outputs": [],
   "source": [
    "import pandas as pd\n",
    "import numpy as np \n",
    "import matplotlib.pyplot as p\n",
    "\n",
    "user = pd.read_csv('users_brands.csv')\n",
    "brand = pd.read_csv('brand_features.csv')"
   ]
  },
  {
   "cell_type": "markdown",
   "metadata": {},
   "source": [
    "We started the preprocessing phase by evaluating the quality of our dataset, that is, if there were any not attributed values. We did this using a simple Python routine and found that there were no nan's in our dataset."
   ]
  },
  {
   "cell_type": "code",
   "execution_count": 61,
   "metadata": {
    "ExecuteTime": {
     "end_time": "2021-06-05T17:20:57.051120Z",
     "start_time": "2021-06-05T17:20:56.795246Z"
    }
   },
   "outputs": [
    {
     "data": {
      "text/plain": [
       "False"
      ]
     },
     "execution_count": 61,
     "metadata": {},
     "output_type": "execute_result"
    }
   ],
   "source": [
    "user.isnull().values.any()"
   ]
  },
  {
   "cell_type": "markdown",
   "metadata": {},
   "source": [
    "After this we checked the type of data in each variable"
   ]
  },
  {
   "cell_type": "code",
   "execution_count": 62,
   "metadata": {
    "ExecuteTime": {
     "end_time": "2021-06-05T17:21:56.753187Z",
     "start_time": "2021-06-05T17:21:56.729187Z"
    }
   },
   "outputs": [
    {
     "name": "stdout",
     "output_type": "stream",
     "text": [
      "<class 'str'>\n",
      "<class 'numpy.int64'>\n",
      "<class 'numpy.int64'>\n",
      "<class 'numpy.int32'>\n",
      "<class 'numpy.int32'>\n",
      "<class 'numpy.int64'>\n",
      "<class 'int'>\n"
     ]
    }
   ],
   "source": [
    "for i in user.columns:\n",
    "    print(type(user[i][0]))"
   ]
  },
  {
   "cell_type": "code",
   "execution_count": 17,
   "metadata": {
    "ExecuteTime": {
     "end_time": "2021-06-05T15:09:03.564481Z",
     "start_time": "2021-06-05T15:09:03.363240Z"
    }
   },
   "outputs": [
    {
     "data": {
      "text/html": [
       "<div>\n",
       "<style scoped>\n",
       "    .dataframe tbody tr th:only-of-type {\n",
       "        vertical-align: middle;\n",
       "    }\n",
       "\n",
       "    .dataframe tbody tr th {\n",
       "        vertical-align: top;\n",
       "    }\n",
       "\n",
       "    .dataframe thead th {\n",
       "        text-align: right;\n",
       "    }\n",
       "</style>\n",
       "<table border=\"1\" class=\"dataframe\">\n",
       "  <thead>\n",
       "    <tr style=\"text-align: right;\">\n",
       "      <th></th>\n",
       "      <th>user_id</th>\n",
       "      <th>brand_id</th>\n",
       "      <th>platform</th>\n",
       "      <th>country</th>\n",
       "      <th>user_segment</th>\n",
       "      <th>purchase_date</th>\n",
       "      <th>perc_sale</th>\n",
       "    </tr>\n",
       "  </thead>\n",
       "  <tbody>\n",
       "    <tr>\n",
       "      <th>0</th>\n",
       "      <td>65b4c425c57d4d5cd6a09b6721f76dfe76fca72000a58a...</td>\n",
       "      <td>92850413</td>\n",
       "      <td>35279833</td>\n",
       "      <td>country_76</td>\n",
       "      <td>segment_2</td>\n",
       "      <td>154</td>\n",
       "      <td>0.0</td>\n",
       "    </tr>\n",
       "    <tr>\n",
       "      <th>477114</th>\n",
       "      <td>65b4c425c57d4d5cd6a09b6721f76dfe76fca72000a58a...</td>\n",
       "      <td>68233099</td>\n",
       "      <td>35279833</td>\n",
       "      <td>country_76</td>\n",
       "      <td>segment_2</td>\n",
       "      <td>177</td>\n",
       "      <td>(0, 25]</td>\n",
       "    </tr>\n",
       "    <tr>\n",
       "      <th>567165</th>\n",
       "      <td>65b4c425c57d4d5cd6a09b6721f76dfe76fca72000a58a...</td>\n",
       "      <td>16073974</td>\n",
       "      <td>35279833</td>\n",
       "      <td>country_76</td>\n",
       "      <td>segment_2</td>\n",
       "      <td>42</td>\n",
       "      <td>0.0</td>\n",
       "    </tr>\n",
       "  </tbody>\n",
       "</table>\n",
       "</div>"
      ],
      "text/plain": [
       "                                                  user_id  brand_id  platform  \\\n",
       "0       65b4c425c57d4d5cd6a09b6721f76dfe76fca72000a58a...  92850413  35279833   \n",
       "477114  65b4c425c57d4d5cd6a09b6721f76dfe76fca72000a58a...  68233099  35279833   \n",
       "567165  65b4c425c57d4d5cd6a09b6721f76dfe76fca72000a58a...  16073974  35279833   \n",
       "\n",
       "           country user_segment  purchase_date perc_sale  \n",
       "0       country_76    segment_2            154       0.0  \n",
       "477114  country_76    segment_2            177   (0, 25]  \n",
       "567165  country_76    segment_2             42       0.0  "
      ]
     },
     "execution_count": 17,
     "metadata": {},
     "output_type": "execute_result"
    }
   ],
   "source": [
    "user.loc[user['user_id']==user['user_id'][0]]"
   ]
  },
  {
   "cell_type": "code",
   "execution_count": 18,
   "metadata": {
    "ExecuteTime": {
     "end_time": "2021-06-05T15:09:03.800742Z",
     "start_time": "2021-06-05T15:09:03.680483Z"
    }
   },
   "outputs": [
    {
     "data": {
      "text/plain": [
       "array(['0.0', '(25, 50]', '(0, 25]', '(50, 75]', '(75, 100]'],\n",
       "      dtype=object)"
      ]
     },
     "execution_count": 18,
     "metadata": {},
     "output_type": "execute_result"
    }
   ],
   "source": [
    "pd.unique(user['perc_sale'])"
   ]
  },
  {
   "cell_type": "markdown",
   "metadata": {},
   "source": [
    "As described in the table, the values assigned to the variables \"country\" and \"user\\_segment\" are simply strings composed of the word \"country\\_\" and \"segment\\_\" followed by an unique integer that characterizes each country and segment. Thus, we found it to be a good preprocessing step to simply substitute the formula \"attribute\\_\"+integer by just the integer."
   ]
  },
  {
   "cell_type": "code",
   "execution_count": 19,
   "metadata": {
    "ExecuteTime": {
     "end_time": "2021-06-05T15:09:05.491589Z",
     "start_time": "2021-06-05T15:09:03.843742Z"
    }
   },
   "outputs": [],
   "source": [
    "user['country']=user['country'].str.replace('country_','').astype(int)"
   ]
  },
  {
   "cell_type": "code",
   "execution_count": 20,
   "metadata": {
    "ExecuteTime": {
     "end_time": "2021-06-05T15:09:05.930442Z",
     "start_time": "2021-06-05T15:09:05.494585Z"
    }
   },
   "outputs": [
    {
     "data": {
      "text/plain": [
       "<AxesSubplot:>"
      ]
     },
     "execution_count": 20,
     "metadata": {},
     "output_type": "execute_result"
    },
    {
     "data": {
      "image/png": "[encoded data removed]",
      "text/plain": [
       "<Figure size 432x288 with 1 Axes>"
      ]
     },
     "metadata": {
      "needs_background": "light"
     },
     "output_type": "display_data"
    }
   ],
   "source": [
    "user['country'].hist()"
   ]
  },
  {
   "cell_type": "code",
   "execution_count": 21,
   "metadata": {
    "ExecuteTime": {
     "end_time": "2021-06-05T15:09:07.307212Z",
     "start_time": "2021-06-05T15:09:05.935447Z"
    }
   },
   "outputs": [],
   "source": [
    "user['user_segment']=user['user_segment'].str.replace('segment_','').astype(int)"
   ]
  },
  {
   "cell_type": "code",
   "execution_count": 22,
   "metadata": {
    "ExecuteTime": {
     "end_time": "2021-06-05T15:09:07.370037Z",
     "start_time": "2021-06-05T15:09:07.310176Z"
    }
   },
   "outputs": [
    {
     "data": {
      "text/plain": [
       "array([2, 1, 4, 3, 0, 5])"
      ]
     },
     "execution_count": 22,
     "metadata": {},
     "output_type": "execute_result"
    }
   ],
   "source": [
    "pd.unique(user['user_segment'])"
   ]
  },
  {
   "cell_type": "code",
   "execution_count": 23,
   "metadata": {
    "ExecuteTime": {
     "end_time": "2021-06-05T15:09:07.418035Z",
     "start_time": "2021-06-05T15:09:07.373037Z"
    }
   },
   "outputs": [
    {
     "data": {
      "text/html": [
       "<div>\n",
       "<style scoped>\n",
       "    .dataframe tbody tr th:only-of-type {\n",
       "        vertical-align: middle;\n",
       "    }\n",
       "\n",
       "    .dataframe tbody tr th {\n",
       "        vertical-align: top;\n",
       "    }\n",
       "\n",
       "    .dataframe thead th {\n",
       "        text-align: right;\n",
       "    }\n",
       "</style>\n",
       "<table border=\"1\" class=\"dataframe\">\n",
       "  <thead>\n",
       "    <tr style=\"text-align: right;\">\n",
       "      <th></th>\n",
       "      <th>user_id</th>\n",
       "      <th>brand_id</th>\n",
       "      <th>platform</th>\n",
       "      <th>country</th>\n",
       "      <th>user_segment</th>\n",
       "      <th>purchase_date</th>\n",
       "      <th>perc_sale</th>\n",
       "    </tr>\n",
       "  </thead>\n",
       "  <tbody>\n",
       "    <tr>\n",
       "      <th>0</th>\n",
       "      <td>65b4c425c57d4d5cd6a09b6721f76dfe76fca72000a58a...</td>\n",
       "      <td>92850413</td>\n",
       "      <td>35279833</td>\n",
       "      <td>76</td>\n",
       "      <td>2</td>\n",
       "      <td>154</td>\n",
       "      <td>0.0</td>\n",
       "    </tr>\n",
       "    <tr>\n",
       "      <th>1</th>\n",
       "      <td>e45ae0e683895ab429483c3aaeba836c9e6904692daeba...</td>\n",
       "      <td>59833398</td>\n",
       "      <td>35279833</td>\n",
       "      <td>144</td>\n",
       "      <td>1</td>\n",
       "      <td>114</td>\n",
       "      <td>0.0</td>\n",
       "    </tr>\n",
       "    <tr>\n",
       "      <th>2</th>\n",
       "      <td>ab112830f538338e386af96be442ea1d9e81d76fabc17b...</td>\n",
       "      <td>72430441</td>\n",
       "      <td>35279833</td>\n",
       "      <td>35</td>\n",
       "      <td>4</td>\n",
       "      <td>204</td>\n",
       "      <td>(25, 50]</td>\n",
       "    </tr>\n",
       "    <tr>\n",
       "      <th>3</th>\n",
       "      <td>577321c8f3b5bff9e5470184606207ed04edc14a82f706...</td>\n",
       "      <td>29631653</td>\n",
       "      <td>82921252</td>\n",
       "      <td>177</td>\n",
       "      <td>3</td>\n",
       "      <td>139</td>\n",
       "      <td>(25, 50]</td>\n",
       "    </tr>\n",
       "    <tr>\n",
       "      <th>4</th>\n",
       "      <td>75624f1d112034145f181fb895479093f94ea2a7de0e48...</td>\n",
       "      <td>50327475</td>\n",
       "      <td>35279833</td>\n",
       "      <td>125</td>\n",
       "      <td>0</td>\n",
       "      <td>170</td>\n",
       "      <td>0.0</td>\n",
       "    </tr>\n",
       "    <tr>\n",
       "      <th>...</th>\n",
       "      <td>...</td>\n",
       "      <td>...</td>\n",
       "      <td>...</td>\n",
       "      <td>...</td>\n",
       "      <td>...</td>\n",
       "      <td>...</td>\n",
       "      <td>...</td>\n",
       "    </tr>\n",
       "    <tr>\n",
       "      <th>846485</th>\n",
       "      <td>aa0ba83af14b4314c75e427e060aad6305f02165554a56...</td>\n",
       "      <td>31881992</td>\n",
       "      <td>35279833</td>\n",
       "      <td>90</td>\n",
       "      <td>4</td>\n",
       "      <td>94</td>\n",
       "      <td>0.0</td>\n",
       "    </tr>\n",
       "    <tr>\n",
       "      <th>846486</th>\n",
       "      <td>d0d6f479f00b931101cfc8c39d1e80904d39857d72a297...</td>\n",
       "      <td>97883134</td>\n",
       "      <td>59713904</td>\n",
       "      <td>165</td>\n",
       "      <td>2</td>\n",
       "      <td>207</td>\n",
       "      <td>0.0</td>\n",
       "    </tr>\n",
       "    <tr>\n",
       "      <th>846487</th>\n",
       "      <td>97e0c1b8d49f1537cc5784facea8da25281fca40d1cc85...</td>\n",
       "      <td>63078600</td>\n",
       "      <td>59713904</td>\n",
       "      <td>126</td>\n",
       "      <td>2</td>\n",
       "      <td>205</td>\n",
       "      <td>0.0</td>\n",
       "    </tr>\n",
       "    <tr>\n",
       "      <th>846488</th>\n",
       "      <td>bef5df34d2f63ca40b20377a4eabe5948cc074d2edffc8...</td>\n",
       "      <td>48210076</td>\n",
       "      <td>50298854</td>\n",
       "      <td>134</td>\n",
       "      <td>1</td>\n",
       "      <td>63</td>\n",
       "      <td>0.0</td>\n",
       "    </tr>\n",
       "    <tr>\n",
       "      <th>846489</th>\n",
       "      <td>6171f4b7d942b4655842eea27c60efd0ffbd6ea7e3213d...</td>\n",
       "      <td>23752670</td>\n",
       "      <td>59713904</td>\n",
       "      <td>4</td>\n",
       "      <td>4</td>\n",
       "      <td>4</td>\n",
       "      <td>(0, 25]</td>\n",
       "    </tr>\n",
       "  </tbody>\n",
       "</table>\n",
       "<p>846490 rows × 7 columns</p>\n",
       "</div>"
      ],
      "text/plain": [
       "                                                  user_id  brand_id  platform  \\\n",
       "0       65b4c425c57d4d5cd6a09b6721f76dfe76fca72000a58a...  92850413  35279833   \n",
       "1       e45ae0e683895ab429483c3aaeba836c9e6904692daeba...  59833398  35279833   \n",
       "2       ab112830f538338e386af96be442ea1d9e81d76fabc17b...  72430441  35279833   \n",
       "3       577321c8f3b5bff9e5470184606207ed04edc14a82f706...  29631653  82921252   \n",
       "4       75624f1d112034145f181fb895479093f94ea2a7de0e48...  50327475  35279833   \n",
       "...                                                   ...       ...       ...   \n",
       "846485  aa0ba83af14b4314c75e427e060aad6305f02165554a56...  31881992  35279833   \n",
       "846486  d0d6f479f00b931101cfc8c39d1e80904d39857d72a297...  97883134  59713904   \n",
       "846487  97e0c1b8d49f1537cc5784facea8da25281fca40d1cc85...  63078600  59713904   \n",
       "846488  bef5df34d2f63ca40b20377a4eabe5948cc074d2edffc8...  48210076  50298854   \n",
       "846489  6171f4b7d942b4655842eea27c60efd0ffbd6ea7e3213d...  23752670  59713904   \n",
       "\n",
       "        country  user_segment  purchase_date perc_sale  \n",
       "0            76             2            154       0.0  \n",
       "1           144             1            114       0.0  \n",
       "2            35             4            204  (25, 50]  \n",
       "3           177             3            139  (25, 50]  \n",
       "4           125             0            170       0.0  \n",
       "...         ...           ...            ...       ...  \n",
       "846485       90             4             94       0.0  \n",
       "846486      165             2            207       0.0  \n",
       "846487      126             2            205       0.0  \n",
       "846488      134             1             63       0.0  \n",
       "846489        4             4              4   (0, 25]  \n",
       "\n",
       "[846490 rows x 7 columns]"
      ]
     },
     "execution_count": 23,
     "metadata": {},
     "output_type": "execute_result"
    }
   ],
   "source": [
    "user"
   ]
  },
  {
   "cell_type": "code",
   "execution_count": 24,
   "metadata": {
    "ExecuteTime": {
     "end_time": "2021-06-05T15:09:07.984498Z",
     "start_time": "2021-06-05T15:09:07.421034Z"
    }
   },
   "outputs": [
    {
     "data": {
      "text/plain": [
       "<AxesSubplot:>"
      ]
     },
     "execution_count": 24,
     "metadata": {},
     "output_type": "execute_result"
    },
    {
     "data": {
      "image/png": "[encoded data removed]",
      "text/plain": [
       "<Figure size 432x288 with 1 Axes>"
      ]
     },
     "metadata": {
      "needs_background": "light"
     },
     "output_type": "display_data"
    }
   ],
   "source": [
    "user['brand_id'].hist(bins='auto')"
   ]
  },
  {
   "cell_type": "code",
   "execution_count": 25,
   "metadata": {
    "ExecuteTime": {
     "end_time": "2021-06-05T15:09:08.754696Z",
     "start_time": "2021-06-05T15:09:07.986819Z"
    }
   },
   "outputs": [
    {
     "data": {
      "text/plain": [
       "<AxesSubplot:>"
      ]
     },
     "execution_count": 25,
     "metadata": {},
     "output_type": "execute_result"
    },
    {
     "data": {
      "image/png": "[encoded data removed]",
      "text/plain": [
       "<Figure size 432x288 with 1 Axes>"
      ]
     },
     "metadata": {
      "needs_background": "light"
     },
     "output_type": "display_data"
    }
   ],
   "source": [
    "user['platform'].hist(bins='auto')"
   ]
  },
  {
   "cell_type": "markdown",
   "metadata": {},
   "source": [
    "After this, we had to deal with the \"perc\\_sale\" variable which has some values that are a string of an interval between two integers, for example, '(25,50]'. The other attributed values are the string '0.0'. We decided to substitute these intervals by an integer that was the mean of the interval and the '0.0' by the integer 0. Thus, the value '(25,50]' was changed to the integer 37.5."
   ]
  },
  {
   "cell_type": "code",
   "execution_count": 26,
   "metadata": {
    "ExecuteTime": {
     "end_time": "2021-06-05T15:09:08.879690Z",
     "start_time": "2021-06-05T15:09:08.760698Z"
    }
   },
   "outputs": [
    {
     "data": {
      "text/plain": [
       "array(['0.0', '(25, 50]', '(0, 25]', '(50, 75]', '(75, 100]'],\n",
       "      dtype=object)"
      ]
     },
     "execution_count": 26,
     "metadata": {},
     "output_type": "execute_result"
    }
   ],
   "source": [
    "pd.unique(user['perc_sale'])"
   ]
  },
  {
   "cell_type": "code",
   "execution_count": 27,
   "metadata": {
    "ExecuteTime": {
     "end_time": "2021-06-05T15:09:09.023696Z",
     "start_time": "2021-06-05T15:09:08.883697Z"
    }
   },
   "outputs": [],
   "source": [
    "user.loc[user['perc_sale']=='0.0','perc_sale']=0"
   ]
  },
  {
   "cell_type": "code",
   "execution_count": 28,
   "metadata": {
    "ExecuteTime": {
     "end_time": "2021-06-05T15:09:09.087697Z",
     "start_time": "2021-06-05T15:09:09.026727Z"
    }
   },
   "outputs": [
    {
     "data": {
      "text/plain": [
       "array([0, '(25, 50]', '(0, 25]', '(50, 75]', '(75, 100]'], dtype=object)"
      ]
     },
     "execution_count": 28,
     "metadata": {},
     "output_type": "execute_result"
    }
   ],
   "source": [
    "pd.unique(user['perc_sale'])"
   ]
  },
  {
   "cell_type": "code",
   "execution_count": 29,
   "metadata": {
    "ExecuteTime": {
     "end_time": "2021-06-05T15:09:12.093554Z",
     "start_time": "2021-06-05T15:09:09.091695Z"
    }
   },
   "outputs": [
    {
     "name": "stderr",
     "output_type": "stream",
     "text": [
      "C:\\Users\\Fnac\\Anaconda3\\envs\\r-tutorial\\lib\\site-packages\\ipykernel_launcher.py:1: FutureWarning: The default value of regex will change from True to False in a future version. In addition, single character regular expressions will*not* be treated as literal strings when regex=True.\n",
      "  \"\"\"Entry point for launching an IPython kernel.\n"
     ]
    }
   ],
   "source": [
    "user.loc[user['perc_sale']!= 0,'perc_sale'] = user.loc[user['perc_sale']!=0,'perc_sale'].str.replace('(','').str.replace(']','').str.split(',').apply(lambda x: (int(x[0])+int(x[1]))/2)"
   ]
  },
  {
   "cell_type": "code",
   "execution_count": 30,
   "metadata": {
    "ExecuteTime": {
     "end_time": "2021-06-05T15:09:12.154882Z",
     "start_time": "2021-06-05T15:09:12.093554Z"
    }
   },
   "outputs": [
    {
     "data": {
      "text/html": [
       "<div>\n",
       "<style scoped>\n",
       "    .dataframe tbody tr th:only-of-type {\n",
       "        vertical-align: middle;\n",
       "    }\n",
       "\n",
       "    .dataframe tbody tr th {\n",
       "        vertical-align: top;\n",
       "    }\n",
       "\n",
       "    .dataframe thead th {\n",
       "        text-align: right;\n",
       "    }\n",
       "</style>\n",
       "<table border=\"1\" class=\"dataframe\">\n",
       "  <thead>\n",
       "    <tr style=\"text-align: right;\">\n",
       "      <th></th>\n",
       "      <th>user_id</th>\n",
       "      <th>brand_id</th>\n",
       "      <th>platform</th>\n",
       "      <th>country</th>\n",
       "      <th>user_segment</th>\n",
       "      <th>purchase_date</th>\n",
       "      <th>perc_sale</th>\n",
       "    </tr>\n",
       "  </thead>\n",
       "  <tbody>\n",
       "    <tr>\n",
       "      <th>0</th>\n",
       "      <td>65b4c425c57d4d5cd6a09b6721f76dfe76fca72000a58a...</td>\n",
       "      <td>92850413</td>\n",
       "      <td>35279833</td>\n",
       "      <td>76</td>\n",
       "      <td>2</td>\n",
       "      <td>154</td>\n",
       "      <td>0</td>\n",
       "    </tr>\n",
       "    <tr>\n",
       "      <th>1</th>\n",
       "      <td>e45ae0e683895ab429483c3aaeba836c9e6904692daeba...</td>\n",
       "      <td>59833398</td>\n",
       "      <td>35279833</td>\n",
       "      <td>144</td>\n",
       "      <td>1</td>\n",
       "      <td>114</td>\n",
       "      <td>0</td>\n",
       "    </tr>\n",
       "    <tr>\n",
       "      <th>2</th>\n",
       "      <td>ab112830f538338e386af96be442ea1d9e81d76fabc17b...</td>\n",
       "      <td>72430441</td>\n",
       "      <td>35279833</td>\n",
       "      <td>35</td>\n",
       "      <td>4</td>\n",
       "      <td>204</td>\n",
       "      <td>37.5</td>\n",
       "    </tr>\n",
       "    <tr>\n",
       "      <th>3</th>\n",
       "      <td>577321c8f3b5bff9e5470184606207ed04edc14a82f706...</td>\n",
       "      <td>29631653</td>\n",
       "      <td>82921252</td>\n",
       "      <td>177</td>\n",
       "      <td>3</td>\n",
       "      <td>139</td>\n",
       "      <td>37.5</td>\n",
       "    </tr>\n",
       "    <tr>\n",
       "      <th>4</th>\n",
       "      <td>75624f1d112034145f181fb895479093f94ea2a7de0e48...</td>\n",
       "      <td>50327475</td>\n",
       "      <td>35279833</td>\n",
       "      <td>125</td>\n",
       "      <td>0</td>\n",
       "      <td>170</td>\n",
       "      <td>0</td>\n",
       "    </tr>\n",
       "    <tr>\n",
       "      <th>...</th>\n",
       "      <td>...</td>\n",
       "      <td>...</td>\n",
       "      <td>...</td>\n",
       "      <td>...</td>\n",
       "      <td>...</td>\n",
       "      <td>...</td>\n",
       "      <td>...</td>\n",
       "    </tr>\n",
       "    <tr>\n",
       "      <th>846485</th>\n",
       "      <td>aa0ba83af14b4314c75e427e060aad6305f02165554a56...</td>\n",
       "      <td>31881992</td>\n",
       "      <td>35279833</td>\n",
       "      <td>90</td>\n",
       "      <td>4</td>\n",
       "      <td>94</td>\n",
       "      <td>0</td>\n",
       "    </tr>\n",
       "    <tr>\n",
       "      <th>846486</th>\n",
       "      <td>d0d6f479f00b931101cfc8c39d1e80904d39857d72a297...</td>\n",
       "      <td>97883134</td>\n",
       "      <td>59713904</td>\n",
       "      <td>165</td>\n",
       "      <td>2</td>\n",
       "      <td>207</td>\n",
       "      <td>0</td>\n",
       "    </tr>\n",
       "    <tr>\n",
       "      <th>846487</th>\n",
       "      <td>97e0c1b8d49f1537cc5784facea8da25281fca40d1cc85...</td>\n",
       "      <td>63078600</td>\n",
       "      <td>59713904</td>\n",
       "      <td>126</td>\n",
       "      <td>2</td>\n",
       "      <td>205</td>\n",
       "      <td>0</td>\n",
       "    </tr>\n",
       "    <tr>\n",
       "      <th>846488</th>\n",
       "      <td>bef5df34d2f63ca40b20377a4eabe5948cc074d2edffc8...</td>\n",
       "      <td>48210076</td>\n",
       "      <td>50298854</td>\n",
       "      <td>134</td>\n",
       "      <td>1</td>\n",
       "      <td>63</td>\n",
       "      <td>0</td>\n",
       "    </tr>\n",
       "    <tr>\n",
       "      <th>846489</th>\n",
       "      <td>6171f4b7d942b4655842eea27c60efd0ffbd6ea7e3213d...</td>\n",
       "      <td>23752670</td>\n",
       "      <td>59713904</td>\n",
       "      <td>4</td>\n",
       "      <td>4</td>\n",
       "      <td>4</td>\n",
       "      <td>12.5</td>\n",
       "    </tr>\n",
       "  </tbody>\n",
       "</table>\n",
       "<p>846490 rows × 7 columns</p>\n",
       "</div>"
      ],
      "text/plain": [
       "                                                  user_id  brand_id  platform  \\\n",
       "0       65b4c425c57d4d5cd6a09b6721f76dfe76fca72000a58a...  92850413  35279833   \n",
       "1       e45ae0e683895ab429483c3aaeba836c9e6904692daeba...  59833398  35279833   \n",
       "2       ab112830f538338e386af96be442ea1d9e81d76fabc17b...  72430441  35279833   \n",
       "3       577321c8f3b5bff9e5470184606207ed04edc14a82f706...  29631653  82921252   \n",
       "4       75624f1d112034145f181fb895479093f94ea2a7de0e48...  50327475  35279833   \n",
       "...                                                   ...       ...       ...   \n",
       "846485  aa0ba83af14b4314c75e427e060aad6305f02165554a56...  31881992  35279833   \n",
       "846486  d0d6f479f00b931101cfc8c39d1e80904d39857d72a297...  97883134  59713904   \n",
       "846487  97e0c1b8d49f1537cc5784facea8da25281fca40d1cc85...  63078600  59713904   \n",
       "846488  bef5df34d2f63ca40b20377a4eabe5948cc074d2edffc8...  48210076  50298854   \n",
       "846489  6171f4b7d942b4655842eea27c60efd0ffbd6ea7e3213d...  23752670  59713904   \n",
       "\n",
       "        country  user_segment  purchase_date perc_sale  \n",
       "0            76             2            154         0  \n",
       "1           144             1            114         0  \n",
       "2            35             4            204      37.5  \n",
       "3           177             3            139      37.5  \n",
       "4           125             0            170         0  \n",
       "...         ...           ...            ...       ...  \n",
       "846485       90             4             94         0  \n",
       "846486      165             2            207         0  \n",
       "846487      126             2            205         0  \n",
       "846488      134             1             63         0  \n",
       "846489        4             4              4      12.5  \n",
       "\n",
       "[846490 rows x 7 columns]"
      ]
     },
     "execution_count": 30,
     "metadata": {},
     "output_type": "execute_result"
    }
   ],
   "source": [
    "user"
   ]
  },
  {
   "cell_type": "code",
   "execution_count": 31,
   "metadata": {
    "ExecuteTime": {
     "end_time": "2021-06-05T15:13:13.166890Z",
     "start_time": "2021-06-05T15:09:12.157880Z"
    }
   },
   "outputs": [
    {
     "data": {
      "text/plain": [
       "array([[<AxesSubplot:xlabel='brand_id', ylabel='brand_id'>,\n",
       "        <AxesSubplot:xlabel='platform', ylabel='brand_id'>,\n",
       "        <AxesSubplot:xlabel='country', ylabel='brand_id'>,\n",
       "        <AxesSubplot:xlabel='user_segment', ylabel='brand_id'>,\n",
       "        <AxesSubplot:xlabel='purchase_date', ylabel='brand_id'>],\n",
       "       [<AxesSubplot:xlabel='brand_id', ylabel='platform'>,\n",
       "        <AxesSubplot:xlabel='platform', ylabel='platform'>,\n",
       "        <AxesSubplot:xlabel='country', ylabel='platform'>,\n",
       "        <AxesSubplot:xlabel='user_segment', ylabel='platform'>,\n",
       "        <AxesSubplot:xlabel='purchase_date', ylabel='platform'>],\n",
       "       [<AxesSubplot:xlabel='brand_id', ylabel='country'>,\n",
       "        <AxesSubplot:xlabel='platform', ylabel='country'>,\n",
       "        <AxesSubplot:xlabel='country', ylabel='country'>,\n",
       "        <AxesSubplot:xlabel='user_segment', ylabel='country'>,\n",
       "        <AxesSubplot:xlabel='purchase_date', ylabel='country'>],\n",
       "       [<AxesSubplot:xlabel='brand_id', ylabel='user_segment'>,\n",
       "        <AxesSubplot:xlabel='platform', ylabel='user_segment'>,\n",
       "        <AxesSubplot:xlabel='country', ylabel='user_segment'>,\n",
       "        <AxesSubplot:xlabel='user_segment', ylabel='user_segment'>,\n",
       "        <AxesSubplot:xlabel='purchase_date', ylabel='user_segment'>],\n",
       "       [<AxesSubplot:xlabel='brand_id', ylabel='purchase_date'>,\n",
       "        <AxesSubplot:xlabel='platform', ylabel='purchase_date'>,\n",
       "        <AxesSubplot:xlabel='country', ylabel='purchase_date'>,\n",
       "        <AxesSubplot:xlabel='user_segment', ylabel='purchase_date'>,\n",
       "        <AxesSubplot:xlabel='purchase_date', ylabel='purchase_date'>]],\n",
       "      dtype=object)"
      ]
     },
     "execution_count": 31,
     "metadata": {},
     "output_type": "execute_result"
    },
    {
     "data": {
      "image/png": "[encoded data removed]",
      "text/plain": [
       "<Figure size 1152x576 with 25 Axes>"
      ]
     },
     "metadata": {
      "needs_background": "light"
     },
     "output_type": "display_data"
    }
   ],
   "source": [
    "pd.plotting.scatter_matrix(user.drop(columns='user_id'),figsize = (16,8))"
   ]
  },
  {
   "cell_type": "markdown",
   "metadata": {},
   "source": [
    "Since we are trying to understand the rules that can allow us to make predictions, it is fair to trim the dataset by virtue of eliminating the users that perform the least number of purchases. In our project we discard the users that perform less than 6 purchases.\n",
    "\n",
    "Since the data is, as mentioned above, encrypted, we can't perform qualitative analysis on the features of the users in our dataset, but we can say:\n",
    "\n",
    "->There are 12 different platforms; but most of the purchases are made in two of them;\n",
    "\n",
    "->Most of the purchases are either performed with no discount (45,3$\\%$) or with a discount of [25,50]$\\%$ (38,0$\\%$);"
   ]
  },
  {
   "cell_type": "code",
   "execution_count": 32,
   "metadata": {
    "ExecuteTime": {
     "end_time": "2021-06-05T15:13:13.198892Z",
     "start_time": "2021-06-05T15:13:13.171890Z"
    }
   },
   "outputs": [
    {
     "data": {
      "text/html": [
       "<div>\n",
       "<style scoped>\n",
       "    .dataframe tbody tr th:only-of-type {\n",
       "        vertical-align: middle;\n",
       "    }\n",
       "\n",
       "    .dataframe tbody tr th {\n",
       "        vertical-align: top;\n",
       "    }\n",
       "\n",
       "    .dataframe thead th {\n",
       "        text-align: right;\n",
       "    }\n",
       "</style>\n",
       "<table border=\"1\" class=\"dataframe\">\n",
       "  <thead>\n",
       "    <tr style=\"text-align: right;\">\n",
       "      <th></th>\n",
       "      <th>brand_id</th>\n",
       "      <th>features</th>\n",
       "    </tr>\n",
       "  </thead>\n",
       "  <tbody>\n",
       "    <tr>\n",
       "      <th>0</th>\n",
       "      <td>79343398</td>\n",
       "      <td>[ 1.91358113e+00  3.43185329e+00  1.21365225e+...</td>\n",
       "    </tr>\n",
       "    <tr>\n",
       "      <th>1</th>\n",
       "      <td>31216129</td>\n",
       "      <td>[ 3.17424983e-02 -4.59801525e-01  6.14280820e-...</td>\n",
       "    </tr>\n",
       "    <tr>\n",
       "      <th>2</th>\n",
       "      <td>65961969</td>\n",
       "      <td>[-0.22207394 -0.01656507 -0.09216249  0.039823...</td>\n",
       "    </tr>\n",
       "    <tr>\n",
       "      <th>3</th>\n",
       "      <td>11870478</td>\n",
       "      <td>[ 0.01922642 -0.07236854 -0.04028177  0.023201...</td>\n",
       "    </tr>\n",
       "    <tr>\n",
       "      <th>4</th>\n",
       "      <td>92645240</td>\n",
       "      <td>[ 0.12865387 -0.44646788 -0.90568423 -0.486786...</td>\n",
       "    </tr>\n",
       "    <tr>\n",
       "      <th>...</th>\n",
       "      <td>...</td>\n",
       "      <td>...</td>\n",
       "    </tr>\n",
       "    <tr>\n",
       "      <th>1810</th>\n",
       "      <td>88444677</td>\n",
       "      <td>[-1.00042522e-01  2.80876663e-02 -4.39237833e-...</td>\n",
       "    </tr>\n",
       "    <tr>\n",
       "      <th>1811</th>\n",
       "      <td>38129575</td>\n",
       "      <td>[-0.48134992  0.03621267 -1.34484553  0.417581...</td>\n",
       "    </tr>\n",
       "    <tr>\n",
       "      <th>1812</th>\n",
       "      <td>79169192</td>\n",
       "      <td>[ 0.41123554 -0.25272626 -0.54311454  0.426929...</td>\n",
       "    </tr>\n",
       "    <tr>\n",
       "      <th>1813</th>\n",
       "      <td>67279918</td>\n",
       "      <td>[ 0.01315027  0.04131372 -0.29090327  0.128389...</td>\n",
       "    </tr>\n",
       "    <tr>\n",
       "      <th>1814</th>\n",
       "      <td>20435324</td>\n",
       "      <td>[ 2.92118657e-02  6.55635297e-02 -2.01024532e-...</td>\n",
       "    </tr>\n",
       "  </tbody>\n",
       "</table>\n",
       "<p>1815 rows × 2 columns</p>\n",
       "</div>"
      ],
      "text/plain": [
       "      brand_id                                           features\n",
       "0     79343398  [ 1.91358113e+00  3.43185329e+00  1.21365225e+...\n",
       "1     31216129  [ 3.17424983e-02 -4.59801525e-01  6.14280820e-...\n",
       "2     65961969  [-0.22207394 -0.01656507 -0.09216249  0.039823...\n",
       "3     11870478  [ 0.01922642 -0.07236854 -0.04028177  0.023201...\n",
       "4     92645240  [ 0.12865387 -0.44646788 -0.90568423 -0.486786...\n",
       "...        ...                                                ...\n",
       "1810  88444677  [-1.00042522e-01  2.80876663e-02 -4.39237833e-...\n",
       "1811  38129575  [-0.48134992  0.03621267 -1.34484553  0.417581...\n",
       "1812  79169192  [ 0.41123554 -0.25272626 -0.54311454  0.426929...\n",
       "1813  67279918  [ 0.01315027  0.04131372 -0.29090327  0.128389...\n",
       "1814  20435324  [ 2.92118657e-02  6.55635297e-02 -2.01024532e-...\n",
       "\n",
       "[1815 rows x 2 columns]"
      ]
     },
     "execution_count": 32,
     "metadata": {},
     "output_type": "execute_result"
    }
   ],
   "source": [
    "brand"
   ]
  },
  {
   "cell_type": "code",
   "execution_count": 33,
   "metadata": {
    "ExecuteTime": {
     "end_time": "2021-06-05T15:13:22.058547Z",
     "start_time": "2021-06-05T15:13:13.202896Z"
    }
   },
   "outputs": [],
   "source": [
    "user.to_csv('new_user.csv', index = False)"
   ]
  },
  {
   "cell_type": "code",
   "execution_count": 34,
   "metadata": {
    "ExecuteTime": {
     "end_time": "2021-06-05T15:13:24.840098Z",
     "start_time": "2021-06-05T15:13:22.062552Z"
    }
   },
   "outputs": [
    {
     "data": {
      "text/html": [
       "<div>\n",
       "<style scoped>\n",
       "    .dataframe tbody tr th:only-of-type {\n",
       "        vertical-align: middle;\n",
       "    }\n",
       "\n",
       "    .dataframe tbody tr th {\n",
       "        vertical-align: top;\n",
       "    }\n",
       "\n",
       "    .dataframe thead th {\n",
       "        text-align: right;\n",
       "    }\n",
       "</style>\n",
       "<table border=\"1\" class=\"dataframe\">\n",
       "  <thead>\n",
       "    <tr style=\"text-align: right;\">\n",
       "      <th></th>\n",
       "      <th>user_id</th>\n",
       "      <th>brand_id</th>\n",
       "      <th>platform</th>\n",
       "      <th>country</th>\n",
       "      <th>user_segment</th>\n",
       "      <th>purchase_date</th>\n",
       "      <th>perc_sale</th>\n",
       "    </tr>\n",
       "  </thead>\n",
       "  <tbody>\n",
       "    <tr>\n",
       "      <th>0</th>\n",
       "      <td>65b4c425c57d4d5cd6a09b6721f76dfe76fca72000a58a...</td>\n",
       "      <td>92850413</td>\n",
       "      <td>35279833</td>\n",
       "      <td>76</td>\n",
       "      <td>2</td>\n",
       "      <td>154</td>\n",
       "      <td>0.0</td>\n",
       "    </tr>\n",
       "    <tr>\n",
       "      <th>1</th>\n",
       "      <td>e45ae0e683895ab429483c3aaeba836c9e6904692daeba...</td>\n",
       "      <td>59833398</td>\n",
       "      <td>35279833</td>\n",
       "      <td>144</td>\n",
       "      <td>1</td>\n",
       "      <td>114</td>\n",
       "      <td>0.0</td>\n",
       "    </tr>\n",
       "    <tr>\n",
       "      <th>2</th>\n",
       "      <td>ab112830f538338e386af96be442ea1d9e81d76fabc17b...</td>\n",
       "      <td>72430441</td>\n",
       "      <td>35279833</td>\n",
       "      <td>35</td>\n",
       "      <td>4</td>\n",
       "      <td>204</td>\n",
       "      <td>37.5</td>\n",
       "    </tr>\n",
       "    <tr>\n",
       "      <th>3</th>\n",
       "      <td>577321c8f3b5bff9e5470184606207ed04edc14a82f706...</td>\n",
       "      <td>29631653</td>\n",
       "      <td>82921252</td>\n",
       "      <td>177</td>\n",
       "      <td>3</td>\n",
       "      <td>139</td>\n",
       "      <td>37.5</td>\n",
       "    </tr>\n",
       "    <tr>\n",
       "      <th>4</th>\n",
       "      <td>75624f1d112034145f181fb895479093f94ea2a7de0e48...</td>\n",
       "      <td>50327475</td>\n",
       "      <td>35279833</td>\n",
       "      <td>125</td>\n",
       "      <td>0</td>\n",
       "      <td>170</td>\n",
       "      <td>0.0</td>\n",
       "    </tr>\n",
       "    <tr>\n",
       "      <th>...</th>\n",
       "      <td>...</td>\n",
       "      <td>...</td>\n",
       "      <td>...</td>\n",
       "      <td>...</td>\n",
       "      <td>...</td>\n",
       "      <td>...</td>\n",
       "      <td>...</td>\n",
       "    </tr>\n",
       "    <tr>\n",
       "      <th>846485</th>\n",
       "      <td>aa0ba83af14b4314c75e427e060aad6305f02165554a56...</td>\n",
       "      <td>31881992</td>\n",
       "      <td>35279833</td>\n",
       "      <td>90</td>\n",
       "      <td>4</td>\n",
       "      <td>94</td>\n",
       "      <td>0.0</td>\n",
       "    </tr>\n",
       "    <tr>\n",
       "      <th>846486</th>\n",
       "      <td>d0d6f479f00b931101cfc8c39d1e80904d39857d72a297...</td>\n",
       "      <td>97883134</td>\n",
       "      <td>59713904</td>\n",
       "      <td>165</td>\n",
       "      <td>2</td>\n",
       "      <td>207</td>\n",
       "      <td>0.0</td>\n",
       "    </tr>\n",
       "    <tr>\n",
       "      <th>846487</th>\n",
       "      <td>97e0c1b8d49f1537cc5784facea8da25281fca40d1cc85...</td>\n",
       "      <td>63078600</td>\n",
       "      <td>59713904</td>\n",
       "      <td>126</td>\n",
       "      <td>2</td>\n",
       "      <td>205</td>\n",
       "      <td>0.0</td>\n",
       "    </tr>\n",
       "    <tr>\n",
       "      <th>846488</th>\n",
       "      <td>bef5df34d2f63ca40b20377a4eabe5948cc074d2edffc8...</td>\n",
       "      <td>48210076</td>\n",
       "      <td>50298854</td>\n",
       "      <td>134</td>\n",
       "      <td>1</td>\n",
       "      <td>63</td>\n",
       "      <td>0.0</td>\n",
       "    </tr>\n",
       "    <tr>\n",
       "      <th>846489</th>\n",
       "      <td>6171f4b7d942b4655842eea27c60efd0ffbd6ea7e3213d...</td>\n",
       "      <td>23752670</td>\n",
       "      <td>59713904</td>\n",
       "      <td>4</td>\n",
       "      <td>4</td>\n",
       "      <td>4</td>\n",
       "      <td>12.5</td>\n",
       "    </tr>\n",
       "  </tbody>\n",
       "</table>\n",
       "<p>846490 rows × 7 columns</p>\n",
       "</div>"
      ],
      "text/plain": [
       "                                                  user_id  brand_id  platform  \\\n",
       "0       65b4c425c57d4d5cd6a09b6721f76dfe76fca72000a58a...  92850413  35279833   \n",
       "1       e45ae0e683895ab429483c3aaeba836c9e6904692daeba...  59833398  35279833   \n",
       "2       ab112830f538338e386af96be442ea1d9e81d76fabc17b...  72430441  35279833   \n",
       "3       577321c8f3b5bff9e5470184606207ed04edc14a82f706...  29631653  82921252   \n",
       "4       75624f1d112034145f181fb895479093f94ea2a7de0e48...  50327475  35279833   \n",
       "...                                                   ...       ...       ...   \n",
       "846485  aa0ba83af14b4314c75e427e060aad6305f02165554a56...  31881992  35279833   \n",
       "846486  d0d6f479f00b931101cfc8c39d1e80904d39857d72a297...  97883134  59713904   \n",
       "846487  97e0c1b8d49f1537cc5784facea8da25281fca40d1cc85...  63078600  59713904   \n",
       "846488  bef5df34d2f63ca40b20377a4eabe5948cc074d2edffc8...  48210076  50298854   \n",
       "846489  6171f4b7d942b4655842eea27c60efd0ffbd6ea7e3213d...  23752670  59713904   \n",
       "\n",
       "        country  user_segment  purchase_date  perc_sale  \n",
       "0            76             2            154        0.0  \n",
       "1           144             1            114        0.0  \n",
       "2            35             4            204       37.5  \n",
       "3           177             3            139       37.5  \n",
       "4           125             0            170        0.0  \n",
       "...         ...           ...            ...        ...  \n",
       "846485       90             4             94        0.0  \n",
       "846486      165             2            207        0.0  \n",
       "846487      126             2            205        0.0  \n",
       "846488      134             1             63        0.0  \n",
       "846489        4             4              4       12.5  \n",
       "\n",
       "[846490 rows x 7 columns]"
      ]
     },
     "execution_count": 34,
     "metadata": {},
     "output_type": "execute_result"
    }
   ],
   "source": [
    "newuser = pd.read_csv('new_user.csv')\n",
    "newuser"
   ]
  },
  {
   "cell_type": "code",
   "execution_count": 35,
   "metadata": {
    "ExecuteTime": {
     "end_time": "2021-06-05T15:13:27.613437Z",
     "start_time": "2021-06-05T15:13:24.843102Z"
    }
   },
   "outputs": [],
   "source": [
    "df = pd.read_csv(\"new_user.csv\") #Importing the csv file "
   ]
  },
  {
   "cell_type": "markdown",
   "metadata": {},
   "source": [
    "Afterwards, we noted that the values assigned to the variable user\\_id were strings with many characters. This big number of characters is certainly due to an encryption method used by the company to rightly protected the privacy of their customers but it is unnecessary for us and, above all, computationally disadvantageous to have so much memory being used unnecessarily. For that reason we wrote a Python routine to replace the big strings by integers from 0 to 846490 which is the total number of unique users. We made sure to correctly attribute the same number to every occurrence of the same user maintaining this way the integrity of our dataset. "
   ]
  },
  {
   "cell_type": "code",
   "execution_count": 45,
   "metadata": {
    "ExecuteTime": {
     "end_time": "2021-06-05T15:15:00.344368Z",
     "start_time": "2021-06-05T15:14:52.746211Z"
    }
   },
   "outputs": [],
   "source": [
    "df_sort =  df.sort_values(['user_id'])\n",
    "count = df.sort_values(['user_id']).groupby(['user_id']).count()['brand_id']\n",
    "count1 = np.array(count)"
   ]
  },
  {
   "cell_type": "code",
   "execution_count": 46,
   "metadata": {
    "ExecuteTime": {
     "end_time": "2021-06-05T15:15:00.359402Z",
     "start_time": "2021-06-05T15:15:00.344368Z"
    }
   },
   "outputs": [
    {
     "data": {
      "text/plain": [
       "array([1, 2, 5, ..., 1, 1, 2], dtype=int64)"
      ]
     },
     "execution_count": 46,
     "metadata": {},
     "output_type": "execute_result"
    }
   ],
   "source": [
    "count1"
   ]
  },
  {
   "cell_type": "code",
   "execution_count": 47,
   "metadata": {
    "ExecuteTime": {
     "end_time": "2021-06-05T15:15:00.956354Z",
     "start_time": "2021-06-05T15:15:00.366104Z"
    }
   },
   "outputs": [],
   "source": [
    "users = []                         \n",
    "for i in (range(len(count1))):\n",
    "    for j in range(count1[i]):\n",
    "        users.append(i)"
   ]
  },
  {
   "cell_type": "code",
   "execution_count": 48,
   "metadata": {
    "ExecuteTime": {
     "end_time": "2021-06-05T15:15:01.384756Z",
     "start_time": "2021-06-05T15:15:00.956354Z"
    }
   },
   "outputs": [],
   "source": [
    "df_sort['user_id'] = users"
   ]
  },
  {
   "cell_type": "code",
   "execution_count": 52,
   "metadata": {
    "ExecuteTime": {
     "end_time": "2021-06-05T15:39:53.098753Z",
     "start_time": "2021-06-05T15:39:47.162752Z"
    }
   },
   "outputs": [],
   "source": [
    "df_sort.to_csv('sorted.csv',index=False) #We now save this updated csv for future use"
   ]
  }
 ],
 "metadata": {
  "kernelspec": {
   "display_name": "Python 3",
   "language": "python",
   "name": "python3"
  },
  "language_info": {
   "codemirror_mode": {
    "name": "ipython",
    "version": 3
   },
   "file_extension": ".py",
   "mimetype": "text/x-python",
   "name": "python",
   "nbconvert_exporter": "python",
   "pygments_lexer": "ipython3",
   "version": "3.7.3"
  }
 },
 "nbformat": 4,
 "nbformat_minor": 4
}
